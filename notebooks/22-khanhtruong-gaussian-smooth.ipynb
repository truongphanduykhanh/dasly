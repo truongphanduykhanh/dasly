{
 "cells": [
  {
   "cell_type": "markdown",
   "metadata": {},
   "source": [
    "# Problem"
   ]
  },
  {
   "cell_type": "markdown",
   "metadata": {},
   "source": [
    "Following is sample of raw DAS data.\n",
    "- Horizontal axis is the space (spatial)\n",
    "- Vertial axis is the time (temporal)"
   ]
  },
  {
   "cell_type": "markdown",
   "metadata": {},
   "source": [
    "![alt text](../docs/das-raw.png)"
   ]
  },
  {
   "cell_type": "markdown",
   "metadata": {},
   "source": [
    "We want to design a suitable Gaussian kernel for Gaussian smoothing to hightlight a specific events with predetermined speed in DAS data. Example of Gaussian kernel:"
   ]
  },
  {
   "cell_type": "markdown",
   "metadata": {},
   "source": [
    "![alt text](../docs/kernel.png)"
   ]
  },
  {
   "cell_type": "markdown",
   "metadata": {},
   "source": [
    "____"
   ]
  },
  {
   "cell_type": "markdown",
   "metadata": {},
   "source": [
    "# Idea"
   ]
  },
  {
   "cell_type": "markdown",
   "metadata": {},
   "source": [
    "- Assume the Gaussian kernel has the ellipse shape.\n",
    "- On one hand, the ellipse shape is fully determined by its bounded retangular.\n",
    "- On the other hand, the bounded retangular can be determined by either its two edges AB and BC, or its two diagonal lines AC and BD.\n",
    "- Let AC and BD represent the two speed limits that we desire to highlights in the DAS data.\n",
    "- AC is the upper speed limit (the more horizontal, the faster). BD is the lower speed limit."
   ]
  },
  {
   "cell_type": "markdown",
   "metadata": {},
   "source": [
    "<img src=\"../docs/kernel-shape.png\" alt=\"alt text\" style=\"background-color: white;\" width=\"500\">"
   ]
  },
  {
   "cell_type": "markdown",
   "metadata": {},
   "source": [
    "However, the speed limits only determine the directions of AC and BD. They do not constrain the length of AC and BD. As a result, the size of the retangular is not fixed yet (only similar, not congruent). Below is the demonstration of two similar retangulars ABCD and A'B'C'D'."
   ]
  },
  {
   "cell_type": "markdown",
   "metadata": {},
   "source": [
    "<img src=\"../docs/kernel-shape-elastic.png\" alt=\"alt text\" style=\"background-color: white;\" width=\"500\">"
   ]
  },
  {
   "cell_type": "markdown",
   "metadata": {},
   "source": [
    "Therefore, apart from the speed limits (the direction of AC and BD), it's neccessary to additionally determine the height or the width of the rectangle in order to fix the size of the rectangle."
   ]
  },
  {
   "cell_type": "markdown",
   "metadata": {},
   "source": [
    "<img src=\"../docs/kernel-shape-size.png\" alt=\"alt text\" style=\"background-color: white;\" width=\"500\">"
   ]
  },
  {
   "cell_type": "markdown",
   "metadata": {},
   "source": [
    "______"
   ]
  },
  {
   "cell_type": "markdown",
   "metadata": {},
   "source": [
    "# Theory"
   ]
  },
  {
   "cell_type": "markdown",
   "metadata": {},
   "source": [
    "### 1. Covariance Matrix of a 2D Gaussian Distribution\n",
    "\n",
    "A 2D Gaussian distribution can be characterized by its mean vector and covariance matrix. The covariance matrix $\\Sigma$ of a 2D Gaussian distribution is a $2 \\times 2$ symmetric matrix that describes the variance and the correlation between the two variables $X_1$ and $X_2$:\n",
    "\n",
    "$\n",
    "\\Sigma = \\begin{pmatrix}\n",
    "\\sigma_{X_1}^2 & \\sigma_{X_1 X_2} \\\\\n",
    "\\sigma_{X_1 X_2} & \\sigma_{X_2}^2\n",
    "\\end{pmatrix}\n",
    "$\n",
    "\n",
    "where $\\sigma_{X_1}^2$ and $\\sigma_{X_2}^2$ are the variances of $X_1$ and $X_2$ respectively, and $\\sigma_{X_1 X_2}$ is the covariance between $X_1$ and $X_2$.\n",
    "\n",
    "### 2. Eigenvalues and Eigenvectors\n",
    "\n",
    "For the covariance matrix $\\Sigma$:\n",
    "\n",
    "1. **Eigenvalues**: The eigenvalues $\\lambda_1$ and $\\lambda_2$ are the scalars that satisfy the characteristic equation $\\det(\\Sigma - \\lambda I) = 0$, where $I$ is the identity matrix. The eigenvalues represent the variances along the principal components (directions) of the distribution.\n",
    "\n",
    "2. **Eigenvectors**: The eigenvectors $\\mathbf{v}_1$ and $\\mathbf{v}_2$ corresponding to the eigenvalues $\\lambda_1$ and $\\lambda_2$ are the directions in which these variances occur. These vectors are orthogonal to each other if $\\Sigma$ is symmetric."
   ]
  },
  {
   "cell_type": "markdown",
   "metadata": {},
   "source": [
    "<img src=\"../docs/eigenvalues-eigenvectors.png\" alt=\"alt text\" style=\"background-color: white;\" width=\"500\">"
   ]
  },
  {
   "cell_type": "markdown",
   "metadata": {},
   "source": [
    "- The 2D Gaussian distribution shape is determined by its covariance matrix\n",
    "$\\Sigma = \\begin{pmatrix}\n",
    "\\sigma_{X_1}^2 & \\sigma_{X_1 X_2} \\\\\n",
    "\\sigma_{X_1 X_2} & \\sigma_{X_2}^2\n",
    "\\end{pmatrix}$.\n",
    "- On one hand, eigenvalues and eigenvectors can be  uniquely determined by a given $\\Sigma$.\n",
    "- On the other hand, the $\\Sigma$ can be also uniquely determined by given eigenvalues and eigenvectors.\n",
    "- So we have:\n",
    "$\n",
    "\\Sigma = \\begin{pmatrix}\n",
    "\\sigma_{X_1}^2 & \\sigma_{X_1 X_2} \\\\\n",
    "\\sigma_{X_1 X_2} & \\sigma_{X_2}^2\n",
    "\\end{pmatrix}\n",
    "\\iff \\set{(\\lambda_1, \\lambda_2), (\\mathbf{v}_1, \\mathbf{v}_2)}\n",
    "$\n",
    "- Therefore, in order to determine $\\Sigma$, it is adequate to determine $\\set{(\\lambda_1, \\lambda_2), (\\mathbf{v}_1, \\mathbf{v}_2)}$\n",
    "    - $\\mathbf{v}_1$ and $\\mathbf{v}_2$ can be determined by the average of the speed limits:\n",
    "        - $\\mathbf{v}_1$ has the same direction with the average of the speed limits\n",
    "        - $\\mathbf{v}_2$ is perpendicular with $\\mathbf{v}_1$\n",
    "    - $\\lambda_1$ and $\\lambda_2$ can be determined by the \"variance\" along the space or the time dimension, which has to be predetermined.\n",
    "\n"
   ]
  },
  {
   "cell_type": "markdown",
   "metadata": {},
   "source": [
    "# Solution"
   ]
  },
  {
   "cell_type": "markdown",
   "metadata": {},
   "source": [
    "<img src=\"../docs/speed-distance-time.png\" alt=\"alt text\" style=\"background-color: white;\" width=\"500\">"
   ]
  },
  {
   "cell_type": "markdown",
   "metadata": {},
   "source": [
    "<img src=\"../docs/variance-space-time.png\" alt=\"alt text\" style=\"background-color: white;\" width=\"500\">"
   ]
  },
  {
   "cell_type": "markdown",
   "metadata": {},
   "source": [
    "Inputs:\n",
    "- $S_1$: Lower speed limit (km/h or m/s)\n",
    "- $S_2$: Upper speed limit (km/h or m/s)\n",
    "- $V_s$: Variance along space dimension (either $V_s$ or $V_t$ is inputed, not both)\n",
    "- $V_t$: Variance along time dimension (either $V_s$ or $V_t$ is inputed, not both)\n",
    "\n",
    "Logics:\n",
    "- If $S_1$ and $S_2$ are originally in km/h, convert them to m/s:\n",
    "    - $S_1 = \\frac{S_1\\times1000}{3600} = \\frac{S_1}{3.6}$\n",
    "    - $S_2 = \\frac{S_2\\times1000}{3600} = \\frac{S_2}{3.6}$\n",
    "- Calculate the slopes of $S_1$ and $S_2$:\n",
    "    - $\\theta_1 = \\arctan(\\frac{T_1}{D}) = \\arctan(\\frac{1}{S_1})$\n",
    "    - $\\theta_2 = \\arctan(\\frac{T_2}{D}) = \\arctan(\\frac{1}{S_2})$\n",
    "    - Where $T_1$, $T_2$ and $D$ are time of $S_1$, time of $S_2$ and distance, respectively (apply formula: speed = distance/time)\n",
    "- Calculate the average slope:\n",
    "    - $\\theta=0.5(\\theta_1+\\theta_2)$ (proof below)\n",
    "\n",
    "Output:\n",
    "- Eigenvector $\\mathbf{v}_1$ = $[1, \\tan(\\theta)]$: the average direction between $S_1$ and $S_2$ (normalize to basis vectors)\n",
    "- Eigenvector $\\mathbf{v}_2$ = $[\\tan(\\theta), -1]$: perpendicular with $\\mathbf{v}_1$\n",
    "- Eigenvalue $\\lambda_1$:\n",
    "    - If ${V_s}$: $\\cos(\\theta) = \\frac{V_s}{\\lambda_1} \\Longleftrightarrow \\lambda_1 = \\frac{V_s}{\\cos(\\theta)}$\n",
    "    - If ${V_t}$: $\\sin(\\theta) = \\frac{V_t}{\\lambda_1} \\Longleftrightarrow \\lambda_1 = \\frac{V_t}{\\sin(\\theta)}$\n",
    "- Eigenvalue $\\lambda_2$:\n",
    "    - $\\tan(\\theta_1-\\theta) = \\frac{\\lambda_2}{\\lambda_1} \\Longleftrightarrow \\lambda_2=\\tan(\\theta_1-\\theta) \\times \\lambda_1$ "
   ]
  },
  {
   "cell_type": "markdown",
   "metadata": {},
   "source": [
    "----\n",
    "Proof $\\theta=0.5(\\theta_1+\\theta_2)$\n",
    "\n",
    "<img src=\"../docs/geometry.png\" alt=\"alt text\" style=\"background-color: white;\" width=\"500\">\n",
    "\n",
    "Assume $a_1 \\le a_2, b_1 \\le b_2$. Let the length of $S_1$ and $S_2$ be $h$.\n",
    "\n",
    "$\\sin\\theta_1=\\frac{a}{h}, \\cos\\theta_1=\\frac{b_2-b_1}{h}=\\frac{b-2b_1}{h}$\n",
    "\n",
    "$\\cos\\theta_2=\\frac{b}{h}, \\sin\\theta_2=\\frac{a_2-a_1}{h}=\\frac{a-2a_1}{h}$\n",
    "\n",
    "$\\tan\\theta = \\frac{a_2}{b_2}\n",
    "= \\frac{h\\sin(\\theta_2)+a_1}{h\\cos(\\theta_1)+b_1}\n",
    "= \\frac{h\\sin\\theta_2+\\frac{a-h\\sin\\theta_2}{2}}{h\\cos\\theta_1+\\frac{b-h\\cos\\theta_1}{2}}\n",
    "= \\frac{2h\\sin(\\theta_2)+a-h\\sin\\theta_2}{2h\\cos(\\theta_1)+b-h\\cos\\theta_1}\n",
    "= \\frac{h\\sin(\\theta_2)+a}{2h\\cos(\\theta_1)+b}\n",
    "= \\frac{h\\sin\\theta_2+h\\sin\\theta_1}{h\\cos\\theta_1+h\\cos\\theta_2}\n",
    "= \\frac{\\sin\\theta_2+\\sin\\theta_1}{\\cos\\theta_1+\\cos\\theta_2}\n",
    "= \\frac{2\\sin{\\frac{\\theta_1+\\theta_2}{2}}\\cos{\\frac{\\theta_1-\\theta_2}{2}}}{2\\cos{\\frac{\\theta_1+\\theta_2}{2}}\\cos{\\frac{\\theta_1-\\theta_2}{2}}}\n",
    "= \\tan{\\frac{\\theta_1+\\theta_2}{2}}$"
   ]
  },
  {
   "cell_type": "markdown",
   "metadata": {},
   "source": [
    "----\n",
    "# Implementation"
   ]
  },
  {
   "cell_type": "code",
   "execution_count": 41,
   "metadata": {},
   "outputs": [],
   "source": [
    "import numpy as np\n",
    "from typing import Literal, Tuple, Union\n",
    "from matplotlib import colors\n",
    "import matplotlib.pyplot as plt"
   ]
  },
  {
   "cell_type": "code",
   "execution_count": 82,
   "metadata": {},
   "outputs": [],
   "source": [
    "def cal_eigen(\n",
    "    s1: float,\n",
    "    s2: float,\n",
    "    std_s: float = None,\n",
    "    std_t: float = None,\n",
    "    unit: Literal['km/h', 'm/s'] = 'km/h'  # 'km/h' or 'm/s'\n",
    ") -> Tuple[float, float, float, float]:\n",
    "    \"\"\"Calculate the eigenvalues and eigenvectors of the covariance matrix of\n",
    "    2d Gaussian distribution of two velocity vectors.\n",
    "\n",
    "    Args:\n",
    "        s1 (float): Speed of the first velocity vector.\n",
    "        s2 (float): Speed of the second velocity vector.\n",
    "        std_s (float, optional): Standard deviation along the space dimension.\n",
    "            In meters. Defaults to None.\n",
    "        std_t (float, optional): Standard deviation along the time dimension.\n",
    "            In seconds. Defaults to None.\n",
    "        unit (Literal['km/h', 'm/s'], optional): Unit of the speed. Defaults to\n",
    "            'km/h'.\n",
    "\n",
    "    Returns:\n",
    "        Tuple[float, float, float, float]: Eigenvalues and eigenvectors of the\n",
    "            covariance matrix.\n",
    "    \"\"\"\n",
    "    if ((std_t is None and std_s is None)\n",
    "        or (std_t is not None and std_s is not None)):\n",
    "        raise ValueError(\n",
    "            \"Either 'std_t' or 'std_s' must be provided, but not both.\")\n",
    "    # convert to m/s\n",
    "    if unit == 'km/h':\n",
    "        s1 = s1 / 3.6\n",
    "        s2 = s2 / 3.6\n",
    "    # calculate angle\n",
    "    theta1 = np.arctan(1 / s1)\n",
    "    theta2 = np.arctan(1 / s2)\n",
    "    theta = 0.5 * (theta1 + theta2)\n",
    "    # calculate eigenvalues and eigenvectors\n",
    "    if std_s is not None:\n",
    "        var_s = std_s ** 2\n",
    "        eigval_1 = var_s / np.cos(theta)\n",
    "    if std_t is not None:\n",
    "        var_t = std_t ** 2 \n",
    "        eigval_1 = var_t / np.sin(theta)\n",
    "    eigval_2 = np.tan(theta1 - theta) * eigval_1\n",
    "    eigvec_1 = [1, np.tan(theta)]\n",
    "    eigvec_1_norm = np.array(eigvec_1) / np.linalg.norm(eigvec_1)  # normalize\n",
    "    eigvec_2_norm = np.array([-eigvec_1_norm[1], eigvec_1_norm[0]])  # normalize\n",
    "    return eigval_1, eigval_2, eigvec_1_norm, eigvec_2_norm"
   ]
  },
  {
   "cell_type": "code",
   "execution_count": 83,
   "metadata": {},
   "outputs": [
    {
     "data": {
      "text/plain": [
       "(628.9501251398765,\n",
       " 0.13801239683476643,\n",
       " array([0.9992097 , 0.03974878]),\n",
       " array([-0.03974878,  0.9992097 ]))"
      ]
     },
     "execution_count": 83,
     "metadata": {},
     "output_type": "execute_result"
    }
   ],
   "source": [
    "# test the function\n",
    "s_rate=0.25\n",
    "t_rate=100\n",
    "s1=90\n",
    "s2=91\n",
    "std_s=20\n",
    "std_t=5\n",
    "unit='km/h'\n",
    "\n",
    "\n",
    "eigval_1, eigval_2, eigvec_1, eigvec_2  = cal_eigen(\n",
    "    s1=s1,\n",
    "    s2=s2,\n",
    "    # std_s=std_s,  # 2 -> 8, 10 -> 40, 20 -> 80, 100 -> 400\n",
    "    std_t=std_t, # 2 -> 1.6, 10 -> 8, 20 -> 16, 100 -> 80\n",
    "    unit=unit\n",
    ")\n",
    "eigval_1, eigval_2, eigvec_1, eigvec_2"
   ]
  },
  {
   "cell_type": "code",
   "execution_count": 84,
   "metadata": {},
   "outputs": [],
   "source": [
    "def cal_cov_mat(\n",
    "    eigval_1: float,\n",
    "    eigval_2: float,\n",
    "    eigvec_1: float,\n",
    "    eigvec_2: float\n",
    ") -> np.ndarray:\n",
    "    \"\"\"Calculate the covariance matrix from the eigenvalues and eigenvectors.\n",
    "\n",
    "    Args:\n",
    "        eigvec_1 (float): The first eigenvector.\n",
    "        eigvec_2 (float): The second eigenvector.\n",
    "        eigval_1 (float): The first eigenvalue.\n",
    "        eigval_2 (float): The second eigenvalue.\n",
    "\n",
    "    Returns:\n",
    "        np.ndarray: The covariance matrix.\n",
    "    \"\"\"\n",
    "    # Convert the eigenvectors to a 2x2 array (each column is an eigenvector)\n",
    "    eigvecs = np.array([eigvec_1, eigvec_2]).T\n",
    "    \n",
    "    # Create the diagonal matrix of eigenvalues\n",
    "    eigvals = np.diag([eigval_1, eigval_2])\n",
    "    \n",
    "    # Calculate the covariance matrix\n",
    "    cov_mat = eigvecs @ eigvals @ eigvecs.T\n",
    "    \n",
    "    return cov_mat"
   ]
  },
  {
   "cell_type": "code",
   "execution_count": 85,
   "metadata": {},
   "outputs": [
    {
     "data": {
      "text/plain": [
       "array([[627.9566237 ,  24.97476114],\n",
       "       [ 24.97476114,   1.13151384]])"
      ]
     },
     "execution_count": 85,
     "metadata": {},
     "output_type": "execute_result"
    }
   ],
   "source": [
    "# test the function\n",
    "cov_mat = cal_cov_mat(eigval_1, eigval_2, eigvec_1, eigvec_2)\n",
    "cov_mat"
   ]
  },
  {
   "cell_type": "code",
   "execution_count": null,
   "metadata": {},
   "outputs": [],
   "source": []
  },
  {
   "cell_type": "code",
   "execution_count": null,
   "metadata": {},
   "outputs": [],
   "source": []
  },
  {
   "cell_type": "code",
   "execution_count": null,
   "metadata": {},
   "outputs": [],
   "source": []
  },
  {
   "cell_type": "code",
   "execution_count": null,
   "metadata": {},
   "outputs": [],
   "source": []
  },
  {
   "cell_type": "code",
   "execution_count": null,
   "metadata": {},
   "outputs": [],
   "source": []
  },
  {
   "cell_type": "code",
   "execution_count": null,
   "metadata": {},
   "outputs": [],
   "source": []
  },
  {
   "cell_type": "code",
   "execution_count": null,
   "metadata": {},
   "outputs": [],
   "source": []
  },
  {
   "cell_type": "code",
   "execution_count": 6,
   "metadata": {},
   "outputs": [
    {
     "name": "stdout",
     "output_type": "stream",
     "text": [
      "Reconstructed Covariance Matrix:\n",
      " [[627.9566237   24.97476114]\n",
      " [ 24.97476114   1.13151384]]\n"
     ]
    }
   ],
   "source": [
    "import numpy as np\n",
    "\n",
    "def reconstruct_covariance_from_eigen(eigenvalues, eigenvectors):\n",
    "    \"\"\"\n",
    "    Reconstruct the covariance matrix given eigenvalues and eigenvectors (up to a scalar multiple).\n",
    "\n",
    "    Parameters:\n",
    "    eigenvalues (list or np.array): Eigenvalues [lambda1, lambda2]\n",
    "    eigenvectors (list of lists or np.array): Eigenvector directions [[v1_x, v1_y], [v2_x, v2_y]]\n",
    "\n",
    "    Returns:\n",
    "    np.array: The reconstructed covariance matrix\n",
    "    \"\"\"\n",
    "    # Ensure eigenvalues and eigenvectors are numpy arrays\n",
    "    eigenvalues = np.array(eigenvalues)\n",
    "    eigenvectors = np.array(eigenvectors)\n",
    "\n",
    "    # Normalize the eigenvectors\n",
    "    v1 = eigenvectors[0] / np.linalg.norm(eigenvectors[0])\n",
    "    v2 = eigenvectors[1] / np.linalg.norm(eigenvectors[1])\n",
    "\n",
    "    # Create the matrix of eigenvectors\n",
    "    V = np.column_stack((v1, v2))\n",
    "\n",
    "    # Create the diagonal matrix of eigenvalues\n",
    "    Lambda = np.diag(eigenvalues)\n",
    "\n",
    "    # Reconstruct the covariance matrix\n",
    "    Sigma = V @ Lambda @ V.T\n",
    "\n",
    "    return Sigma\n",
    "\n",
    "# Example usage:\n",
    "eigenvalues = [eigval_1, eigval_2]\n",
    "eigenvectors = [eigvec_1, eigvec_2]\n",
    "\n",
    "cov_mat = reconstruct_covariance_from_eigen(eigenvalues, eigenvectors)\n",
    "print(\"Reconstructed Covariance Matrix:\\n\", cov_mat)\n"
   ]
  },
  {
   "cell_type": "code",
   "execution_count": 7,
   "metadata": {},
   "outputs": [
    {
     "data": {
      "text/plain": [
       "[628.9501251398765, 0.13801239683476643]"
      ]
     },
     "execution_count": 7,
     "metadata": {},
     "output_type": "execute_result"
    }
   ],
   "source": [
    "eigenvalues"
   ]
  },
  {
   "cell_type": "code",
   "execution_count": null,
   "metadata": {},
   "outputs": [],
   "source": []
  },
  {
   "cell_type": "code",
   "execution_count": null,
   "metadata": {},
   "outputs": [],
   "source": []
  },
  {
   "cell_type": "code",
   "execution_count": 8,
   "metadata": {},
   "outputs": [
    {
     "data": {
      "text/plain": [
       "25.059062705952673"
      ]
     },
     "execution_count": 8,
     "metadata": {},
     "output_type": "execute_result"
    }
   ],
   "source": [
    "np.sqrt(cov_mat[0, 0])"
   ]
  },
  {
   "cell_type": "code",
   "execution_count": 9,
   "metadata": {},
   "outputs": [
    {
     "data": {
      "text/plain": [
       "(array([6.28950125e+02, 1.38012397e-01]),\n",
       " array([[ 0.9992097 , -0.03974878],\n",
       "        [ 0.03974878,  0.9992097 ]]))"
      ]
     },
     "execution_count": 9,
     "metadata": {},
     "output_type": "execute_result"
    }
   ],
   "source": [
    "def calculate_eigenvectors_and_eigenvalues(cov_matrix):\n",
    "    \"\"\"\n",
    "    Calculate the eigenvectors and eigenvalues of a covariance matrix.\n",
    "    \n",
    "    Parameters:\n",
    "    cov_matrix (numpy.ndarray): A 2x2 covariance matrix.\n",
    "    \n",
    "    Returns:\n",
    "    tuple: A tuple containing an array of eigenvalues and an array of eigenvectors.\n",
    "    \"\"\"\n",
    "    # Ensure the input is a numpy array\n",
    "    cov_matrix = np.array(cov_matrix)\n",
    "    \n",
    "    # Check if the input is a 2x2 matrix\n",
    "    if cov_matrix.shape != (2, 2):\n",
    "        raise ValueError(\"The covariance matrix must be a 2x2 matrix.\")\n",
    "    \n",
    "    # Calculate eigenvalues and eigenvectors using numpy\n",
    "    eigenvalues, eigenvectors = np.linalg.eig(cov_matrix)\n",
    "    \n",
    "    return eigenvalues, eigenvectors\n",
    "\n",
    "\n",
    "calculate_eigenvectors_and_eigenvalues(cov_mat)\n"
   ]
  },
  {
   "cell_type": "code",
   "execution_count": 10,
   "metadata": {},
   "outputs": [
    {
     "data": {
      "text/plain": [
       "(628.9501251398765,\n",
       " 0.13801239683476643,\n",
       " [1, 0.03978021786173813],\n",
       " [0.03978021786173813, -1])"
      ]
     },
     "execution_count": 10,
     "metadata": {},
     "output_type": "execute_result"
    }
   ],
   "source": [
    "eigval_1, eigval_2, eigvec_1, eigvec_2, "
   ]
  },
  {
   "cell_type": "code",
   "execution_count": null,
   "metadata": {},
   "outputs": [],
   "source": []
  },
  {
   "cell_type": "code",
   "execution_count": null,
   "metadata": {},
   "outputs": [],
   "source": []
  },
  {
   "cell_type": "code",
   "execution_count": 11,
   "metadata": {},
   "outputs": [],
   "source": [
    "# def create_gauss_kernel(\n",
    "#     cov_mat: np.ndarray,\n",
    "#     s_rate: float,\n",
    "#     t_rate: float\n",
    "# ) -> np.ndarray:\n",
    "#     \"\"\"Create Gaussian kernel from covariance matrix\n",
    "\n",
    "#     Args:\n",
    "#         cov_mat (np.ndarray): Covariance matrix.\n",
    "#         s_rate (float): Spatial sampling rate.\n",
    "#         t_rate (float): Temporal sampling rate.\n",
    "\n",
    "#     Returns:\n",
    "#         np.ndarray: Gaussian kernel.\n",
    "#     \"\"\"\n",
    "#     # Calculate the size of the kernel\n",
    "#     size_s = np.sqrt(cov_mat[0][0]) * 2 * 2 * s_rate  # 2 sides * 2 std\n",
    "#     size_t = np.sqrt(cov_mat[1][1]) * 2 * 2 * t_rate  # 2 sides * 2 std\n",
    "#     size_s = int(round(size_s, 0))\n",
    "#     size_t = int(round(size_t, 0))\n",
    "#     # Create grid of points\n",
    "#     range_s = np.arange(-size_s // 2, size_s // 2 + 1) / s_rate\n",
    "#     range_t = np.arange(-size_t // 2, size_t // 2 + 1) / t_rate\n",
    "#     x, y = np.meshgrid(range_s, range_t)\n",
    "#     # Calculate the Gaussian values\n",
    "#     det_cov_mat = np.linalg.det(cov_mat)  # determinant of covariance matrix\n",
    "#     inv_cov_mat = np.linalg.inv(cov_mat)  # inverse covariance matrix\n",
    "#     exponent = -0.5 * (\n",
    "#         inv_cov_mat[0, 0] * x**2 +\n",
    "#         2 * inv_cov_mat[0, 1] * x * y +\n",
    "#         inv_cov_mat[1, 1] * y**2\n",
    "#     )\n",
    "#     gauss_kernel = np.exp(exponent) / (2 * np.pi * np.sqrt(det_cov_mat))\n",
    "#     # Normalize the filter\n",
    "#     gauss_kernel /= np.sum(gauss_kernel)\n",
    "#     return gauss_kernel"
   ]
  },
  {
   "cell_type": "code",
   "execution_count": 12,
   "metadata": {},
   "outputs": [],
   "source": [
    "def create_gauss_kernel(\n",
    "    cov_mat: np.ndarray,\n",
    "    s_rate: float,\n",
    "    t_rate: float\n",
    ") -> np.ndarray:\n",
    "    \"\"\"Create Gaussian kernel from covariance matrix\n",
    "\n",
    "    Args:\n",
    "        cov_mat (np.ndarray): Covariance matrix.\n",
    "        s_rate (float): Spatial sampling rate.\n",
    "        t_rate (float): Temporal sampling rate.\n",
    "\n",
    "    Returns:\n",
    "        np.ndarray: Gaussian kernel.\n",
    "    \"\"\"\n",
    "    # Adjust the covariance matrix according to the sampling rates\n",
    "    cov_mat_adj = np.array([\n",
    "        [s_rate**2 * cov_mat[0, 0], s_rate * t_rate * cov_mat[0, 1]],\n",
    "        [s_rate * t_rate * cov_mat[1, 0], t_rate**2 * cov_mat[1, 1]]\n",
    "    ])\n",
    "    # Calculate the size of the kernel\n",
    "    size_s = np.sqrt(cov_mat_adj[0][0]) * 2 * 2  # 2 sides * 2 std\n",
    "    size_t = np.sqrt(cov_mat_adj[1][1]) * 2 * 2  # 2 sides * 2 std\n",
    "    size_s = int(round(size_s, 0))\n",
    "    size_t = int(round(size_t, 0))\n",
    "    # Create grid of points\n",
    "    range_s = np.arange(-size_s // 2, size_s // 2 + 1)\n",
    "    range_t = np.arange(-size_t // 2, size_t // 2 + 1)\n",
    "    x, y = np.meshgrid(range_s, range_t)\n",
    "    # Calculate the Gaussian values\n",
    "    det_cov_mat = np.linalg.det(cov_mat_adj)  # determinant of covariance matrix\n",
    "    inv_cov_mat = np.linalg.inv(cov_mat_adj)  # inverse covariance matrix\n",
    "    exponent = -0.5 * (\n",
    "        inv_cov_mat[0, 0] * x**2 +\n",
    "        2 * inv_cov_mat[0, 1] * x * y +\n",
    "        inv_cov_mat[1, 1] * y**2\n",
    "    )\n",
    "    gauss_kernel = np.exp(exponent) / (2 * np.pi * np.sqrt(det_cov_mat))\n",
    "    # Normalize the filter\n",
    "    gauss_kernel /= np.sum(gauss_kernel)\n",
    "    return gauss_kernel\n",
    "    # return size_s, size_t"
   ]
  },
  {
   "cell_type": "code",
   "execution_count": 13,
   "metadata": {},
   "outputs": [],
   "source": [
    "# Adjust the covariance matrix according to the sampling rates\n",
    "cov_mat_adj = np.array([\n",
    "    [s_rate**2 * cov_mat[0, 0], s_rate * t_rate * cov_mat[0, 1]],\n",
    "    [s_rate * t_rate * cov_mat[1, 0], t_rate**2 * cov_mat[1, 1]]\n",
    "])\n",
    "# Calculate the size of the kernel\n",
    "size_s = np.sqrt(cov_mat_adj[0][0]) * 2 * 2  # 2 sides * 2 std\n",
    "size_t = np.sqrt(cov_mat_adj[1][1]) * 2 * 2  # 2 sides * 2 std\n",
    "size_s = int(round(size_s, 0))\n",
    "size_t = int(round(size_t, 0))"
   ]
  },
  {
   "cell_type": "code",
   "execution_count": 14,
   "metadata": {},
   "outputs": [
    {
     "data": {
      "text/plain": [
       "25"
      ]
     },
     "execution_count": 14,
     "metadata": {},
     "output_type": "execute_result"
    }
   ],
   "source": [
    "size_s"
   ]
  },
  {
   "cell_type": "code",
   "execution_count": 15,
   "metadata": {},
   "outputs": [
    {
     "data": {
      "text/plain": [
       "425"
      ]
     },
     "execution_count": 15,
     "metadata": {},
     "output_type": "execute_result"
    }
   ],
   "source": [
    "size_t"
   ]
  },
  {
   "cell_type": "code",
   "execution_count": null,
   "metadata": {},
   "outputs": [],
   "source": []
  },
  {
   "cell_type": "code",
   "execution_count": null,
   "metadata": {},
   "outputs": [],
   "source": []
  },
  {
   "cell_type": "code",
   "execution_count": 16,
   "metadata": {},
   "outputs": [
    {
     "name": "stdout",
     "output_type": "stream",
     "text": [
      "(426, 26)\n"
     ]
    }
   ],
   "source": [
    "# test the function\n",
    "gauss_kernel = create_gauss_kernel(\n",
    "    cov_mat,\n",
    "    s_rate=s_rate,\n",
    "    t_rate=t_rate\n",
    ")\n",
    "print(gauss_kernel.shape)"
   ]
  },
  {
   "cell_type": "code",
   "execution_count": 17,
   "metadata": {},
   "outputs": [
    {
     "data": {
      "image/png": "[encoded data removed]",
      "text/plain": [
       "<Figure size 640x480 with 1 Axes>"
      ]
     },
     "metadata": {},
     "output_type": "display_data"
    }
   ],
   "source": [
    "def heatmap_filter(\n",
    "    kernel: np.ndarray,\n",
    "    s_rate: float,\n",
    "    t_rate: float,\n",
    ") -> None:\n",
    "    \"\"\"Visualize kernel in heatmap.\n",
    "\n",
    "    Args:\n",
    "        kernel (np.ndarray): Kernel array.\n",
    "        s_rate (float): Spatial sampling rate.\n",
    "        t_rate (float): Temporal sampling rate.\n",
    "    \"\"\"\n",
    "    percentile = np.quantile(np.abs(kernel), 0.95)\n",
    "    vmin = 0\n",
    "    vmax = percentile\n",
    "    norm = colors.TwoSlopeNorm(\n",
    "        vmin=vmin,\n",
    "        vmax=vmax,\n",
    "        vcenter=(vmin + vmax) / 2\n",
    "    )\n",
    "    cmap = 'Greens'\n",
    "    plt.imshow(\n",
    "        X=kernel,\n",
    "        aspect=kernel.shape[1] / kernel.shape[0],  # square\n",
    "        cmap=cmap,\n",
    "        norm=norm,\n",
    "        interpolation='none',  # no interpolation\n",
    "        origin='lower'\n",
    "    )\n",
    "    plt.xlabel('Channels')\n",
    "    plt.ylabel('Seconds')\n",
    "\n",
    "    # Get the current tick locations\n",
    "    current_xticks = plt.gca().get_xticks()[1:-1]\n",
    "    current_yticks = plt.gca().get_yticks()[1:-1]\n",
    "\n",
    "    # Create new tick locations by dividing by sampling rate\n",
    "    new_xticks = current_xticks / s_rate\n",
    "    new_yticks = current_yticks / t_rate\n",
    "\n",
    "    # Set the new tick locations\n",
    "    plt.gca().set_xticks(current_xticks)\n",
    "    plt.gca().set_xticklabels(new_xticks)\n",
    "\n",
    "    plt.gca().set_yticks(current_yticks)\n",
    "    plt.gca().set_yticklabels(new_yticks)\n",
    "\n",
    "\n",
    "# test the function\n",
    "heatmap_filter(gauss_kernel, s_rate=s_rate, t_rate=t_rate)"
   ]
  },
  {
   "cell_type": "code",
   "execution_count": null,
   "metadata": {},
   "outputs": [],
   "source": []
  },
  {
   "cell_type": "code",
   "execution_count": null,
   "metadata": {},
   "outputs": [],
   "source": []
  },
  {
   "cell_type": "code",
   "execution_count": 18,
   "metadata": {},
   "outputs": [
    {
     "name": "stdout",
     "output_type": "stream",
     "text": [
      "Reconstructed Covariance Matrix:\n",
      " [[3.14285714 0.57142857]\n",
      " [0.57142857 4.        ]]\n"
     ]
    }
   ],
   "source": [
    "def recon_cov_mat(\n",
    "    sigma11: float = None,\n",
    "    sigma22: float = None,\n",
    "    v1: Union[np.array, list] = None,\n",
    "    k: float = None\n",
    ") -> np.array:\n",
    "    \"\"\"Reconstruct the covariance matrix (of a 2D Gaussian distribution) given\n",
    "        one variance, the first eigenvector direction, and the proportion of\n",
    "        eigenvalues.\n",
    "\n",
    "    Args:\n",
    "        sigma11 (float, optional): Variance along the first axis (x-axis).\n",
    "            Defaults to None.\n",
    "        sigma22 (float, optional): Variance along the second axis (y-axis).\n",
    "            Defaults to None.\n",
    "        v1 (Union[np.array, list], optional): First eigenvector direction.\n",
    "            Defaults to None.\n",
    "        k (float, optional): Proportion of the two eigenvalues (lambda1 /\n",
    "            lambda2). Defaults to None.\n",
    "\n",
    "    Returns:\n",
    "        np.array: The reconstructed covariance matrix.\n",
    "    \"\"\"\n",
    "    # sigma11, sigma22 are variances\n",
    "    # Sigma = [[sigma11, sigma12], [sigma21, sigma22]] is the covariance matrix\n",
    "    # lambda1, lambda2 are eigenvalues\n",
    "    # v1, v2 are eigenvectors\n",
    "    if sigma11 is not None and sigma22 is not None:\n",
    "        raise ValueError(\"At least one of sigma11 or sigma22 must be provided.\")\n",
    "    \n",
    "    if v1 is None:\n",
    "        raise ValueError(\"First eigenvector direction must be provided.\")\n",
    "    \n",
    "    if k is None:\n",
    "        raise ValueError(\"Proportion of the eigenvalues (k) must be provided.\")\n",
    "\n",
    "    v1 = np.array(v1)  # convert to numpy array\n",
    "    v1 = v1 / np.linalg.norm(v1)  # normalize the eigenvector\n",
    "    v2 = np.array([-v1[1], v1[0]])  # orthogonal to the first\n",
    "    V = np.column_stack((v1, v2))  # create the matrix of eigenvectors\n",
    "    \n",
    "    # Calculate lambda2 using sigma11 or sigma22\n",
    "    # if sigma11 is not None:\n",
    "    #     lambda2 = sigma11 / (k * v1[0]**2 + v2[0]**2)\n",
    "    # elif sigma22 is not None:\n",
    "    #     lambda2 = sigma22 / (k * v1[1]**2 + v2[1]**2)\n",
    "\n",
    "    if sigma11 is not None:\n",
    "        lambda2 = sigma11 / (v1[0]**2 + k * v1[1]**2)\n",
    "    elif sigma22 is not None:\n",
    "        lambda2 = sigma22 / (v1[1]**2 + k * v1[0]**2)\n",
    "\n",
    "    \n",
    "\n",
    "    lambda1 = k * lambda2  # calculate lambda1\n",
    "    Lambda = np.diag([lambda1, lambda2])  # diagonal matrix of eigenvalues\n",
    "\n",
    "    Sigma = V @ Lambda @ V.T  # reconstruct the covariance matrix\n",
    "\n",
    "    return Sigma\n",
    "\n",
    "# Example usage:\n",
    "sigma11 = 4.0\n",
    "v1 = [1, 2]\n",
    "k = 1.5\n",
    "\n",
    "cov_matrix = recon_cov_mat(sigma11=sigma11, v1=v1, k=k)\n",
    "print(\"Reconstructed Covariance Matrix:\\n\", cov_matrix)\n"
   ]
  },
  {
   "cell_type": "code",
   "execution_count": 19,
   "metadata": {},
   "outputs": [
    {
     "data": {
      "text/plain": [
       "(0.039978687123290044, 0.03953982118113306, 0.03975925415221156)"
      ]
     },
     "execution_count": 19,
     "metadata": {},
     "output_type": "execute_result"
    }
   ],
   "source": [
    "def cal_speed_angle(\n",
    "    s1: float,\n",
    "    s2: float,\n",
    "    unit: Literal['km/h', 'm/s'] = 'km/h'  # 'km/h' or 'm/s'\n",
    ") -> Tuple[float, float, float]:\n",
    "    \"\"\"Calculate the angle of the two velocity vectors (with the horizontal)\n",
    "    and their average.\n",
    "\n",
    "    Args:\n",
    "        s1 (float): Lower speed limit.\n",
    "        s2 (float): Upper speed limit.\n",
    "        unit (Literal['km/h', 'm/s'], optional): Unit of the speed. Defaults to\n",
    "            'km/h'.\n",
    "\n",
    "    Returns:\n",
    "        Tuple[float, float, float]: Angles of the two velocity vectors and\n",
    "            their average.\n",
    "    \"\"\"\n",
    "    # convert to m/s\n",
    "    if unit == 'km/h':\n",
    "        s1 = s1 / 3.6\n",
    "        s2 = s2 / 3.6\n",
    "    # calculate angle\n",
    "    theta1 = np.arctan(1 / s1)\n",
    "    theta2 = np.arctan(1 / s2)\n",
    "    theta = 0.5 * (theta1 + theta2)\n",
    "    return theta1, theta2, theta\n",
    "\n",
    "\n",
    "# test the function\n",
    "s1 = 90\n",
    "s2 = 91\n",
    "unit = 'km/h'\n",
    "theta1, theta2, theta = cal_speed_angle(s1, s2, unit)\n",
    "theta1, theta2, theta"
   ]
  },
  {
   "cell_type": "code",
   "execution_count": 20,
   "metadata": {},
   "outputs": [
    {
     "data": {
      "text/plain": [
       "0.0002194329746004469"
      ]
     },
     "execution_count": 20,
     "metadata": {},
     "output_type": "execute_result"
    }
   ],
   "source": [
    "np.tan(np.abs(theta1 - theta))"
   ]
  },
  {
   "cell_type": "code",
   "execution_count": 21,
   "metadata": {},
   "outputs": [
    {
     "ename": "NameError",
     "evalue": "name 'mpmath' is not defined",
     "output_type": "error",
     "traceback": [
      "\u001b[0;31m---------------------------------------------------------------------------\u001b[0m",
      "\u001b[0;31mNameError\u001b[0m                                 Traceback (most recent call last)",
      "Cell \u001b[0;32mIn[21], line 2\u001b[0m\n\u001b[1;32m      1\u001b[0m \u001b[38;5;66;03m# Set the precision (in decimal places)\u001b[39;00m\n\u001b[0;32m----> 2\u001b[0m \u001b[43mmpmath\u001b[49m\u001b[38;5;241m.\u001b[39mmp\u001b[38;5;241m.\u001b[39mdps \u001b[38;5;241m=\u001b[39m \u001b[38;5;241m50\u001b[39m  \u001b[38;5;66;03m# Increase to desired precision\u001b[39;00m\n\u001b[1;32m      4\u001b[0m \u001b[38;5;66;03m# Calculate arctan with higher precision\u001b[39;00m\n\u001b[1;32m      5\u001b[0m high_precision_arctan \u001b[38;5;241m=\u001b[39m mpmath\u001b[38;5;241m.\u001b[39matan(\u001b[38;5;241m1\u001b[39m)\n",
      "\u001b[0;31mNameError\u001b[0m: name 'mpmath' is not defined"
     ]
    }
   ],
   "source": [
    "\n",
    "\n",
    "# Set the precision (in decimal places)\n",
    "mpmath.mp.dps = 50  # Increase to desired precision\n",
    "\n",
    "# Calculate arctan with higher precision\n",
    "high_precision_arctan = mpmath.atan(1)\n",
    "\n",
    "print(high_precision_arctan)\n"
   ]
  },
  {
   "cell_type": "code",
   "execution_count": null,
   "metadata": {},
   "outputs": [
    {
     "data": {
      "text/plain": [
       "array([[  0.72075923, -15.90858998],\n",
       "       [-15.90858998, 400.        ]])"
      ]
     },
     "execution_count": 243,
     "metadata": {},
     "output_type": "execute_result"
    }
   ],
   "source": [
    "s1=90\n",
    "s2=91\n",
    "std_s=20\n",
    "std_t=5\n",
    "unit='km/h'\n",
    "\n",
    "theta1, theta2, theta = cal_speed_angle(s1=s1, s2=s2, unit=unit)\n",
    "cov_mat = recon_cov_mat(\n",
    "    sigma11=std_s**2,\n",
    "    # sigma22=std_t**2,\n",
    "    v1=[1, np.tan(theta)],\n",
    "    k=np.tan(np.abs(theta1 - theta))\n",
    ")\n",
    "cov_mat"
   ]
  },
  {
   "cell_type": "code",
   "execution_count": null,
   "metadata": {},
   "outputs": [
    {
     "name": "stdout",
     "output_type": "stream",
     "text": [
      "(8001, 2)\n"
     ]
    },
    {
     "data": {
      "image/png": "[encoded data removed]",
      "text/plain": [
       "<Figure size 640x480 with 1 Axes>"
      ]
     },
     "metadata": {},
     "output_type": "display_data"
    }
   ],
   "source": [
    "# test the function\n",
    "gauss_kernel = create_gauss_kernel(\n",
    "    cov_mat,\n",
    "    s_rate=s_rate,\n",
    "    t_rate=t_rate\n",
    ")\n",
    "print(gauss_kernel.shape)\n",
    "heatmap_filter(gauss_kernel, s_rate=s_rate, t_rate=t_rate)"
   ]
  },
  {
   "cell_type": "code",
   "execution_count": null,
   "metadata": {},
   "outputs": [],
   "source": []
  },
  {
   "cell_type": "code",
   "execution_count": 86,
   "metadata": {},
   "outputs": [],
   "source": [
    "import numpy as np\n",
    "\n",
    "def covariance_matrix(eigenvalues, eigenvectors):\n",
    "    \"\"\"\n",
    "    Calculate the covariance matrix given the eigenvalues and eigenvectors.\n",
    "    \n",
    "    Parameters:\n",
    "    eigenvalues (list or np.ndarray): A list or array of eigenvalues.\n",
    "    eigenvectors (np.ndarray): A 2D array where each column is an eigenvector.\n",
    "    \n",
    "    Returns:\n",
    "    np.ndarray: The covariance matrix.\n",
    "    \"\"\"\n",
    "    # Ensure eigenvalues are in a diagonal matrix form\n",
    "    lambda_matrix = np.diag(eigenvalues)\n",
    "    \n",
    "    # Calculate the covariance matrix\n",
    "    cov_mat = eigenvectors @ lambda_matrix @ eigenvectors.T\n",
    "    \n",
    "    return cov_mat\n"
   ]
  },
  {
   "cell_type": "code",
   "execution_count": 89,
   "metadata": {},
   "outputs": [
    {
     "name": "stdout",
     "output_type": "stream",
     "text": [
      "Covariance Matrix:\n",
      " [[37.28 47.04]\n",
      " [47.04 64.72]]\n"
     ]
    }
   ],
   "source": [
    "# Example usage:\n",
    "eigenvalues = [4, 2]\n",
    "eigenvectors = np.array([[0.6, 0.8],\n",
    "                         [0.8, -0.6]])\n",
    "\n",
    "cov_mat = covariance_matrix(eigenvalues, eigenvectors)\n",
    "print(\"Covariance Matrix:\\n\", cov_mat)"
   ]
  },
  {
   "cell_type": "code",
   "execution_count": null,
   "metadata": {},
   "outputs": [],
   "source": []
  },
  {
   "cell_type": "code",
   "execution_count": null,
   "metadata": {},
   "outputs": [],
   "source": []
  },
  {
   "cell_type": "code",
   "execution_count": null,
   "metadata": {},
   "outputs": [],
   "source": []
  },
  {
   "cell_type": "code",
   "execution_count": null,
   "metadata": {},
   "outputs": [],
   "source": []
  },
  {
   "cell_type": "code",
   "execution_count": null,
   "metadata": {},
   "outputs": [],
   "source": []
  },
  {
   "cell_type": "code",
   "execution_count": null,
   "metadata": {},
   "outputs": [],
   "source": []
  },
  {
   "cell_type": "code",
   "execution_count": 160,
   "metadata": {},
   "outputs": [
    {
     "name": "stdout",
     "output_type": "stream",
     "text": [
      "Eigenvalues:\n",
      "[0. 5.]\n",
      "\n",
      "Eigenvectors:\n",
      "[[-0.89442719 -0.4472136 ]\n",
      " [ 0.4472136  -0.89442719]]\n"
     ]
    }
   ],
   "source": [
    "import numpy as np\n",
    "\n",
    "# Example matrix\n",
    "A = np.array([[1, 2], [2, 4]])\n",
    "\n",
    "# Compute eigenvalues and eigenvectors\n",
    "eigenvalues, eigenvectors = np.linalg.eig(A)\n",
    "\n",
    "# Print eigenvalues and eigenvectors\n",
    "print(\"Eigenvalues:\")\n",
    "print(eigenvalues)\n",
    "print(\"\\nEigenvectors:\")\n",
    "print(eigenvectors)"
   ]
  },
  {
   "cell_type": "code",
   "execution_count": 161,
   "metadata": {},
   "outputs": [
    {
     "name": "stdout",
     "output_type": "stream",
     "text": [
      "Covariance Matrix:\n",
      " [[ 1. -2.]\n",
      " [-2.  4.]]\n"
     ]
    }
   ],
   "source": [
    "# # Example usage:\n",
    "# eigenvalues = [4, 2]\n",
    "# eigenvectors = 3*np.array([[0.6, 0.8],\n",
    "#                          [0.8, -0.6]])\n",
    "\n",
    "cov_mat = covariance_matrix(eigenvalues, eigenvectors.T)\n",
    "print(\"Covariance Matrix:\\n\", cov_mat)"
   ]
  },
  {
   "cell_type": "code",
   "execution_count": 162,
   "metadata": {},
   "outputs": [
    {
     "data": {
      "text/plain": [
       "array([[-0.89442719, -0.4472136 ],\n",
       "       [ 0.4472136 , -0.89442719]])"
      ]
     },
     "execution_count": 162,
     "metadata": {},
     "output_type": "execute_result"
    }
   ],
   "source": [
    "eigenvectors"
   ]
  },
  {
   "cell_type": "code",
   "execution_count": 149,
   "metadata": {},
   "outputs": [
    {
     "data": {
      "text/plain": [
       "array([[-0.82456484,  0.56576746],\n",
       "       [-0.41597356, -0.90937671]])"
      ]
     },
     "execution_count": 149,
     "metadata": {},
     "output_type": "execute_result"
    }
   ],
   "source": [
    "eigenvectors.T"
   ]
  },
  {
   "cell_type": "code",
   "execution_count": null,
   "metadata": {},
   "outputs": [],
   "source": []
  },
  {
   "cell_type": "code",
   "execution_count": null,
   "metadata": {},
   "outputs": [],
   "source": []
  },
  {
   "cell_type": "code",
   "execution_count": null,
   "metadata": {},
   "outputs": [],
   "source": []
  },
  {
   "cell_type": "code",
   "execution_count": null,
   "metadata": {},
   "outputs": [],
   "source": []
  },
  {
   "cell_type": "code",
   "execution_count": 7,
   "metadata": {},
   "outputs": [
    {
     "data": {
      "text/plain": [
       "array([[ 1.8,  2.4],\n",
       "       [ 2.4, -1.8]])"
      ]
     },
     "execution_count": 7,
     "metadata": {},
     "output_type": "execute_result"
    }
   ],
   "source": [
    "eigenvectors"
   ]
  },
  {
   "cell_type": "code",
   "execution_count": 150,
   "metadata": {},
   "outputs": [
    {
     "name": "stdout",
     "output_type": "stream",
     "text": [
      "Covariance Matrix:\n",
      " [[3.92 1.44]\n",
      " [1.44 3.08]]\n"
     ]
    }
   ],
   "source": [
    "import numpy as np\n",
    "\n",
    "def normalize_eigenvectors(eigenvectors):\n",
    "    \"\"\"\n",
    "    Normalize the eigenvectors to ensure they are unit vectors.\n",
    "    \n",
    "    Parameters:\n",
    "    eigenvectors (np.ndarray): A 2D array where each column is an eigenvector.\n",
    "    \n",
    "    Returns:\n",
    "    np.ndarray: A 2D array of normalized eigenvectors.\n",
    "    \"\"\"\n",
    "    normalized_eigenvectors = eigenvectors / np.linalg.norm(eigenvectors, axis=0)\n",
    "    return normalized_eigenvectors\n",
    "\n",
    "def covariance_matrix(eigenvalues, eigenvectors):\n",
    "    \"\"\"\n",
    "    Calculate the covariance matrix given the eigenvalues and eigenvectors.\n",
    "    \n",
    "    Parameters:\n",
    "    eigenvalues (list or np.ndarray): A list or array of eigenvalues.\n",
    "    eigenvectors (np.ndarray): A 2D array where each column is an eigenvector.\n",
    "    \n",
    "    Returns:\n",
    "    np.ndarray: The covariance matrix.\n",
    "    \"\"\"\n",
    "    # Normalize the eigenvectors\n",
    "    eigenvectors = normalize_eigenvectors(eigenvectors)\n",
    "    \n",
    "    # Ensure eigenvalues are in a diagonal matrix form\n",
    "    lambda_matrix = np.diag(eigenvalues)\n",
    "    \n",
    "    # Calculate the covariance matrix\n",
    "    cov_mat = eigenvectors @ lambda_matrix @ eigenvectors.T\n",
    "    \n",
    "    return cov_mat\n",
    "\n",
    "# Example usage:\n",
    "a = 10\n",
    "b = 3\n",
    "eigenvalues = [5, 2]\n",
    "eigenvectors = np.array([np.array([a*4, b*(-3)]),\n",
    "                         np.array([a*3, b*4])])\n",
    "\n",
    "cov_mat = covariance_matrix(eigenvalues, eigenvectors)\n",
    "print(\"Covariance Matrix:\\n\", cov_mat)"
   ]
  },
  {
   "cell_type": "code",
   "execution_count": 151,
   "metadata": {},
   "outputs": [
    {
     "name": "stdout",
     "output_type": "stream",
     "text": [
      "Eigenvalues: [5. 2.]\n",
      "Eigenvectors:\n",
      " [[-0.8  0.6]\n",
      " [-0.6 -0.8]]\n"
     ]
    }
   ],
   "source": [
    "import numpy as np\n",
    "\n",
    "def calculate_eigenvalues_and_eigenvectors(cov_matrix):\n",
    "    \"\"\"\n",
    "    Calculate the eigenvalues and eigenvectors of a given covariance matrix.\n",
    "    \n",
    "    Parameters:\n",
    "    cov_matrix (np.ndarray): A 2D array representing the covariance matrix.\n",
    "    \n",
    "    Returns:\n",
    "    tuple: A tuple containing:\n",
    "        - eigenvalues (np.ndarray): A 1D array of eigenvalues.\n",
    "        - eigenvectors (np.ndarray): A 2D array where each column is an eigenvector.\n",
    "    \"\"\"\n",
    "    # Compute the eigenvalues and eigenvectors\n",
    "    eigenvalues, eigenvectors = np.linalg.eigh(cov_matrix)\n",
    "    \n",
    "    # Sorting the eigenvalues and eigenvectors in descending order of eigenvalues\n",
    "    idx = np.argsort(eigenvalues)[::-1]\n",
    "    eigenvalues = eigenvalues[idx]\n",
    "    eigenvectors = eigenvectors[:, idx]\n",
    "    \n",
    "    return eigenvalues, eigenvectors\n",
    "\n",
    "eigenvalues, eigenvectors = calculate_eigenvalues_and_eigenvectors(cov_mat)\n",
    "print(\"Eigenvalues:\", eigenvalues)\n",
    "print(\"Eigenvectors:\\n\", eigenvectors)"
   ]
  },
  {
   "cell_type": "code",
   "execution_count": 130,
   "metadata": {},
   "outputs": [
    {
     "data": {
      "text/plain": [
       "array([[3.92, 1.44],\n",
       "       [1.44, 3.08]])"
      ]
     },
     "execution_count": 130,
     "metadata": {},
     "output_type": "execute_result"
    }
   ],
   "source": [
    "covariance_matrix(eigenvalues, eigenvectors)"
   ]
  },
  {
   "cell_type": "code",
   "execution_count": null,
   "metadata": {},
   "outputs": [],
   "source": []
  },
  {
   "cell_type": "code",
   "execution_count": null,
   "metadata": {},
   "outputs": [],
   "source": []
  },
  {
   "cell_type": "code",
   "execution_count": null,
   "metadata": {},
   "outputs": [],
   "source": []
  },
  {
   "cell_type": "code",
   "execution_count": null,
   "metadata": {},
   "outputs": [],
   "source": []
  },
  {
   "cell_type": "code",
   "execution_count": null,
   "metadata": {},
   "outputs": [],
   "source": []
  },
  {
   "cell_type": "code",
   "execution_count": 93,
   "metadata": {},
   "outputs": [
    {
     "data": {
      "text/plain": [
       "array([[ 0.5547002 ,  0.8       ],\n",
       "       [ 0.83205029, -0.6       ]])"
      ]
     },
     "execution_count": 93,
     "metadata": {},
     "output_type": "execute_result"
    }
   ],
   "source": [
    "normalize_eigenvectors(eigenvectors.tolist())"
   ]
  },
  {
   "cell_type": "code",
   "execution_count": 33,
   "metadata": {},
   "outputs": [
    {
     "data": {
      "text/plain": [
       "array([3.60555128, 5.        ])"
      ]
     },
     "execution_count": 33,
     "metadata": {},
     "output_type": "execute_result"
    }
   ],
   "source": [
    "np.linalg.norm(eigenvectors, axis=0)"
   ]
  },
  {
   "cell_type": "code",
   "execution_count": 37,
   "metadata": {},
   "outputs": [
    {
     "data": {
      "text/plain": [
       "[[2, 4], [3, -3]]"
      ]
     },
     "execution_count": 37,
     "metadata": {},
     "output_type": "execute_result"
    }
   ],
   "source": [
    "eigenvectors.tolist()"
   ]
  }
 ],
 "metadata": {
  "kernelspec": {
   "display_name": "kptruong",
   "language": "python",
   "name": "python3"
  },
  "language_info": {
   "codemirror_mode": {
    "name": "ipython",
    "version": 3
   },
   "file_extension": ".py",
   "mimetype": "text/x-python",
   "name": "python",
   "nbconvert_exporter": "python",
   "pygments_lexer": "ipython3",
   "version": "3.9.-1"
  }
 },
 "nbformat": 4,
 "nbformat_minor": 2
}
