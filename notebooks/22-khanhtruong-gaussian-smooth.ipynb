{
 "cells": [
  {
   "cell_type": "markdown",
   "metadata": {},
   "source": [
    "# Problem"
   ]
  },
  {
   "cell_type": "markdown",
   "metadata": {},
   "source": [
    "Following is sample of raw DAS data.\n",
    "- Horizontal axis is the space (spatial)\n",
    "- Vertial axis is the time (temporal)"
   ]
  },
  {
   "cell_type": "markdown",
   "metadata": {},
   "source": [
    "![alt text](../docs/das-raw.png)"
   ]
  },
  {
   "cell_type": "markdown",
   "metadata": {},
   "source": [
    "We want to design a suitable Gaussian kernel for Gaussian smoothing to hightlight a specific events with predetermined speed in DAS data. Example of Gaussian kernel:"
   ]
  },
  {
   "cell_type": "markdown",
   "metadata": {},
   "source": [
    "![alt text](../docs/kernel.png)"
   ]
  },
  {
   "cell_type": "markdown",
   "metadata": {},
   "source": [
    "____"
   ]
  },
  {
   "cell_type": "markdown",
   "metadata": {},
   "source": [
    "# Idea"
   ]
  },
  {
   "cell_type": "markdown",
   "metadata": {},
   "source": [
    "- Assume the Gaussian kernel has the ellipse shape.\n",
    "- On one hand, the ellipse shape is fully determined by its bounded retangular.\n",
    "- On the other hand, the bounded retangular can be determined by either its two edges AB and BC, or its two diagonal lines AC and BD.\n",
    "- Let AC and BD represent the two speed limits that we desire to highlights in the DAS data.\n",
    "- AC is the upper speed limit (the more horizontal, the faster). BD is the lower speed limit."
   ]
  },
  {
   "cell_type": "markdown",
   "metadata": {},
   "source": [
    "<img src=\"../docs/kernel-shape.png\" alt=\"alt text\" style=\"background-color: white;\" width=\"500\">"
   ]
  },
  {
   "cell_type": "markdown",
   "metadata": {},
   "source": [
    "However, the speed limits only determine the directions of AC and BD. They do not constrain the length of AC and BD. As a result, the size of the retangular is not fixed yet (only similar, not congruent). Below is the demonstration of two similar retangulars ABCD and A'B'C'D'."
   ]
  },
  {
   "cell_type": "markdown",
   "metadata": {},
   "source": [
    "<img src=\"../docs/kernel-shape-elastic.png\" alt=\"alt text\" style=\"background-color: white;\" width=\"500\">"
   ]
  },
  {
   "cell_type": "markdown",
   "metadata": {},
   "source": [
    "Therefore, apart from the speed limits (the direction of AC and BD), it's neccessary to additionally determine the height or the width of the rectangle in order to fix the size of the rectangle."
   ]
  },
  {
   "cell_type": "markdown",
   "metadata": {},
   "source": [
    "<img src=\"../docs/kernel-shape-size.png\" alt=\"alt text\" style=\"background-color: white;\" width=\"500\">"
   ]
  },
  {
   "cell_type": "markdown",
   "metadata": {},
   "source": [
    "______"
   ]
  },
  {
   "cell_type": "markdown",
   "metadata": {},
   "source": [
    "# Theory"
   ]
  },
  {
   "cell_type": "markdown",
   "metadata": {},
   "source": [
    "### 1. Covariance Matrix of a 2D Gaussian Distribution\n",
    "\n",
    "A 2D Gaussian distribution can be characterized by its mean vector and covariance matrix. The covariance matrix $\\Sigma$ of a 2D Gaussian distribution is a $2 \\times 2$ symmetric matrix that describes the variance and the correlation between the two variables $X_1$ and $X_2$:\n",
    "\n",
    "$\n",
    "\\Sigma = \\begin{pmatrix}\n",
    "\\sigma_{X_1}^2 & \\sigma_{X_1 X_2} \\\\\n",
    "\\sigma_{X_1 X_2} & \\sigma_{X_2}^2\n",
    "\\end{pmatrix}\n",
    "$\n",
    "\n",
    "where $\\sigma_{X_1}^2$ and $\\sigma_{X_2}^2$ are the variances of $X_1$ and $X_2$ respectively, and $\\sigma_{X_1 X_2}$ is the covariance between $X_1$ and $X_2$.\n",
    "\n",
    "### 2. Eigenvalues and Eigenvectors\n",
    "\n",
    "For the covariance matrix $\\Sigma$:\n",
    "\n",
    "1. **Eigenvalues**: The eigenvalues $\\lambda_1$ and $\\lambda_2$ are the scalars that satisfy the characteristic equation $\\det(\\Sigma - \\lambda I) = 0$, where $I$ is the identity matrix. The eigenvalues represent the variances along the principal components (directions) of the distribution.\n",
    "\n",
    "2. **Eigenvectors**: The eigenvectors $\\mathbf{v}_1$ and $\\mathbf{v}_2$ corresponding to the eigenvalues $\\lambda_1$ and $\\lambda_2$ are the directions in which these variances occur. These vectors are orthogonal to each other if $\\Sigma$ is symmetric."
   ]
  },
  {
   "cell_type": "markdown",
   "metadata": {},
   "source": [
    "<img src=\"../docs/eigenvalues-eigenvectors.png\" alt=\"alt text\" style=\"background-color: white;\" width=\"500\">"
   ]
  },
  {
   "cell_type": "markdown",
   "metadata": {},
   "source": [
    "- The 2D Gaussian distribution shape is determined by its covariance matrix\n",
    "$\\Sigma = \\begin{pmatrix}\n",
    "\\sigma_{X_1}^2 & \\sigma_{X_1 X_2} \\\\\n",
    "\\sigma_{X_1 X_2} & \\sigma_{X_2}^2\n",
    "\\end{pmatrix}$.\n",
    "- On one hand, eigenvalues and eigenvectors can be  uniquely determined by a given $\\Sigma$.\n",
    "- On the other hand, the $\\Sigma$ can be also uniquely determined by given eigenvalues and eigenvectors.\n",
    "- So we have:\n",
    "$\n",
    "\\Sigma = \\begin{pmatrix}\n",
    "\\sigma_{X_1}^2 & \\sigma_{X_1 X_2} \\\\\n",
    "\\sigma_{X_1 X_2} & \\sigma_{X_2}^2\n",
    "\\end{pmatrix}\n",
    "\\iff \\set{(\\lambda_1, \\lambda_2), (\\mathbf{v}_1, \\mathbf{v}_2)}\n",
    "$\n",
    "- Therefore, in order to determine $\\Sigma$, it is adequate to determine $\\set{(\\lambda_1, \\lambda_2), (\\mathbf{v}_1, \\mathbf{v}_2)}$\n",
    "    - $\\mathbf{v}_1$ and $\\mathbf{v}_2$ can be determined by the average of the speed limits:\n",
    "        - $\\mathbf{v}_1$ has the same direction with the average of the speed limits\n",
    "        - $\\mathbf{v}_2$ is perpendicular with $\\mathbf{v}_1$\n",
    "    - $\\lambda_1$ and $\\lambda_2$ can be determined by the \"variance\" along the space or the time dimension, which has to be predetermined.\n",
    "\n"
   ]
  },
  {
   "cell_type": "markdown",
   "metadata": {},
   "source": [
    "# Solution"
   ]
  },
  {
   "cell_type": "markdown",
   "metadata": {},
   "source": [
    "<img src=\"../docs/speed-distance-time.png\" alt=\"alt text\" style=\"background-color: white;\" width=\"500\">"
   ]
  },
  {
   "cell_type": "markdown",
   "metadata": {},
   "source": [
    "<img src=\"../docs/variance-space-time.png\" alt=\"alt text\" style=\"background-color: white;\" width=\"500\">"
   ]
  },
  {
   "cell_type": "markdown",
   "metadata": {},
   "source": [
    "Inputs:\n",
    "- $S_1$: Lower speed limit (km/h or m/s)\n",
    "- $S_2$: Upper speed limit (km/h or m/s)\n",
    "- $V_s$: Variance along space dimension (either $V_s$ or $V_t$ is inputed, not both)\n",
    "- $V_t$: Variance along time dimension (either $V_s$ or $V_t$ is inputed, not both)\n",
    "\n",
    "Logics:\n",
    "- If $S_1$ and $S_2$ are originally in km/h, convert them to m/s:\n",
    "    - $S_1 = \\frac{S_1\\times1000}{3600} = \\frac{S_1}{3.6}$\n",
    "    - $S_2 = \\frac{S_2\\times1000}{3600} = \\frac{S_2}{3.6}$\n",
    "- Calculate the slopes of $S_1$ and $S_2$:\n",
    "    - $\\theta_1 = \\arctan(\\frac{T_1}{D}) = \\arctan(\\frac{1}{S_1})$\n",
    "    - $\\theta_2 = \\arctan(\\frac{T_2}{D}) = \\arctan(\\frac{1}{S_2})$\n",
    "    - Where $T_1$, $T_2$ and $D$ are time of $S_1$, time of $S_2$ and distance, respectively (apply formula: speed = distance/time)\n",
    "- Calculate the average slope:\n",
    "    - $\\theta=0.5(\\theta_1+\\theta_2)$ (proof below)\n",
    "\n",
    "Output:\n",
    "- Eigenvector $\\mathbf{v}_1$ = $[1, \\tan(\\theta)]$: the average direction between $S_1$ and $S_2$ (normalize to basis vectors)\n",
    "- Eigenvector $\\mathbf{v}_2$ = $[\\tan(\\theta), -1]$: perpendicular with $\\mathbf{v}_1$\n",
    "- Eigenvalue $\\lambda_1$:\n",
    "    - If ${V_s}$: $\\cos(\\theta) = \\frac{V_s}{\\lambda_1} \\Longleftrightarrow \\lambda_1 = \\frac{V_s}{\\cos(\\theta)}$\n",
    "    - If ${V_t}$: $\\sin(\\theta) = \\frac{V_t}{\\lambda_1} \\Longleftrightarrow \\lambda_1 = \\frac{V_t}{\\sin(\\theta)}$\n",
    "- Eigenvalue $\\lambda_2$:\n",
    "    - $\\tan(\\theta_1-\\theta) = \\frac{\\lambda_2}{\\lambda_1} \\Longleftrightarrow \\lambda_2=\\tan(\\theta_1-\\theta) \\times \\lambda_1$ "
   ]
  },
  {
   "cell_type": "markdown",
   "metadata": {},
   "source": [
    "----\n",
    "Proof $\\theta=0.5(\\theta_1+\\theta_2)$\n",
    "\n",
    "<img src=\"../docs/geometry.png\" alt=\"alt text\" style=\"background-color: white;\" width=\"500\">\n",
    "\n",
    "Assume $a_1 \\le a_2, b_1 \\le b_2$. Let the length of $S_1$ and $S_2$ be $h$.\n",
    "\n",
    "$\\sin\\theta_1=\\frac{a}{h}, \\cos\\theta_1=\\frac{b_2-b_1}{h}=\\frac{b-2b_1}{h}$\n",
    "\n",
    "$\\cos\\theta_2=\\frac{b}{h}, \\sin\\theta_2=\\frac{a_2-a_1}{h}=\\frac{a-2a_1}{h}$\n",
    "\n",
    "$\\tan\\theta = \\frac{a_2}{b_2}\n",
    "= \\frac{h\\sin(\\theta_2)+a_1}{h\\cos(\\theta_1)+b_1}\n",
    "= \\frac{h\\sin\\theta_2+\\frac{a-h\\sin\\theta_2}{2}}{h\\cos\\theta_1+\\frac{b-h\\cos\\theta_1}{2}}\n",
    "= \\frac{2h\\sin(\\theta_2)+a-h\\sin\\theta_2}{2h\\cos(\\theta_1)+b-h\\cos\\theta_1}\n",
    "= \\frac{h\\sin(\\theta_2)+a}{2h\\cos(\\theta_1)+b}\n",
    "= \\frac{h\\sin\\theta_2+h\\sin\\theta_1}{h\\cos\\theta_1+h\\cos\\theta_2}\n",
    "= \\frac{\\sin\\theta_2+\\sin\\theta_1}{\\cos\\theta_1+\\cos\\theta_2}\n",
    "= \\frac{2\\sin{\\frac{\\theta_1+\\theta_2}{2}}\\cos{\\frac{\\theta_1-\\theta_2}{2}}}{2\\cos{\\frac{\\theta_1+\\theta_2}{2}}\\cos{\\frac{\\theta_1-\\theta_2}{2}}}\n",
    "= \\tan{\\frac{\\theta_1+\\theta_2}{2}}$"
   ]
  },
  {
   "cell_type": "markdown",
   "metadata": {},
   "source": [
    "----\n",
    "# Implementation"
   ]
  },
  {
   "cell_type": "code",
   "execution_count": 1,
   "metadata": {},
   "outputs": [],
   "source": [
    "import numpy as np\n",
    "from typing import Literal, Tuple\n",
    "from matplotlib import colors\n",
    "import matplotlib.pyplot as plt"
   ]
  },
  {
   "cell_type": "code",
   "execution_count": 58,
   "metadata": {},
   "outputs": [],
   "source": [
    "def cal_eigen(\n",
    "    s1: float,\n",
    "    s2: float,\n",
    "    s_rate: float,\n",
    "    t_rate: float,\n",
    "    std_s: float = None,\n",
    "    std_t: float = None,\n",
    "    unit: Literal['km/h', 'm/s'] = 'km/h'  # 'km/h' or 'm/s'\n",
    "\n",
    ") -> Tuple[float, float, float, float]:\n",
    "    \"\"\"Calculate the eigenvalues and eigenvectors of the covariance matrix of\n",
    "    2d Gaussian distribution of two velocity vectors.\n",
    "\n",
    "    Args:\n",
    "        s1 (float): Speed of the first velocity vector.\n",
    "        s2 (float): Speed of the second velocity vector.\n",
    "        s_rate (float): Sampling rate of the space dimension.\n",
    "        t_rate (float): Sampling rate of the time dimension.\n",
    "        std_s (float, optional): Standard deviation along the space dimension.\n",
    "            In meters. Defaults to None.\n",
    "        std_t (float, optional): Standard deviation along the time dimension.\n",
    "            In seconds. Defaults to None.\n",
    "        unit (Literal['km/h', 'm/s'], optional): Unit of the speed. Defaults to\n",
    "            'km/h'.\n",
    "\n",
    "    Returns:\n",
    "        Tuple[float, float, float, float]: Eigenvalues and eigenvectors of the\n",
    "            covariance matrix.\n",
    "    \"\"\"\n",
    "    if ((std_t is None and std_s is None)\n",
    "        or (std_t is not None and std_s is not None)):\n",
    "        raise ValueError(\n",
    "            \"Either 'std_t' or 'std_s' must be provided, but not both.\")\n",
    "    # convert to m/s\n",
    "    if unit == 'km/h':\n",
    "        s1 = s1 / 3.6\n",
    "        s2 = s2 / 3.6\n",
    "    # calculate angle\n",
    "    theta1 = np.arctan(1 / s1)\n",
    "    theta2 = np.arctan(1 / s2)\n",
    "    theta = 0.5 * (theta1 + theta2)\n",
    "    # calculate eigenvalues and eigenvectors\n",
    "    eigvec_1 = [1, np.tan(theta)]\n",
    "    eigvec_2 = [np.tan(theta), -1]\n",
    "    if std_s is not None:\n",
    "        var_s = (std_s / s_rate) ** 2  # adjust with the rate before squaring\n",
    "        eigval_1 = var_s / np.cos(theta)\n",
    "    if std_t is not None:\n",
    "        var_t = (std_t / t_rate) ** 2  # adjust with the rate before squaring\n",
    "        eigval_1 = var_t / np.sin(theta)\n",
    "    eigval_2 = np.tan(theta1 - theta) * eigval_1\n",
    "    return eigvec_1, eigvec_2, eigval_1, eigval_2"
   ]
  },
  {
   "cell_type": "code",
   "execution_count": 73,
   "metadata": {},
   "outputs": [
    {
     "data": {
      "text/plain": [
       "([1, 0.04022471707311009],\n",
       " [0.04022471707311009, -1],\n",
       " 1601.29389911123,\n",
       " 0.35926003287020647)"
      ]
     },
     "execution_count": 73,
     "metadata": {},
     "output_type": "execute_result"
    }
   ],
   "source": [
    "# test the function\n",
    "s_rate=0.25\n",
    "t_rate=100\n",
    "\n",
    "eigvec_1, eigvec_2, eigval_1, eigval_2 = cal_eigen(\n",
    "    s1=89,\n",
    "    s2=90,\n",
    "    s_rate=s_rate,\n",
    "    t_rate=t_rate,\n",
    "    std_s=10,\n",
    "    # std_t=10,\n",
    "    unit='km/h'\n",
    ")\n",
    "eigvec_1, eigvec_2, eigval_1, eigval_2"
   ]
  },
  {
   "cell_type": "code",
   "execution_count": 74,
   "metadata": {},
   "outputs": [],
   "source": [
    "def cal_cov_mat(\n",
    "    eigvec_1: float,\n",
    "    eigvec_2: float,\n",
    "    eigval_1: float,\n",
    "    eigval_2: float\n",
    ") -> np.ndarray:\n",
    "    \"\"\"Calculate the covariance matrix from the eigenvalues and eigenvectors.\n",
    "\n",
    "    Args:\n",
    "        eigvec_1 (float): The first eigenvector.\n",
    "        eigvec_2 (float): The second eigenvector.\n",
    "        eigval_1 (float): The first eigenvalue.\n",
    "        eigval_2 (float): The second eigenvalue.\n",
    "\n",
    "    Returns:\n",
    "        np.ndarray: The covariance matrix.\n",
    "    \"\"\"\n",
    "    # Convert the eigenvectors to a 2x2 array (each column is an eigenvector)\n",
    "    eigvecs = np.array([eigvec_1, eigvec_2]).T\n",
    "    \n",
    "    # Create the diagonal matrix of eigenvalues\n",
    "    eigvals = np.diag([eigval_1, eigval_2])\n",
    "    \n",
    "    # Calculate the covariance matrix\n",
    "    cov_mat = eigvecs @ eigvals @ eigvecs.T\n",
    "    \n",
    "    return cov_mat"
   ]
  },
  {
   "cell_type": "code",
   "execution_count": 75,
   "metadata": {},
   "outputs": [
    {
     "data": {
      "text/plain": [
       "array([[1601.2944804 ,   64.39714291],\n",
       "       [  64.39714291,    2.95019818]])"
      ]
     },
     "execution_count": 75,
     "metadata": {},
     "output_type": "execute_result"
    }
   ],
   "source": [
    "# test the function\n",
    "cov_mat = cal_cov_mat(eigvec_1, eigvec_2, eigval_1, eigval_2)\n",
    "cov_mat"
   ]
  },
  {
   "cell_type": "code",
   "execution_count": 76,
   "metadata": {},
   "outputs": [],
   "source": [
    "def create_gauss_kernel(\n",
    "    cov_mat: np.ndarray,\n",
    "    s_rate: float,\n",
    "    t_rate: float\n",
    ") -> np.ndarray:\n",
    "    \"\"\"Create Gaussian kernel from covariance matrix\n",
    "\n",
    "    Args:\n",
    "        cov_mat (np.ndarray): Covariance matrix.\n",
    "        s_rate (float): Spatial sampling rate.\n",
    "        t_rate (float): Temporal sampling rate.\n",
    "\n",
    "    Returns:\n",
    "        np.ndarray: Gaussian kernel.\n",
    "    \"\"\"\n",
    "    # Calculate the size of the kernel\n",
    "    size_s = np.sqrt(cov_mat[0][0]) * 2 * 1 * s_rate  # 2 sides * 2 std\n",
    "    size_t = np.sqrt(cov_mat[1][1]) * 2 * 1 * t_rate  # 2 sides * 2 std\n",
    "    size_s = int(round(size_s, 0))\n",
    "    size_t = int(round(size_t, 0))\n",
    "    # Create grid of points\n",
    "    range_s = np.arange(-size_s // 2, size_s // 2 + 1) / s_rate\n",
    "    range_t = np.arange(-size_t // 2, size_t // 2 + 1) / t_rate\n",
    "    x, y = np.meshgrid(range_s, range_t)\n",
    "    # Calculate the Gaussian values\n",
    "    det_cov_mat = np.linalg.det(cov_mat)  # determinant of covariance matrix\n",
    "    inv_cov_mat = np.linalg.inv(cov_mat)  # inverse covariance matrix\n",
    "    exponent = -0.5 * (\n",
    "        inv_cov_mat[0, 0] * x**2 +\n",
    "        2 * inv_cov_mat[0, 1] * x * y +\n",
    "        inv_cov_mat[1, 1] * y**2\n",
    "    )\n",
    "    gauss_kernel = np.exp(exponent) / (2 * np.pi * np.sqrt(det_cov_mat))\n",
    "    # Normalize the filter\n",
    "    gauss_kernel /= np.sum(gauss_kernel)\n",
    "    return gauss_kernel"
   ]
  },
  {
   "cell_type": "code",
   "execution_count": 77,
   "metadata": {},
   "outputs": [
    {
     "name": "stdout",
     "output_type": "stream",
     "text": [
      "(345, 21)\n"
     ]
    }
   ],
   "source": [
    "# test the function\n",
    "gauss_kernel = create_gauss_kernel(\n",
    "    cov_mat,\n",
    "    s_rate=s_rate,\n",
    "    t_rate=t_rate\n",
    ")\n",
    "print(gauss_kernel.shape)"
   ]
  },
  {
   "cell_type": "code",
   "execution_count": 78,
   "metadata": {},
   "outputs": [],
   "source": [
    "def heatmap_filter(\n",
    "    kernel: np.ndarray,\n",
    "    s_rate: float,\n",
    "    t_rate: float,\n",
    ") -> None:\n",
    "    \"\"\"Visualize kernel in heatmap.\n",
    "\n",
    "    Args:\n",
    "        kernel (np.ndarray): Kernel array.\n",
    "        s_rate (float): Spatial sampling rate.\n",
    "        t_rate (float): Temporal sampling rate.\n",
    "    \"\"\"\n",
    "    percentile = np.quantile(np.abs(kernel), 0.95)\n",
    "    vmin = 0\n",
    "    vmax = percentile\n",
    "    norm = colors.TwoSlopeNorm(\n",
    "        vmin=vmin,\n",
    "        vmax=vmax,\n",
    "        vcenter=(vmin + vmax) / 2\n",
    "    )\n",
    "    cmap = 'Greens'\n",
    "    plt.imshow(\n",
    "        X=kernel,\n",
    "        aspect=kernel.shape[1] / kernel.shape[0],  # square\n",
    "        cmap=cmap,\n",
    "        norm=norm,\n",
    "        interpolation='none',  # no interpolation\n",
    "        origin='lower'\n",
    "    )\n",
    "    plt.xlabel('Channels')\n",
    "    plt.ylabel('Seconds')\n",
    "\n",
    "    # Get the current tick locations\n",
    "    current_xticks = plt.gca().get_xticks()[1:-1]\n",
    "    current_yticks = plt.gca().get_yticks()[1:-1]\n",
    "\n",
    "    # Create new tick locations by dividing by sampling rate\n",
    "    new_xticks = current_xticks / s_rate\n",
    "    new_yticks = current_yticks / t_rate\n",
    "\n",
    "    # Set the new tick locations\n",
    "    plt.gca().set_xticks(current_xticks)\n",
    "    plt.gca().set_xticklabels(new_xticks)\n",
    "\n",
    "    plt.gca().set_yticks(current_yticks)\n",
    "    plt.gca().set_yticklabels(new_yticks)"
   ]
  },
  {
   "cell_type": "code",
   "execution_count": 79,
   "metadata": {},
   "outputs": [
    {
     "data": {
      "image/png": "[encoded data removed]",
      "text/plain": [
       "<Figure size 640x480 with 1 Axes>"
      ]
     },
     "metadata": {},
     "output_type": "display_data"
    }
   ],
   "source": [
    "# test the function\n",
    "heatmap_filter(gauss_kernel, s_rate=s_rate, t_rate=t_rate)"
   ]
  },
  {
   "cell_type": "code",
   "execution_count": null,
   "metadata": {},
   "outputs": [],
   "source": []
  },
  {
   "cell_type": "code",
   "execution_count": null,
   "metadata": {},
   "outputs": [],
   "source": []
  },
  {
   "cell_type": "code",
   "execution_count": null,
   "metadata": {},
   "outputs": [],
   "source": []
  }
 ],
 "metadata": {
  "kernelspec": {
   "display_name": "kptruong",
   "language": "python",
   "name": "python3"
  },
  "language_info": {
   "codemirror_mode": {
    "name": "ipython",
    "version": 3
   },
   "file_extension": ".py",
   "mimetype": "text/x-python",
   "name": "python",
   "nbconvert_exporter": "python",
   "pygments_lexer": "ipython3",
   "version": "3.9.18"
  }
 },
 "nbformat": 4,
 "nbformat_minor": 2
}
