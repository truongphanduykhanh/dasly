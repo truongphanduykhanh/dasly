{
 "cells": [
  {
   "cell_type": "code",
   "execution_count": 3,
   "metadata": {},
   "outputs": [
    {
     "name": "stdout",
     "output_type": "stream",
     "text": [
      "Assigned B: [1.2, 2.4, 3.6, 4.8, 6.0]\n",
      "Cost: 7944.0\n"
     ]
    }
   ],
   "source": [
    "import numpy as np\n",
    "\n",
    "def assign_nearest_elements(A, B, m, n):\n",
    "    assigned_B = []\n",
    "    cost = 0\n",
    "\n",
    "    for a in A:\n",
    "        if len(B) == 0:\n",
    "            cost += m\n",
    "            continue\n",
    "\n",
    "        nearest_b = min(B, key=lambda b: abs(a - b))\n",
    "        assigned_B.append(nearest_b)\n",
    "        B.remove(nearest_b)\n",
    "\n",
    "    cost += n * (len(assigned_B) - 1) * min([abs(a - b) for b in assigned_B], default=0)\n",
    "\n",
    "    return assigned_B, cost\n",
    "\n",
    "# Example usage\n",
    "A = [1.5, 2.7, 3.9, 5.1, 999]\n",
    "B = [1.2, 2.4, 3.6, 4.8, 6.0]\n",
    "m = 1\n",
    "n = 2\n",
    "\n",
    "assigned_B, cost = assign_nearest_elements(A, B, m, n)\n",
    "print(\"Assigned B:\", assigned_B)\n",
    "print(\"Cost:\", cost)"
   ]
  },
  {
   "cell_type": "code",
   "execution_count": null,
   "metadata": {},
   "outputs": [],
   "source": []
  },
  {
   "cell_type": "code",
   "execution_count": null,
   "metadata": {},
   "outputs": [],
   "source": [
    "www"
   ]
  },
  {
   "cell_type": "code",
   "execution_count": null,
   "metadata": {},
   "outputs": [],
   "source": []
  },
  {
   "cell_type": "code",
   "execution_count": null,
   "metadata": {},
   "outputs": [],
   "source": []
  }
 ],
 "metadata": {
  "kernelspec": {
   "display_name": "kptruong",
   "language": "python",
   "name": "python3"
  },
  "language_info": {
   "codemirror_mode": {
    "name": "ipython",
    "version": 3
   },
   "file_extension": ".py",
   "mimetype": "text/x-python",
   "name": "python",
   "nbconvert_exporter": "python",
   "pygments_lexer": "ipython3",
   "version": "3.9.18"
  }
 },
 "nbformat": 4,
 "nbformat_minor": 2
}
