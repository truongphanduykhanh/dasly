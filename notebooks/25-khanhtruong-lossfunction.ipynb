{
 "cells": [
  {
   "cell_type": "code",
   "execution_count": 1,
   "metadata": {},
   "outputs": [],
   "source": [
    "import numpy as np\n",
    "import pandas as pd"
   ]
  },
  {
   "cell_type": "code",
   "execution_count": 35,
   "metadata": {},
   "outputs": [
    {
     "data": {
      "text/plain": [
       "12"
      ]
     },
     "execution_count": 35,
     "metadata": {},
     "output_type": "execute_result"
    }
   ],
   "source": [
    "def loss_function(\n",
    "    x: np.ndarray,\n",
    "    y: np.ndarray,\n",
    "    a: float,\n",
    "    b: float,\n",
    "    dist: callable\n",
    ") -> float:\n",
    "    \"\"\"Compute the loss function for the given x and y vectors.\n",
    "\n",
    "    Args:\n",
    "        x (np.ndarray): Ground true set.\n",
    "        y (np.ndarray): Prediction set.\n",
    "        a (float): False negative penalty.\n",
    "        b (float): False positive penalty.\n",
    "        dist (callable): The distance function between predictions and ground truth.\n",
    "\n",
    "    Returns:\n",
    "        float: The loss value.\n",
    "    \"\"\"\n",
    "    # Convert x and y to numpy arrays for efficient computation\n",
    "    x = np.array(x)\n",
    "    y = np.array(y)\n",
    "    \n",
    "    # Compute the pairwise distances between each x and each y\n",
    "    # Shape: len(x) x len(y)\n",
    "    distances = np.array([[dist(xi, yj) for yj in y] for xi in x])\n",
    "\n",
    "    # For each y_j, determine the closest x_i's index\n",
    "    # Shape: len(y)\n",
    "    min_dist_idx = np.argmin(distances, axis=0)\n",
    "\n",
    "    # For each x_i, count the number of y_j's that are assigned to it (size of S_xi)\n",
    "    # Shape: len(x)\n",
    "    counts = np.bincount(min_dist_idx, minlength=len(x))\n",
    "\n",
    "    # For each x_i, calculate the minimum distance to its assigned y_j's\n",
    "    # Shape: len(x)\n",
    "    min_dist = np.array([distances[i, min_dist_idx == i].min() if counts[i] > 0 else 0 for i in range(len(x))])\n",
    "\n",
    "    # Calculate the loss for x_i with non-zero S_xi\n",
    "    counts_mask = counts > 0\n",
    "    L = np.sum(min_dist[counts_mask] + b * (counts[counts_mask] - 1))\n",
    "\n",
    "    # Add the penalty for x_i with zero S_xi\n",
    "    L += np.sum(counts == 0) * a\n",
    "    \n",
    "    return L\n",
    "\n",
    "# Example distance functions\n",
    "def euclidean_distance(xi, yj):\n",
    "    return np.linalg.norm(xi - yj)\n",
    "\n",
    "def manhattan_distance(xi, yj):\n",
    "    return np.sum(np.abs(xi - yj))\n",
    "\n",
    "# Example usage:\n",
    "x = [[1, 2], [3, 4], [7, 8]]  # Example x vector in 2D space\n",
    "y = [[3, 3], [3, 5], [5, 6], [8, 9]]  # Example y vector in 2D space\n",
    "a = 3  # Example value for parameter a\n",
    "b = 3  # Example value for parameter b\n",
    "\n",
    "# Use the Euclidean distance\n",
    "L = loss_function(x, y, a, b, manhattan_distance)\n",
    "L"
   ]
  },
  {
   "cell_type": "code",
   "execution_count": 69,
   "metadata": {},
   "outputs": [],
   "source": [
    "def timestamp_distance(xi, yj):\n",
    "    \"\"\"Calculate the distance between two timestamps, handling both 1-dimensional and multi-dimensional cases.\"\"\"\n",
    "    # Check if the input is multi-dimensional (assuming list or numpy array with more than 1 element)\n",
    "    if isinstance(xi, (list, np.ndarray)) and isinstance(yj, (list, np.ndarray)):\n",
    "        if len(xi) > 1:  # Multi-dimensional case\n",
    "            # Calculate the absolute difference for each dimension and sum the distances\n",
    "            dimension_distances = [abs((xi[k] - yj[k]).total_seconds()) for k in range(len(xi))]\n",
    "            return sum(dimension_distances)\n",
    "        else:  # 1-dimensional case where the timestamp is wrapped in a list/array\n",
    "            return abs((xi[0] - yj[0]).total_seconds())\n",
    "    else:  # 1-dimensional case with direct timestamp input\n",
    "        return abs((xi - yj).total_seconds())"
   ]
  },
  {
   "cell_type": "code",
   "execution_count": 70,
   "metadata": {},
   "outputs": [
    {
     "data": {
      "text/plain": [
       "16.0"
      ]
     },
     "execution_count": 70,
     "metadata": {},
     "output_type": "execute_result"
    }
   ],
   "source": [
    "# Example usage with timestamps\n",
    "x = np.array([\n",
    "    pd.Timestamp('2023-01-01 12:00:00'),\n",
    "    pd.Timestamp('2023-01-01 13:00:00'),\n",
    "    pd.Timestamp('2023-01-01 14:00:00')\n",
    "])  # Example x vector of timestamps\n",
    "\n",
    "y = np.array([\n",
    "    pd.Timestamp('2023-01-01 12:00:05'),\n",
    "    pd.Timestamp('2023-01-01 13:00:03'),\n",
    "    pd.Timestamp('2023-01-01 13:00:01'),\n",
    "    pd.Timestamp('2023-01-01 14:00:07')\n",
    "])  # Example y vector of timestamps\n",
    "\n",
    "L = loss_function(x, y, a, b, timestamp_distance)\n",
    "L"
   ]
  },
  {
   "cell_type": "code",
   "execution_count": 72,
   "metadata": {},
   "outputs": [
    {
     "data": {
      "text/plain": [
       "29.0"
      ]
     },
     "execution_count": 72,
     "metadata": {},
     "output_type": "execute_result"
    }
   ],
   "source": [
    "# Example usage with timestamps\n",
    "x = np.array([\n",
    "    [pd.Timestamp('2023-01-01 12:00:00'), pd.Timestamp('2023-01-01 12:00:00')],\n",
    "    [pd.Timestamp('2023-01-01 13:00:00'), pd.Timestamp('2023-01-01 13:00:00')],\n",
    "    [pd.Timestamp('2023-01-01 14:00:00'), pd.Timestamp('2023-01-01 14:00:00')]\n",
    "])  # Example x vector of timestamps\n",
    "\n",
    "y = np.array([\n",
    "    [pd.Timestamp('2023-01-01 12:00:05'), pd.Timestamp('2023-01-01 12:00:05')],\n",
    "    [pd.Timestamp('2023-01-01 13:00:03'), pd.Timestamp('2023-01-01 13:00:03')],\n",
    "    [pd.Timestamp('2023-01-01 13:00:01'), pd.Timestamp('2023-01-01 13:00:01')],\n",
    "    [pd.Timestamp('2023-01-01 14:00:07'), pd.Timestamp('2023-01-01 14:00:07')]\n",
    "])  # Example y vector of timestamps\n",
    "\n",
    "L = loss_function(x, y, a, b, timestamp_distance)\n",
    "L"
   ]
  }
 ],
 "metadata": {
  "kernelspec": {
   "display_name": "kptruong",
   "language": "python",
   "name": "python3"
  },
  "language_info": {
   "codemirror_mode": {
    "name": "ipython",
    "version": 3
   },
   "file_extension": ".py",
   "mimetype": "text/x-python",
   "name": "python",
   "nbconvert_exporter": "python",
   "pygments_lexer": "ipython3",
   "version": "3.9.18"
  }
 },
 "nbformat": 4,
 "nbformat_minor": 2
}
