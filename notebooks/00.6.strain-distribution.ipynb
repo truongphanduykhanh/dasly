{
 "cells": [
  {
   "cell_type": "code",
   "execution_count": 2,
   "metadata": {},
   "outputs": [],
   "source": [
    "from dasly.master import Dasly\n",
    "import numpy as np\n",
    "import pandas as pd\n",
    "import yaml\n",
    "import matplotlib.pyplot as plt\n",
    "import seaborn as sns\n",
    "from datetime import datetime\n",
    "# from datetime import datetime\n",
    "from zoneinfo import ZoneInfo\n",
    "import os\n",
    "import pickle\n",
    "\n",
    "from dasly import utils\n",
    "from typing import List, Dict, Any, Tuple, Union"
   ]
  },
  {
   "cell_type": "code",
   "execution_count": 3,
   "metadata": {},
   "outputs": [],
   "source": [
    "# Define the path to the YAML file\n",
    "yaml_path = '../config_aastfjordbrua.yml'\n",
    "\n",
    "# Open and read the YAML file\n",
    "with open(yaml_path, 'r') as file:\n",
    "    params = yaml.safe_load(file)\n",
    "\n",
    "\n",
    "# Access parameters from the YAML file\n",
    "input_dir = params['input_dir']\n",
    "start_exact_second = params['start_exact_second']\n",
    "integrate = params['integrate']\n",
    "\n",
    "database_type = params['database']['type']\n",
    "dbapi = params['database']['dbapi']\n",
    "endpoint = params['database']['endpoint']\n",
    "port = params['database']['port']\n",
    "database = params['database']['database']\n",
    "database_table = params['database']['table']\n",
    "\n",
    "hdf5_file_length = params['hdf5_file_length']\n",
    "batch = params['dasly']['batch']\n",
    "batch_gap = params['dasly']['batch_gap']\n",
    "\n",
    "lowpass_filter_freq = params['lowpass_filter_freq']\n",
    "decimate_t_rate = params['decimate_t_rate']\n",
    "\n",
    "gaussian_smooth_s1 = params['gaussian_smooth']['s1']\n",
    "gaussian_smooth_s2 = params['gaussian_smooth']['s2']\n",
    "gaussian_smooth_std_s = params['gaussian_smooth']['std_s']\n",
    "\n",
    "binary_threshold = params['binary_threshold']\n",
    "\n",
    "hough_speed_res = params['hough_transform']['speed_res']\n",
    "hough_length_meters = params['hough_transform']['length_meters']\n",
    "\n",
    "dbscan_eps_seconds = params['dbscan_eps_seconds']"
   ]
  },
  {
   "cell_type": "code",
   "execution_count": 4,
   "metadata": {},
   "outputs": [
    {
     "data": {
      "text/plain": [
       "'20231005 080610'"
      ]
     },
     "execution_count": 4,
     "metadata": {},
     "output_type": "execute_result"
    }
   ],
   "source": [
    "log = pd.read_excel('../data/logs/vehicle-log-clean.xlsx')\n",
    "# log\n",
    "start = log.loc[0, 't1'] - pd.Timedelta(seconds=15)\n",
    "start = start.strftime('%Y%m%d %H%M%S')\n",
    "start"
   ]
  },
  {
   "cell_type": "code",
   "execution_count": 5,
   "metadata": {},
   "outputs": [
    {
     "name": "stderr",
     "output_type": "stream",
     "text": [
      "7 files, from 080604 to 080704\n"
     ]
    }
   ],
   "source": [
    "chIndex_all = np.arange(0, 800)\n",
    "chIndex_remove1 = np.arange(0, 36)\n",
    "chIndex_remove2 = np.arange(365, 387)\n",
    "chIndex_remove3 = np.arange(751, 800)\n",
    "chIndex_remove = np.concatenate((\n",
    "    chIndex_remove1, chIndex_remove2, chIndex_remove3))\n",
    "chIndex = np.setdiff1d(chIndex_all, chIndex_remove)\n",
    "das = Dasly()\n",
    "das.load_data(\n",
    "    folder_path='/media/kptruong/yellow02/Aastfjordbrua/Aastfjordbrua',\n",
    "    start=start,\n",
    "    # start='20231005 082400',  # One car\n",
    "    # start='20231005 094345',\n",
    "    # start='20231005 082445',\n",
    "    # start='20231005 082445',\n",
    "    # start='20230901 103015',  # full 2 lines\n",
    "    # start='20230901 163110',  # part of lines\n",
    "    # start='20230901 183015',  # noise\n",
    "    # start='20230901 104015',  # 2 lines close to each other\n",
    "    # start='20231005 104715',  # 2 truck + 2 cars\n",
    "    # start='20231005 082155',  # 1 truck\n",
    "    # start='20231005 082130',  # 4 cars\n",
    "    # start='20231005 090535',  # 2 trucks + 4 cars following each other\n",
    "    duration=60,\n",
    "    integrate=False,\n",
    "    chIndex=chIndex,\n",
    "    reset_channel_idx=True,\n",
    ")"
   ]
  },
  {
   "cell_type": "code",
   "execution_count": 6,
   "metadata": {},
   "outputs": [],
   "source": [
    "t1 = log.loc[0, 't1']\n",
    "t2 = log.loc[0, 't2']\n",
    "s1 = log.loc[0, 's1']\n",
    "s2 = log.loc[0, 's2']\n",
    "window = 3\n",
    "\n",
    "data = utils.extract_section_spacetime(\n",
    "    s1=s1,\n",
    "    t1=t1,\n",
    "    s2=s2,\n",
    "    t2=t2,\n",
    "    t_rate=1000,\n",
    "    s_rate=1,\n",
    "    window=window,\n",
    "    data=das.signal,\n",
    ")"
   ]
  },
  {
   "cell_type": "code",
   "execution_count": 7,
   "metadata": {},
   "outputs": [
    {
     "data": {
      "text/plain": [
       "array([[-2.4866799e-06,  5.7755146e-06,  6.7180463e-06, ...,\n",
       "        -2.9679727e-06,  7.2193933e-07,  1.4438787e-06],\n",
       "       [ 2.2660872e-06, -2.3723727e-05,  1.8369345e-05, ...,\n",
       "        -1.6243634e-06,  2.2059257e-07,  4.4920666e-06],\n",
       "       [-2.2460333e-06, -1.3716847e-05,  3.1284037e-06, ...,\n",
       "        -3.5695889e-06, -1.4037708e-07,  2.0053869e-07],\n",
       "       ...,\n",
       "       [ 4.0508817e-06, -7.6004167e-06,  1.1390598e-05, ...,\n",
       "         6.6177768e-07,  4.2714742e-06,  1.5040403e-06],\n",
       "       [ 3.3489962e-06, -5.9961071e-06,  6.5776694e-06, ...,\n",
       "         4.1110434e-06,  2.7273263e-06,  1.4639324e-06],\n",
       "       [-1.6043095e-06, -1.2413346e-05,  1.4238248e-06, ...,\n",
       "         4.0709356e-06,  5.9961071e-06,  1.6845250e-06]], dtype=float32)"
      ]
     },
     "execution_count": 7,
     "metadata": {},
     "output_type": "execute_result"
    }
   ],
   "source": [
    "data"
   ]
  },
  {
   "cell_type": "code",
   "execution_count": 8,
   "metadata": {},
   "outputs": [],
   "source": [
    "# quantiles = np.arange(0.1, 1.0, 0.1)\n",
    "# min_values = np.min(data, axis=0)               # Minimum of each column\n",
    "# quantile_values = np.quantile(data, quantiles, axis=0)  # Quantiles of each column\n",
    "# max_values = np.max(data, axis=0)\n",
    "# result = np.vstack([min_values, quantile_values, max_values])\n",
    "\n",
    "\n",
    "quantiles = np.arange(0.1, 1.0, 0.1)\n",
    "min_value = np.min(data.flatten())               # Minimum of each column\n",
    "quantile_values = np.quantile(data.flatten(), quantiles)  # Quantiles of each column\n",
    "max_value = np.max(data.flatten())\n",
    "result = np.concatenate([[min_value], quantile_values, [max_value]])"
   ]
  },
  {
   "cell_type": "code",
   "execution_count": 9,
   "metadata": {},
   "outputs": [],
   "source": [
    "# strain_rate_list = []\n",
    "# frequencies_list = []\n",
    "# agg_spectrum_list = []\n",
    "\n",
    "\n",
    "# for i in range(len(log)):\n",
    "#     start = log.loc[i, 't1'] - pd.Timedelta(seconds=15)\n",
    "#     start = start.strftime('%Y%m%d %H%M%S')\n",
    "    \n",
    "#     chIndex_all = np.arange(0, 800)\n",
    "#     chIndex_remove1 = np.arange(0, 36)\n",
    "#     chIndex_remove2 = np.arange(365, 387)\n",
    "#     chIndex_remove3 = np.arange(751, 800)\n",
    "#     chIndex_remove = np.concatenate((\n",
    "#         chIndex_remove1, chIndex_remove2, chIndex_remove3))\n",
    "#     chIndex = np.setdiff1d(chIndex_all, chIndex_remove)\n",
    "#     das = Dasly()\n",
    "#     das.load_data(\n",
    "#         folder_path='/media/kptruong/yellow02/Aastfjordbrua/Aastfjordbrua',\n",
    "#         start=start,\n",
    "#         duration=60,\n",
    "#         integrate=False,\n",
    "#         chIndex=chIndex,\n",
    "#         reset_channel_idx=True,\n",
    "#     )\n",
    "\n",
    "#     t1 = log.loc[i, 't1']\n",
    "#     t2 = log.loc[i, 't2']\n",
    "#     s1 = log.loc[i, 's1']\n",
    "#     s2 = log.loc[i, 's2']\n",
    "#     window = 3\n",
    "\n",
    "#     data = utils.extract_section_spacetime(\n",
    "#         s1=s1,\n",
    "#         t1=t1,\n",
    "#         s2=s2,\n",
    "#         t2=t2,\n",
    "#         t_rate=1000,\n",
    "#         s_rate=1,\n",
    "#         window=window,\n",
    "#         data=das.signal,\n",
    "#     )\n",
    "\n",
    "#     quantiles = np.arange(0.1, 1.0, 0.1)\n",
    "#     min_value = np.min(np.abs(data).flatten())               # Minimum of each column\n",
    "#     quantile_values = np.quantile(np.abs(data).flatten(), quantiles)  # Quantiles of each column\n",
    "#     max_value = np.max(np.abs(data).flatten())\n",
    "#     result = np.concatenate([[min_value], quantile_values, [max_value]])\n",
    "#     strain_rate_list.append(result.tolist())\n",
    "\n",
    "#     frequencies, agg_spectrum = das.fft(data=data, plot=False)\n",
    "#     frequencies_list.append(frequencies.tolist())\n",
    "#     agg_spectrum_list.append(agg_spectrum.tolist())"
   ]
  },
  {
   "cell_type": "code",
   "execution_count": 10,
   "metadata": {},
   "outputs": [],
   "source": [
    "# with open(\"../data/aastfjordbrua_processed/strain_rate_list.pkl\", \"wb\") as file:\n",
    "#     pickle.dump(strain_rate_list, file)\n",
    "\n",
    "# with open(\"../data/aastfjordbrua_processed/frequencies_list.pkl\", \"wb\") as file:\n",
    "#     pickle.dump(frequencies_list, file)\n",
    "\n",
    "# with open(\"../data/aastfjordbrua_processed/agg_spectrum_list.pkl\", \"wb\") as file:\n",
    "#     pickle.dump(agg_spectrum_list, file)"
   ]
  },
  {
   "cell_type": "code",
   "execution_count": 11,
   "metadata": {},
   "outputs": [],
   "source": [
    "with open(\"../data/aastfjordbrua_processed/strain_rate_list.pkl\", \"rb\") as file:\n",
    "    strain_rate_list = pickle.load(file)\n",
    "\n",
    "with open(\"../data/aastfjordbrua_processed/frequencies_list.pkl\", \"rb\") as file:\n",
    "    frequencies_list = pickle.load(file)\n",
    "\n",
    "with open(\"../data/aastfjordbrua_processed/agg_spectrum_list.pkl\", \"rb\") as file:\n",
    "    agg_spectrum_list = pickle.load(file)"
   ]
  },
  {
   "cell_type": "code",
   "execution_count": 12,
   "metadata": {},
   "outputs": [
    {
     "data": {
      "text/html": [
       "<div>\n",
       "<style scoped>\n",
       "    .dataframe tbody tr th:only-of-type {\n",
       "        vertical-align: middle;\n",
       "    }\n",
       "\n",
       "    .dataframe tbody tr th {\n",
       "        vertical-align: top;\n",
       "    }\n",
       "\n",
       "    .dataframe thead th {\n",
       "        text-align: right;\n",
       "    }\n",
       "</style>\n",
       "<table border=\"1\" class=\"dataframe\">\n",
       "  <thead>\n",
       "    <tr style=\"text-align: right;\">\n",
       "      <th></th>\n",
       "      <th>Type</th>\n",
       "      <th>Type2</th>\n",
       "      <th>Direction camera</th>\n",
       "      <th>t1</th>\n",
       "      <th>t2</th>\n",
       "      <th>s1</th>\n",
       "      <th>s2</th>\n",
       "      <th>min</th>\n",
       "      <th>q1</th>\n",
       "      <th>q2</th>\n",
       "      <th>q3</th>\n",
       "      <th>q4</th>\n",
       "      <th>q5</th>\n",
       "      <th>q6</th>\n",
       "      <th>q7</th>\n",
       "      <th>q8</th>\n",
       "      <th>q9</th>\n",
       "      <th>max</th>\n",
       "    </tr>\n",
       "  </thead>\n",
       "  <tbody>\n",
       "    <tr>\n",
       "      <th>0</th>\n",
       "      <td>Car</td>\n",
       "      <td>Small</td>\n",
       "      <td>coming close</td>\n",
       "      <td>2023-10-05 08:06:25.000</td>\n",
       "      <td>2023-10-05 08:06:55.000</td>\n",
       "      <td>0</td>\n",
       "      <td>692</td>\n",
       "      <td>0.0</td>\n",
       "      <td>3.409158e-07</td>\n",
       "      <td>7.018854e-07</td>\n",
       "      <td>0.000001</td>\n",
       "      <td>0.000001</td>\n",
       "      <td>0.000002</td>\n",
       "      <td>0.000002</td>\n",
       "      <td>0.000003</td>\n",
       "      <td>0.000004</td>\n",
       "      <td>0.000005</td>\n",
       "      <td>0.000041</td>\n",
       "    </tr>\n",
       "    <tr>\n",
       "      <th>1</th>\n",
       "      <td>Truck</td>\n",
       "      <td>Large</td>\n",
       "      <td>going far</td>\n",
       "      <td>2023-10-05 08:07:39.000</td>\n",
       "      <td>2023-10-05 08:08:09.000</td>\n",
       "      <td>692</td>\n",
       "      <td>0</td>\n",
       "      <td>0.0</td>\n",
       "      <td>9.425319e-07</td>\n",
       "      <td>1.945225e-06</td>\n",
       "      <td>0.000003</td>\n",
       "      <td>0.000004</td>\n",
       "      <td>0.000006</td>\n",
       "      <td>0.000008</td>\n",
       "      <td>0.000010</td>\n",
       "      <td>0.000013</td>\n",
       "      <td>0.000019</td>\n",
       "      <td>0.000299</td>\n",
       "    </tr>\n",
       "    <tr>\n",
       "      <th>2</th>\n",
       "      <td>Car</td>\n",
       "      <td>Small</td>\n",
       "      <td>coming close</td>\n",
       "      <td>2023-10-05 08:07:32.000</td>\n",
       "      <td>2023-10-05 08:08:02.000</td>\n",
       "      <td>0</td>\n",
       "      <td>692</td>\n",
       "      <td>0.0</td>\n",
       "      <td>4.812929e-07</td>\n",
       "      <td>9.826396e-07</td>\n",
       "      <td>0.000002</td>\n",
       "      <td>0.000002</td>\n",
       "      <td>0.000003</td>\n",
       "      <td>0.000004</td>\n",
       "      <td>0.000005</td>\n",
       "      <td>0.000006</td>\n",
       "      <td>0.000010</td>\n",
       "      <td>0.000181</td>\n",
       "    </tr>\n",
       "    <tr>\n",
       "      <th>3</th>\n",
       "      <td>Car</td>\n",
       "      <td>Small</td>\n",
       "      <td>going far</td>\n",
       "      <td>2023-10-05 08:08:12.000</td>\n",
       "      <td>2023-10-05 08:08:42.000</td>\n",
       "      <td>692</td>\n",
       "      <td>0</td>\n",
       "      <td>0.0</td>\n",
       "      <td>4.211313e-07</td>\n",
       "      <td>8.623164e-07</td>\n",
       "      <td>0.000001</td>\n",
       "      <td>0.000002</td>\n",
       "      <td>0.000002</td>\n",
       "      <td>0.000003</td>\n",
       "      <td>0.000004</td>\n",
       "      <td>0.000005</td>\n",
       "      <td>0.000007</td>\n",
       "      <td>0.000060</td>\n",
       "    </tr>\n",
       "    <tr>\n",
       "      <th>4</th>\n",
       "      <td>Car</td>\n",
       "      <td>Small</td>\n",
       "      <td>coming close</td>\n",
       "      <td>2023-10-05 08:12:54.000</td>\n",
       "      <td>2023-10-05 08:13:24.000</td>\n",
       "      <td>0</td>\n",
       "      <td>692</td>\n",
       "      <td>0.0</td>\n",
       "      <td>4.010774e-07</td>\n",
       "      <td>8.021548e-07</td>\n",
       "      <td>0.000001</td>\n",
       "      <td>0.000002</td>\n",
       "      <td>0.000002</td>\n",
       "      <td>0.000003</td>\n",
       "      <td>0.000003</td>\n",
       "      <td>0.000004</td>\n",
       "      <td>0.000006</td>\n",
       "      <td>0.000265</td>\n",
       "    </tr>\n",
       "    <tr>\n",
       "      <th>...</th>\n",
       "      <td>...</td>\n",
       "      <td>...</td>\n",
       "      <td>...</td>\n",
       "      <td>...</td>\n",
       "      <td>...</td>\n",
       "      <td>...</td>\n",
       "      <td>...</td>\n",
       "      <td>...</td>\n",
       "      <td>...</td>\n",
       "      <td>...</td>\n",
       "      <td>...</td>\n",
       "      <td>...</td>\n",
       "      <td>...</td>\n",
       "      <td>...</td>\n",
       "      <td>...</td>\n",
       "      <td>...</td>\n",
       "      <td>...</td>\n",
       "      <td>...</td>\n",
       "    </tr>\n",
       "    <tr>\n",
       "      <th>337</th>\n",
       "      <td>Car</td>\n",
       "      <td>Small</td>\n",
       "      <td>going far</td>\n",
       "      <td>2023-10-05 11:03:56.070</td>\n",
       "      <td>2023-10-05 11:04:26.070</td>\n",
       "      <td>692</td>\n",
       "      <td>0</td>\n",
       "      <td>0.0</td>\n",
       "      <td>3.409158e-07</td>\n",
       "      <td>7.018854e-07</td>\n",
       "      <td>0.000001</td>\n",
       "      <td>0.000001</td>\n",
       "      <td>0.000002</td>\n",
       "      <td>0.000002</td>\n",
       "      <td>0.000003</td>\n",
       "      <td>0.000004</td>\n",
       "      <td>0.000005</td>\n",
       "      <td>0.000029</td>\n",
       "    </tr>\n",
       "    <tr>\n",
       "      <th>338</th>\n",
       "      <td>Car</td>\n",
       "      <td>Small</td>\n",
       "      <td>coming close</td>\n",
       "      <td>2023-10-05 11:03:52.070</td>\n",
       "      <td>2023-10-05 11:04:22.070</td>\n",
       "      <td>0</td>\n",
       "      <td>692</td>\n",
       "      <td>0.0</td>\n",
       "      <td>3.810235e-07</td>\n",
       "      <td>7.821009e-07</td>\n",
       "      <td>0.000001</td>\n",
       "      <td>0.000002</td>\n",
       "      <td>0.000002</td>\n",
       "      <td>0.000003</td>\n",
       "      <td>0.000003</td>\n",
       "      <td>0.000004</td>\n",
       "      <td>0.000006</td>\n",
       "      <td>0.000048</td>\n",
       "    </tr>\n",
       "    <tr>\n",
       "      <th>339</th>\n",
       "      <td>Car</td>\n",
       "      <td>Small</td>\n",
       "      <td>coming close</td>\n",
       "      <td>2023-10-05 11:04:23.260</td>\n",
       "      <td>2023-10-05 11:04:53.260</td>\n",
       "      <td>0</td>\n",
       "      <td>692</td>\n",
       "      <td>0.0</td>\n",
       "      <td>4.010774e-07</td>\n",
       "      <td>8.222087e-07</td>\n",
       "      <td>0.000001</td>\n",
       "      <td>0.000002</td>\n",
       "      <td>0.000002</td>\n",
       "      <td>0.000003</td>\n",
       "      <td>0.000004</td>\n",
       "      <td>0.000005</td>\n",
       "      <td>0.000006</td>\n",
       "      <td>0.000080</td>\n",
       "    </tr>\n",
       "    <tr>\n",
       "      <th>340</th>\n",
       "      <td>Car</td>\n",
       "      <td>Small</td>\n",
       "      <td>coming close</td>\n",
       "      <td>2023-10-05 11:04:50.580</td>\n",
       "      <td>2023-10-05 11:05:20.580</td>\n",
       "      <td>0</td>\n",
       "      <td>692</td>\n",
       "      <td>0.0</td>\n",
       "      <td>4.211313e-07</td>\n",
       "      <td>8.623164e-07</td>\n",
       "      <td>0.000001</td>\n",
       "      <td>0.000002</td>\n",
       "      <td>0.000002</td>\n",
       "      <td>0.000003</td>\n",
       "      <td>0.000004</td>\n",
       "      <td>0.000005</td>\n",
       "      <td>0.000007</td>\n",
       "      <td>0.000068</td>\n",
       "    </tr>\n",
       "    <tr>\n",
       "      <th>341</th>\n",
       "      <td>Car</td>\n",
       "      <td>Small</td>\n",
       "      <td>coming close</td>\n",
       "      <td>2023-10-05 11:05:22.000</td>\n",
       "      <td>2023-10-05 11:05:52.000</td>\n",
       "      <td>0</td>\n",
       "      <td>692</td>\n",
       "      <td>0.0</td>\n",
       "      <td>4.812929e-07</td>\n",
       "      <td>9.625858e-07</td>\n",
       "      <td>0.000001</td>\n",
       "      <td>0.000002</td>\n",
       "      <td>0.000003</td>\n",
       "      <td>0.000003</td>\n",
       "      <td>0.000004</td>\n",
       "      <td>0.000005</td>\n",
       "      <td>0.000008</td>\n",
       "      <td>0.000080</td>\n",
       "    </tr>\n",
       "  </tbody>\n",
       "</table>\n",
       "<p>342 rows × 18 columns</p>\n",
       "</div>"
      ],
      "text/plain": [
       "      Type  Type2 Direction camera                      t1  \\\n",
       "0      Car  Small     coming close 2023-10-05 08:06:25.000   \n",
       "1    Truck  Large        going far 2023-10-05 08:07:39.000   \n",
       "2      Car  Small     coming close 2023-10-05 08:07:32.000   \n",
       "3      Car  Small        going far 2023-10-05 08:08:12.000   \n",
       "4      Car  Small     coming close 2023-10-05 08:12:54.000   \n",
       "..     ...    ...              ...                     ...   \n",
       "337    Car  Small        going far 2023-10-05 11:03:56.070   \n",
       "338    Car  Small     coming close 2023-10-05 11:03:52.070   \n",
       "339    Car  Small     coming close 2023-10-05 11:04:23.260   \n",
       "340    Car  Small     coming close 2023-10-05 11:04:50.580   \n",
       "341    Car  Small     coming close 2023-10-05 11:05:22.000   \n",
       "\n",
       "                         t2   s1   s2  min            q1            q2  \\\n",
       "0   2023-10-05 08:06:55.000    0  692  0.0  3.409158e-07  7.018854e-07   \n",
       "1   2023-10-05 08:08:09.000  692    0  0.0  9.425319e-07  1.945225e-06   \n",
       "2   2023-10-05 08:08:02.000    0  692  0.0  4.812929e-07  9.826396e-07   \n",
       "3   2023-10-05 08:08:42.000  692    0  0.0  4.211313e-07  8.623164e-07   \n",
       "4   2023-10-05 08:13:24.000    0  692  0.0  4.010774e-07  8.021548e-07   \n",
       "..                      ...  ...  ...  ...           ...           ...   \n",
       "337 2023-10-05 11:04:26.070  692    0  0.0  3.409158e-07  7.018854e-07   \n",
       "338 2023-10-05 11:04:22.070    0  692  0.0  3.810235e-07  7.821009e-07   \n",
       "339 2023-10-05 11:04:53.260    0  692  0.0  4.010774e-07  8.222087e-07   \n",
       "340 2023-10-05 11:05:20.580    0  692  0.0  4.211313e-07  8.623164e-07   \n",
       "341 2023-10-05 11:05:52.000    0  692  0.0  4.812929e-07  9.625858e-07   \n",
       "\n",
       "           q3        q4        q5        q6        q7        q8        q9  \\\n",
       "0    0.000001  0.000001  0.000002  0.000002  0.000003  0.000004  0.000005   \n",
       "1    0.000003  0.000004  0.000006  0.000008  0.000010  0.000013  0.000019   \n",
       "2    0.000002  0.000002  0.000003  0.000004  0.000005  0.000006  0.000010   \n",
       "3    0.000001  0.000002  0.000002  0.000003  0.000004  0.000005  0.000007   \n",
       "4    0.000001  0.000002  0.000002  0.000003  0.000003  0.000004  0.000006   \n",
       "..        ...       ...       ...       ...       ...       ...       ...   \n",
       "337  0.000001  0.000001  0.000002  0.000002  0.000003  0.000004  0.000005   \n",
       "338  0.000001  0.000002  0.000002  0.000003  0.000003  0.000004  0.000006   \n",
       "339  0.000001  0.000002  0.000002  0.000003  0.000004  0.000005  0.000006   \n",
       "340  0.000001  0.000002  0.000002  0.000003  0.000004  0.000005  0.000007   \n",
       "341  0.000001  0.000002  0.000003  0.000003  0.000004  0.000005  0.000008   \n",
       "\n",
       "          max  \n",
       "0    0.000041  \n",
       "1    0.000299  \n",
       "2    0.000181  \n",
       "3    0.000060  \n",
       "4    0.000265  \n",
       "..        ...  \n",
       "337  0.000029  \n",
       "338  0.000048  \n",
       "339  0.000080  \n",
       "340  0.000068  \n",
       "341  0.000080  \n",
       "\n",
       "[342 rows x 18 columns]"
      ]
     },
     "execution_count": 12,
     "metadata": {},
     "output_type": "execute_result"
    }
   ],
   "source": [
    "new_column_names = ['min', 'q1', 'q2', 'q3', 'q4', 'q5', 'q6', 'q7', 'q8', 'q9', 'max']\n",
    "\n",
    "# Convert the array to a DataFrame and assign column names\n",
    "new_data_df = pd.DataFrame(strain_rate_list, columns=new_column_names)\n",
    "\n",
    "# Concatenate the existing DataFrame with the new one\n",
    "combined_df = pd.concat([log, new_data_df], axis=1)\n",
    "combined_df"
   ]
  },
  {
   "cell_type": "code",
   "execution_count": 13,
   "metadata": {},
   "outputs": [
    {
     "data": {
      "image/png": "[encoded data removed]",
      "text/plain": [
       "<Figure size 600x400 with 1 Axes>"
      ]
     },
     "metadata": {},
     "output_type": "display_data"
    }
   ],
   "source": [
    "plt.figure(figsize=(6, 4))\n",
    "(\n",
    "    combined_df\n",
    "    .loc[lambda df: df['Type2']=='Small']\n",
    "    .q5\n",
    "    .hist(density=False, bins=10)\n",
    ")\n",
    "plt.xlim(0, 2.1*10**-5)\n",
    "plt.xlabel('Median of the absolute strain rate', fontweight='bold')\n",
    "plt.ylabel('Count', fontweight='bold')\n",
    "# Make the tick labels along the x and y axes bold\n",
    "plt.xticks(fontweight='bold')\n",
    "plt.yticks(fontweight='bold')\n",
    "plt.title('Small vehicles', fontweight='bold');"
   ]
  },
  {
   "cell_type": "code",
   "execution_count": 14,
   "metadata": {},
   "outputs": [
    {
     "data": {
      "image/png": "[encoded data removed]",
      "text/plain": [
       "<Figure size 600x400 with 1 Axes>"
      ]
     },
     "metadata": {},
     "output_type": "display_data"
    }
   ],
   "source": [
    "plt.figure(figsize=(6, 4))\n",
    "(\n",
    "    combined_df\n",
    "    .loc[lambda df: df['Type2']=='Large']\n",
    "    .q5\n",
    "    .hist(density=False, bins=10)\n",
    ")\n",
    "plt.xlim(0, 2.1*10**-5)\n",
    "plt.xlabel('Median of the absolute strain rate', fontweight='bold')\n",
    "plt.ylabel('Count', fontweight='bold')\n",
    "# Make the tick labels along the x and y axes bold\n",
    "plt.xticks(fontweight='bold')\n",
    "plt.yticks(fontweight='bold')\n",
    "plt.title('Large vehicles', fontweight='bold');"
   ]
  },
  {
   "cell_type": "code",
   "execution_count": 15,
   "metadata": {},
   "outputs": [],
   "source": [
    "small_idx = (\n",
    "    log\n",
    "    .loc[lambda df: df['Type2']=='Small']\n",
    "    .index\n",
    "    .to_list()\n",
    ")\n",
    "\n",
    "large_idx = (\n",
    "    log\n",
    "    .loc[lambda df: df['Type2']=='Large']\n",
    "    .index\n",
    "    .to_list()\n",
    ")"
   ]
  },
  {
   "cell_type": "code",
   "execution_count": 16,
   "metadata": {},
   "outputs": [],
   "source": [
    "small_spectrum = np.median(np.array(agg_spectrum_list)[small_idx, :], axis=0)\n",
    "large_spectrum = np.median(np.array(agg_spectrum_list)[large_idx, :], axis=0)"
   ]
  },
  {
   "cell_type": "code",
   "execution_count": 17,
   "metadata": {},
   "outputs": [
    {
     "data": {
      "text/plain": [
       "array([0.00091845, 0.00090615, 0.0009494 , ..., 0.00026015, 0.00026101,\n",
       "       0.00025758])"
      ]
     },
     "execution_count": 17,
     "metadata": {},
     "output_type": "execute_result"
    }
   ],
   "source": [
    "large_spectrum"
   ]
  },
  {
   "cell_type": "code",
   "execution_count": 18,
   "metadata": {},
   "outputs": [
    {
     "name": "stderr",
     "output_type": "stream",
     "text": [
      "7 files, from 085054 to 085154\n"
     ]
    }
   ],
   "source": [
    "das.load_data(\n",
    "    folder_path='/media/kptruong/yellow02/Aastfjordbrua/Aastfjordbrua/',\n",
    "    # start='20231005 082400',  # One car\n",
    "    start='20231005 085100',  # Noise\n",
    "    duration=60,\n",
    "    integrate=False,\n",
    "    chIndex=chIndex,\n",
    "    reset_channel_idx=True,\n",
    ")"
   ]
  },
  {
   "cell_type": "code",
   "execution_count": 19,
   "metadata": {},
   "outputs": [],
   "source": [
    "line = np.array([   19, 10000,   691, 38000])\n",
    "noise_frequencies, noise_spectrum = das.fft_windows(\n",
    "    line=line,\n",
    "    t=int(das.t_rate*1.5),\n",
    "    # flim=(0, 30),\n",
    "    # ylim=(0, 1.34*10**-3),\n",
    "    plot=False\n",
    ")"
   ]
  },
  {
   "cell_type": "code",
   "execution_count": 20,
   "metadata": {},
   "outputs": [
    {
     "data": {
      "image/png": "[encoded data removed]",
      "text/plain": [
       "<Figure size 600x400 with 1 Axes>"
      ]
     },
     "metadata": {},
     "output_type": "display_data"
    }
   ],
   "source": [
    "plt.figure(figsize=(6, 4))\n",
    "plt.plot(frequencies_list[0], small_spectrum, label='Small Vehicles', alpha=1, linewidth=2)\n",
    "plt.plot(frequencies_list[0], large_spectrum, label='Large Vehicles', alpha=1, linewidth=2)\n",
    "plt.plot(frequencies_list[0], noise_spectrum, label='Noise', alpha=1, linewidth=1, color='black')\n",
    "plt.ylim(0, 0.006)\n",
    "plt.xlabel('Frequency', fontweight='bold')\n",
    "plt.ylabel('Amplitude', fontweight='bold')\n",
    "# Make the tick labels along the x and y axes bold\n",
    "plt.xticks(fontweight='bold')\n",
    "plt.yticks(fontweight='bold')\n",
    "plt.title('Frequency Spectrum', fontweight='bold')\n",
    "plt.legend();"
   ]
  },
  {
   "cell_type": "code",
   "execution_count": 21,
   "metadata": {},
   "outputs": [
    {
     "data": {
      "image/png": "[encoded data removed]",
      "text/plain": [
       "<Figure size 600x400 with 1 Axes>"
      ]
     },
     "metadata": {},
     "output_type": "display_data"
    }
   ],
   "source": [
    "plt.figure(figsize=(6, 4))\n",
    "plt.plot(frequencies_list[0], small_spectrum, label='Small Vehicles', alpha=1, linewidth=2)\n",
    "plt.plot(frequencies_list[0], large_spectrum, label='Large Vehicles', alpha=1, linewidth=2)\n",
    "plt.plot(frequencies_list[0], noise_spectrum, label='Noise', alpha=1, linewidth=1, color='black')\n",
    "plt.ylim(0, 0.006)\n",
    "plt.xlim(0, 50)\n",
    "plt.xlabel('Frequency', fontweight='bold')\n",
    "plt.ylabel('Amplitude', fontweight='bold')\n",
    "# Make the tick labels along the x and y axes bold\n",
    "plt.xticks(fontweight='bold')\n",
    "plt.yticks(fontweight='bold')\n",
    "# plt.title('Frequency Spectrum', fontweight='bold')\n",
    "plt.legend();"
   ]
  },
  {
   "cell_type": "code",
   "execution_count": 22,
   "metadata": {},
   "outputs": [],
   "source": [
    "connection_string = utils.create_connection_string(\n",
    "    endpoint=params['database']['endpoint'],\n",
    "    database=params['database']['database'],\n",
    "    db_username=os.getenv('POSTGRESQL_USERNAME'),\n",
    "    db_password=os.getenv('POSTGRESQL_PASSWORD'),\n",
    "    type=params['database']['type'],\n",
    "    dbapi=params['database']['dbapi'],\n",
    "    port=params['database']['port']\n",
    ")\n",
    "\n",
    "query = \"\"\"\n",
    "WITH ranked_rows AS (\n",
    "  SELECT *,\n",
    "         ROW_NUMBER() OVER (PARTITION BY line_id ORDER BY created_at DESC) AS rn\n",
    "  FROM vehicles\n",
    "  WHERE (created_at BETWEEN '2024-09-09 22:00:00' AND '2024-09-10 22:00:00')\n",
    "  AND ABS(SPEED_KMH) BETWEEN 35 AND 125\n",
    ")\n",
    "SELECT *\n",
    "FROM ranked_rows\n",
    "WHERE rn = 1;\n",
    "\"\"\"\n",
    "previous_lines_df = utils.read_sql(query, connection_string)\n",
    "np.random.seed(42)\n",
    "v_type = np.random.choice(['Large', 'Small'], size=len(previous_lines_df), p=[0.18, 0.82])\n",
    "previous_lines_df = (\n",
    "    previous_lines_df\n",
    "    .assign(Type=v_type)\n",
    ")"
   ]
  },
  {
   "cell_type": "code",
   "execution_count": 23,
   "metadata": {},
   "outputs": [
    {
     "data": {
      "text/plain": [
       "<Figure size 400x400 with 0 Axes>"
      ]
     },
     "metadata": {},
     "output_type": "display_data"
    },
    {
     "data": {
      "image/png": "[encoded data removed]",
      "text/plain": [
       "<Figure size 600x400 with 1 Axes>"
      ]
     },
     "metadata": {},
     "output_type": "display_data"
    }
   ],
   "source": [
    "hourly_direction = (\n",
    "    previous_lines_df\n",
    "    .assign(created_at=lambda df: df['created_at'].dt.tz_convert('Europe/Berlin'))\n",
    "    .assign(Hour=lambda df: df['created_at'].dt.hour)\n",
    "    .assign(Direction=lambda df: np.where(df['speed_kmh'] > 0, 'To Trondheim', 'From Trondheim'))\n",
    "    .groupby(['Hour', 'Direction'])\n",
    "    .size()\n",
    "    .unstack(level='Direction')\n",
    "    .assign(Total=lambda df: df.sum(axis=1))\n",
    "    .assign(FromTrondheimPercent=lambda df: df['From Trondheim'] / df['Total'] * 100)\n",
    ")\n",
    "\n",
    "\n",
    "plt.figure(figsize=(4, 4))\n",
    "\n",
    "# Plot the stacked bar chart\n",
    "ax = hourly_direction[['From Trondheim', 'To Trondheim']].plot(kind='bar', stacked=True, figsize=(6, 4), width=0.8)\n",
    "\n",
    "# Annotate the percentage of \"From Trondheim\" near the bottom of each bar\n",
    "for i in range(len(hourly_direction)):\n",
    "    from_trondheim_value = hourly_direction['From Trondheim'].iloc[i]\n",
    "    percent_from_trondheim = hourly_direction['FromTrondheimPercent'].iloc[i]\n",
    "    \n",
    "    # Annotate percentage for \"From Trondheim\"\n",
    "    ax.text(i+0.15, from_trondheim_value / 2 + 5, f'{percent_from_trondheim:.0f} %', \n",
    "            ha='center', va='center', color='black', fontsize=10, rotation=90)\n",
    "\n",
    "# Add labels and title\n",
    "plt.xlabel('Hour', fontweight='bold')\n",
    "plt.ylabel('Count', fontweight='bold')\n",
    "plt.title('Hourly Traffic - Direction', fontweight='bold')\n",
    "\n",
    "# Make the tick labels along the x and y axes bold\n",
    "plt.xticks(fontweight='bold')\n",
    "plt.yticks(fontweight='bold')\n",
    "\n",
    "\n",
    "# # Show the plot\n",
    "plt.show()"
   ]
  },
  {
   "cell_type": "code",
   "execution_count": 24,
   "metadata": {},
   "outputs": [
    {
     "data": {
      "text/plain": [
       "<Figure size 400x400 with 0 Axes>"
      ]
     },
     "metadata": {},
     "output_type": "display_data"
    },
    {
     "data": {
      "image/png": "[encoded data removed]",
      "text/plain": [
       "<Figure size 600x400 with 1 Axes>"
      ]
     },
     "metadata": {},
     "output_type": "display_data"
    }
   ],
   "source": [
    "hourly_type = (\n",
    "    previous_lines_df\n",
    "    .assign(created_at=lambda df: df['created_at'].dt.tz_convert('Europe/Berlin'))\n",
    "    .assign(Hour=lambda df: df['created_at'].dt.hour)\n",
    "    # .assign(Direction=lambda df: np.where(df['speed_kmh'] > 0, 'To Trondheim', 'From Trondheim'))\n",
    "    .groupby(['Hour', 'Type'])\n",
    "    .size()\n",
    "    .unstack(level='Type')\n",
    "    .assign(Total=lambda df: df.sum(axis=1))\n",
    "    .assign(SmallPercent=lambda df: df['Small'] / df['Total'] * 100)\n",
    ")\n",
    "\n",
    "\n",
    "plt.figure(figsize=(4, 4))\n",
    "\n",
    "# Plot the stacked bar chart\n",
    "ax = hourly_type[['Small', 'Large']].plot(kind='bar', stacked=True, figsize=(6, 4), width=0.8)\n",
    "\n",
    "# Annotate the percentage of \"From Trondheim\" near the bottom of each bar\n",
    "for i in range(len(hourly_type)):\n",
    "    from_trondheim_value = hourly_type['Small'].iloc[i]\n",
    "    percent_from_trondheim = hourly_type['SmallPercent'].iloc[i]\n",
    "    \n",
    "    # Annotate percentage for \"From Trondheim\"\n",
    "    ax.text(i+0.15, from_trondheim_value / 2 + 5, f'{percent_from_trondheim:.0f} %', \n",
    "            ha='center', va='center', color='black', fontsize=10, rotation=90)\n",
    "\n",
    "# Add labels and title\n",
    "plt.xlabel('Hour', fontweight='bold')\n",
    "plt.ylabel('Count', fontweight='bold')\n",
    "plt.title('Hourly Traffic - Vehicle Type', fontweight='bold')\n",
    "\n",
    "# Make the tick labels along the x and y axes bold\n",
    "plt.xticks(fontweight='bold')\n",
    "plt.yticks(fontweight='bold')\n",
    "\n",
    "\n",
    "# # Show the plot\n",
    "plt.show()"
   ]
  },
  {
   "cell_type": "code",
   "execution_count": 25,
   "metadata": {},
   "outputs": [],
   "source": [
    "hourly_speed = (\n",
    "    previous_lines_df\n",
    "    .assign(created_at=lambda df: df['created_at'].dt.tz_convert('Europe/Berlin'))\n",
    "    .assign(Hour=lambda df: df['created_at'].dt.hour)\n",
    "    .assign(Direction=lambda df: np.where(df['speed_kmh'] > 0, 'To Trondheim', 'From Trondheim'))\n",
    "    .assign(speed_kmh=lambda df: np.abs(df['speed_kmh']))\n",
    "    .groupby(['Hour', 'Direction'])\n",
    "    .agg({'speed_kmh': ['mean', 'std']})\n",
    "    .fillna(0)\n",
    "    # .size()\n",
    "    # .unstack(level='Direction')\n",
    "    # .assign(Total=lambda df: df.sum(axis=1))\n",
    "    # .assign(FromTrondheimPercent=lambda df: df['From Trondheim'] / df['Total'] * 100)\n",
    ")\n",
    "# hourly_speed"
   ]
  },
  {
   "cell_type": "code",
   "execution_count": 26,
   "metadata": {},
   "outputs": [
    {
     "data": {
      "image/png": "[encoded data removed]",
      "text/plain": [
       "<Figure size 600x400 with 1 Axes>"
      ]
     },
     "metadata": {},
     "output_type": "display_data"
    }
   ],
   "source": [
    "# Extract data for 'From Trondheim'\n",
    "from_trondheim_mean = hourly_speed.loc[:, ('speed_kmh', 'mean')].xs('From Trondheim', level='Direction')\n",
    "from_trondheim_std = hourly_speed.loc[:, ('speed_kmh', 'std')].xs('From Trondheim', level='Direction')\n",
    "\n",
    "# Extract data for 'To Trondheim'\n",
    "to_trondheim_mean = hourly_speed.loc[:, ('speed_kmh', 'mean')].xs('To Trondheim', level='Direction')\n",
    "to_trondheim_std = hourly_speed.loc[:, ('speed_kmh', 'std')].xs('To Trondheim', level='Direction')\n",
    "\n",
    "# Create the plot\n",
    "plt.figure(figsize=(6, 4))\n",
    "\n",
    "# Plot 'From Trondheim' with shaded area for std\n",
    "plt.plot(from_trondheim_mean.index, from_trondheim_mean, label='From Trondheim', linewidth=3)  # Increased linewidth\n",
    "plt.fill_between(from_trondheim_mean.index, \n",
    "                 from_trondheim_mean - from_trondheim_std, \n",
    "                 from_trondheim_mean + from_trondheim_std, \n",
    "                 alpha=0.15)\n",
    "\n",
    "# Plot 'To Trondheim' with shaded area for std\n",
    "plt.plot(to_trondheim_mean.index, to_trondheim_mean, label='To Trondheim', linewidth=3)  # Increased linewidth\n",
    "plt.fill_between(to_trondheim_mean.index, \n",
    "                 to_trondheim_mean - to_trondheim_std, \n",
    "                 to_trondheim_mean + to_trondheim_std, \n",
    "                alpha=0.15)\n",
    "\n",
    "# Add labels and legend\n",
    "plt.xlabel('Hour', fontweight='bold')\n",
    "plt.ylabel('Speed (km/h)', fontweight='bold')\n",
    "plt.title('Daily Speed ± 1STD', fontweight='bold')\n",
    "\n",
    "# Make the tick labels along the x and y axes bold\n",
    "plt.xticks(fontweight='bold')\n",
    "plt.yticks(fontweight='bold')\n",
    "\n",
    "# Show all 24 hours on the x-axis\n",
    "plt.xticks(ticks=range(24), rotation=90)  # Set xticks from 0 to 23 and rotate by 90 degrees\n",
    "\n",
    "# Display legend\n",
    "plt.legend()\n",
    "\n",
    "# Show the plot\n",
    "plt.tight_layout()  # Adjust layout to fit labels\n",
    "plt.show()"
   ]
  },
  {
   "cell_type": "markdown",
   "metadata": {},
   "source": [
    "# Speed histogram and focus on the high speed"
   ]
  },
  {
   "cell_type": "code",
   "execution_count": 27,
   "metadata": {},
   "outputs": [
    {
     "data": {
      "image/png": "[encoded data removed]",
      "text/plain": [
       "<Figure size 600x400 with 1 Axes>"
      ]
     },
     "metadata": {},
     "output_type": "display_data"
    }
   ],
   "source": [
    "plt.figure(figsize=(6, 4))\n",
    "(\n",
    "    previous_lines_df\n",
    "    .speed_kmh\n",
    "    .abs()\n",
    "    .hist(density=True, bins=range(40, 130, 5))\n",
    ")\n",
    "# Add labels and legend\n",
    "plt.xlabel('Speed (km/h)', fontweight='bold')\n",
    "plt.ylabel('Density', fontweight='bold')\n",
    "plt.title('Speed Histogram', fontweight='bold')\n",
    "\n",
    "# Make the tick labels along the x and y axes bold\n",
    "plt.xticks(fontweight='bold')\n",
    "plt.yticks(fontweight='bold');"
   ]
  },
  {
   "cell_type": "code",
   "execution_count": 28,
   "metadata": {},
   "outputs": [
    {
     "name": "stderr",
     "output_type": "stream",
     "text": [
      "posx and posy should be finite values\n",
      "posx and posy should be finite values\n",
      "posx and posy should be finite values\n",
      "posx and posy should be finite values\n",
      "posx and posy should be finite values\n",
      "posx and posy should be finite values\n",
      "posx and posy should be finite values\n",
      "posx and posy should be finite values\n",
      "posx and posy should be finite values\n",
      "posx and posy should be finite values\n",
      "posx and posy should be finite values\n",
      "posx and posy should be finite values\n"
     ]
    },
    {
     "data": {
      "image/png": "[encoded data removed]",
      "text/plain": [
       "<Figure size 600x400 with 1 Axes>"
      ]
     },
     "metadata": {},
     "output_type": "display_data"
    }
   ],
   "source": [
    "a = (\n",
    "    previous_lines_df\n",
    "    .assign(created_at=lambda df: df['created_at'].dt.tz_convert('Europe/Berlin'))\n",
    "    .assign(Hour=lambda df: df['created_at'].dt.hour)\n",
    "    .loc[lambda df: df['speed_kmh'].abs().between(100, 130)]\n",
    "    .groupby('Hour')\n",
    "    .size()\n",
    ")\n",
    "\n",
    "b = (\n",
    "    previous_lines_df\n",
    "    .assign(created_at=lambda df: df['created_at'].dt.tz_convert('Europe/Berlin'))\n",
    "    .assign(Hour=lambda df: df['created_at'].dt.hour)\n",
    "    # .loc[lambda df: df['speed_kmh'].abs().between(115, 120)]\n",
    "    .groupby('Hour')\n",
    "    .size()\n",
    ")\n",
    "prop = (a / b)\n",
    "ax = prop.plot(kind='bar', figsize=(6, 4), width=0.8)\n",
    "for i, v in enumerate(prop):\n",
    "    ax.text(i+0.1, v-0.02, f'{v * 100:.0f}%', ha='center', va='bottom', fontsize=10, rotation=90, color='black')\n",
    "# Add labels and legend\n",
    "plt.xlabel('Hour', fontweight='bold')\n",
    "plt.ylabel('Percentage', fontweight='bold')\n",
    "plt.title('Proportion of significant overspeeding (>100km/h)', fontweight='bold')\n",
    "\n",
    "# Make the tick labels along the x and y axes bold\n",
    "plt.xticks(fontweight='bold')\n",
    "plt.yticks(fontweight='bold');"
   ]
  },
  {
   "cell_type": "markdown",
   "metadata": {},
   "source": [
    "# Weekly traffic"
   ]
  },
  {
   "cell_type": "code",
   "execution_count": 29,
   "metadata": {},
   "outputs": [],
   "source": [
    "connection_string = utils.create_connection_string(\n",
    "    endpoint=params['database']['endpoint'],\n",
    "    database=params['database']['database'],\n",
    "    db_username=os.getenv('POSTGRESQL_USERNAME'),\n",
    "    db_password=os.getenv('POSTGRESQL_PASSWORD'),\n",
    "    type=params['database']['type'],\n",
    "    dbapi=params['database']['dbapi'],\n",
    "    port=params['database']['port']\n",
    ")\n",
    "\n",
    "query = \"\"\"\n",
    "WITH ranked_rows AS (\n",
    "  SELECT *,\n",
    "         ROW_NUMBER() OVER (PARTITION BY line_id ORDER BY created_at DESC) AS rn\n",
    "  FROM vehicles\n",
    "  WHERE (created_at BETWEEN '2024-09-01 22:00:00' AND '2024-09-08 22:00:00')\n",
    "  AND ABS(SPEED_KMH) BETWEEN 35 AND 125\n",
    ")\n",
    "SELECT *\n",
    "FROM ranked_rows\n",
    "WHERE rn = 1;\n",
    "\"\"\"\n",
    "previous_lines_df = utils.read_sql(query, connection_string)\n",
    "v_type = np.random.choice(['Large', 'Small'], size=len(previous_lines_df), p=[0.21, 0.79])\n",
    "previous_lines_df = (\n",
    "    previous_lines_df\n",
    "    .assign(Type=v_type)\n",
    ")"
   ]
  },
  {
   "cell_type": "code",
   "execution_count": 30,
   "metadata": {},
   "outputs": [
    {
     "data": {
      "image/png": "[encoded data removed]",
      "text/plain": [
       "<Figure size 600x400 with 1 Axes>"
      ]
     },
     "metadata": {},
     "output_type": "display_data"
    }
   ],
   "source": [
    "daily_direction = (\n",
    "    previous_lines_df\n",
    "    .assign(created_at=lambda df: df['created_at'].dt.tz_convert('Europe/Berlin'))\n",
    "    .assign(Day=lambda df: df['created_at'].dt.strftime('%a'))\n",
    "    .assign(Direction=lambda df: np.where(df['speed_kmh'] > 0, 'To Trondheim', 'From Trondheim'))\n",
    "    .groupby(['Day', 'Direction'])\n",
    "    .size()\n",
    "    .unstack(level='Direction')\n",
    "    .assign(Total=lambda df: df.sum(axis=1))\n",
    "    .assign(FromTrondheimPercent=lambda df: df['From Trondheim'] / df['Total'] * 100)\n",
    "    .loc[['Mon', 'Tue', 'Wed', 'Thu', 'Fri', 'Sat', 'Sun']]\n",
    ")\n",
    "\n",
    "# Plot the stacked bar chart\n",
    "ax = daily_direction[['From Trondheim', 'To Trondheim']].plot(kind='bar', stacked=True, figsize=(6, 4))\n",
    "\n",
    "# Annotate the percentage of \"From Trondheim\" near the bottom of each bar\n",
    "for i in range(len(daily_direction)):\n",
    "    from_trondheim_value = daily_direction['From Trondheim'].iloc[i]\n",
    "    percent_from_trondheim = daily_direction['FromTrondheimPercent'].iloc[i]\n",
    "    \n",
    "    # Annotate percentage for \"From Trondheim\"\n",
    "    ax.text(i, from_trondheim_value / 2, f'{percent_from_trondheim:.0f} \\n %', \n",
    "            ha='center', va='center', color='black', fontsize=10)\n",
    "\n",
    "# Add labels and title\n",
    "plt.xlabel('Weekday', fontweight='bold')\n",
    "plt.ylabel('Count', fontweight='bold')\n",
    "plt.title('Weekly Traffic - Direction', fontweight='bold')\n",
    "\n",
    "# Make the tick labels along the x and y axes bold\n",
    "plt.xticks(fontweight='bold')\n",
    "plt.yticks(fontweight='bold')\n",
    "\n",
    "\n",
    "# # Show the plot\n",
    "plt.show()"
   ]
  },
  {
   "cell_type": "code",
   "execution_count": 31,
   "metadata": {},
   "outputs": [],
   "source": [
    "daily_speed = (\n",
    "    previous_lines_df\n",
    "    .assign(created_at=lambda df: df['created_at'].dt.tz_convert('Europe/Berlin'))\n",
    "    .assign(Day=lambda df: df['created_at'].dt.strftime('%a'))\n",
    "    .assign(Direction=lambda df: np.where(df['speed_kmh'] > 0, 'To Trondheim', 'From Trondheim'))\n",
    "    .assign(speed_kmh=lambda df: np.abs(df['speed_kmh']))\n",
    "    .groupby(['Day', 'Direction'])\n",
    "    .agg({'speed_kmh': ['mean', 'std']})\n",
    "    .fillna(0)\n",
    "    .loc[['Mon', 'Tue', 'Wed', 'Thu', 'Fri', 'Sat', 'Sun']]\n",
    ")"
   ]
  },
  {
   "cell_type": "code",
   "execution_count": 32,
   "metadata": {},
   "outputs": [
    {
     "data": {
      "text/html": [
       "<div>\n",
       "<style scoped>\n",
       "    .dataframe tbody tr th:only-of-type {\n",
       "        vertical-align: middle;\n",
       "    }\n",
       "\n",
       "    .dataframe tbody tr th {\n",
       "        vertical-align: top;\n",
       "    }\n",
       "\n",
       "    .dataframe thead tr th {\n",
       "        text-align: left;\n",
       "    }\n",
       "\n",
       "    .dataframe thead tr:last-of-type th {\n",
       "        text-align: right;\n",
       "    }\n",
       "</style>\n",
       "<table border=\"1\" class=\"dataframe\">\n",
       "  <thead>\n",
       "    <tr>\n",
       "      <th></th>\n",
       "      <th></th>\n",
       "      <th colspan=\"2\" halign=\"left\">speed_kmh</th>\n",
       "    </tr>\n",
       "    <tr>\n",
       "      <th></th>\n",
       "      <th></th>\n",
       "      <th>mean</th>\n",
       "      <th>std</th>\n",
       "    </tr>\n",
       "    <tr>\n",
       "      <th>Day</th>\n",
       "      <th>Direction</th>\n",
       "      <th></th>\n",
       "      <th></th>\n",
       "    </tr>\n",
       "  </thead>\n",
       "  <tbody>\n",
       "    <tr>\n",
       "      <th rowspan=\"2\" valign=\"top\">Mon</th>\n",
       "      <th>From Trondheim</th>\n",
       "      <td>82.250378</td>\n",
       "      <td>11.337523</td>\n",
       "    </tr>\n",
       "    <tr>\n",
       "      <th>To Trondheim</th>\n",
       "      <td>86.040506</td>\n",
       "      <td>10.497585</td>\n",
       "    </tr>\n",
       "    <tr>\n",
       "      <th rowspan=\"2\" valign=\"top\">Tue</th>\n",
       "      <th>From Trondheim</th>\n",
       "      <td>83.480379</td>\n",
       "      <td>11.616935</td>\n",
       "    </tr>\n",
       "    <tr>\n",
       "      <th>To Trondheim</th>\n",
       "      <td>86.937349</td>\n",
       "      <td>11.460284</td>\n",
       "    </tr>\n",
       "    <tr>\n",
       "      <th rowspan=\"2\" valign=\"top\">Wed</th>\n",
       "      <th>From Trondheim</th>\n",
       "      <td>83.136703</td>\n",
       "      <td>10.774262</td>\n",
       "    </tr>\n",
       "    <tr>\n",
       "      <th>To Trondheim</th>\n",
       "      <td>87.185722</td>\n",
       "      <td>10.222717</td>\n",
       "    </tr>\n",
       "    <tr>\n",
       "      <th rowspan=\"2\" valign=\"top\">Thu</th>\n",
       "      <th>From Trondheim</th>\n",
       "      <td>83.068664</td>\n",
       "      <td>10.593426</td>\n",
       "    </tr>\n",
       "    <tr>\n",
       "      <th>To Trondheim</th>\n",
       "      <td>86.492694</td>\n",
       "      <td>10.368409</td>\n",
       "    </tr>\n",
       "    <tr>\n",
       "      <th rowspan=\"2\" valign=\"top\">Fri</th>\n",
       "      <th>From Trondheim</th>\n",
       "      <td>83.051387</td>\n",
       "      <td>9.108690</td>\n",
       "    </tr>\n",
       "    <tr>\n",
       "      <th>To Trondheim</th>\n",
       "      <td>86.081363</td>\n",
       "      <td>9.194271</td>\n",
       "    </tr>\n",
       "    <tr>\n",
       "      <th rowspan=\"2\" valign=\"top\">Sat</th>\n",
       "      <th>From Trondheim</th>\n",
       "      <td>83.788165</td>\n",
       "      <td>10.195258</td>\n",
       "    </tr>\n",
       "    <tr>\n",
       "      <th>To Trondheim</th>\n",
       "      <td>85.962789</td>\n",
       "      <td>8.663229</td>\n",
       "    </tr>\n",
       "    <tr>\n",
       "      <th rowspan=\"2\" valign=\"top\">Sun</th>\n",
       "      <th>From Trondheim</th>\n",
       "      <td>84.144389</td>\n",
       "      <td>9.458551</td>\n",
       "    </tr>\n",
       "    <tr>\n",
       "      <th>To Trondheim</th>\n",
       "      <td>83.952313</td>\n",
       "      <td>6.486030</td>\n",
       "    </tr>\n",
       "  </tbody>\n",
       "</table>\n",
       "</div>"
      ],
      "text/plain": [
       "                    speed_kmh           \n",
       "                         mean        std\n",
       "Day Direction                           \n",
       "Mon From Trondheim  82.250378  11.337523\n",
       "    To Trondheim    86.040506  10.497585\n",
       "Tue From Trondheim  83.480379  11.616935\n",
       "    To Trondheim    86.937349  11.460284\n",
       "Wed From Trondheim  83.136703  10.774262\n",
       "    To Trondheim    87.185722  10.222717\n",
       "Thu From Trondheim  83.068664  10.593426\n",
       "    To Trondheim    86.492694  10.368409\n",
       "Fri From Trondheim  83.051387   9.108690\n",
       "    To Trondheim    86.081363   9.194271\n",
       "Sat From Trondheim  83.788165  10.195258\n",
       "    To Trondheim    85.962789   8.663229\n",
       "Sun From Trondheim  84.144389   9.458551\n",
       "    To Trondheim    83.952313   6.486030"
      ]
     },
     "execution_count": 32,
     "metadata": {},
     "output_type": "execute_result"
    }
   ],
   "source": [
    "daily_speed"
   ]
  },
  {
   "cell_type": "code",
   "execution_count": 33,
   "metadata": {},
   "outputs": [
    {
     "name": "stderr",
     "output_type": "stream",
     "text": [
      "Using categorical units to plot a list of strings that are all parsable as floats or dates. If these strings should be plotted as numbers, cast to the appropriate data type before plotting.\n",
      "Using categorical units to plot a list of strings that are all parsable as floats or dates. If these strings should be plotted as numbers, cast to the appropriate data type before plotting.\n",
      "Using categorical units to plot a list of strings that are all parsable as floats or dates. If these strings should be plotted as numbers, cast to the appropriate data type before plotting.\n",
      "Using categorical units to plot a list of strings that are all parsable as floats or dates. If these strings should be plotted as numbers, cast to the appropriate data type before plotting.\n",
      "Using categorical units to plot a list of strings that are all parsable as floats or dates. If these strings should be plotted as numbers, cast to the appropriate data type before plotting.\n",
      "Using categorical units to plot a list of strings that are all parsable as floats or dates. If these strings should be plotted as numbers, cast to the appropriate data type before plotting.\n"
     ]
    },
    {
     "data": {
      "image/png": "[encoded data removed]",
      "text/plain": [
       "<Figure size 600x400 with 1 Axes>"
      ]
     },
     "metadata": {},
     "output_type": "display_data"
    }
   ],
   "source": [
    "# Extract data for 'From Trondheim'\n",
    "from_trondheim_mean = daily_speed.loc[:, ('speed_kmh', 'mean')].xs('From Trondheim', level='Direction')\n",
    "from_trondheim_std = daily_speed.loc[:, ('speed_kmh', 'std')].xs('From Trondheim', level='Direction')\n",
    "\n",
    "# Extract data for 'To Trondheim'\n",
    "to_trondheim_mean = daily_speed.loc[:, ('speed_kmh', 'mean')].xs('To Trondheim', level='Direction')\n",
    "to_trondheim_std = daily_speed.loc[:, ('speed_kmh', 'std')].xs('To Trondheim', level='Direction')\n",
    "\n",
    "# Create the plot\n",
    "plt.figure(figsize=(6, 4))\n",
    "\n",
    "# Plot 'From Trondheim' with shaded area for std\n",
    "plt.plot(from_trondheim_mean.index, from_trondheim_mean, label='From Trondheim', linewidth=3)  # Increased linewidth\n",
    "plt.fill_between(from_trondheim_mean.index, \n",
    "                 from_trondheim_mean - from_trondheim_std, \n",
    "                 from_trondheim_mean + from_trondheim_std, \n",
    "                 alpha=0.15)\n",
    "\n",
    "# Plot 'To Trondheim' with shaded area for std\n",
    "plt.plot(to_trondheim_mean.index, to_trondheim_mean, label='To Trondheim', linewidth=3)  # Increased linewidth\n",
    "plt.fill_between(to_trondheim_mean.index, \n",
    "                 to_trondheim_mean - to_trondheim_std, \n",
    "                 to_trondheim_mean + to_trondheim_std, \n",
    "                alpha=0.15)\n",
    "\n",
    "# Add labels and legend\n",
    "plt.xlabel('Weekday', fontweight='bold')\n",
    "plt.ylabel('Speed (km/h)', fontweight='bold')\n",
    "plt.title('Weekly Speed ± 1STD', fontweight='bold')\n",
    "\n",
    "# Make the tick labels along the x and y axes bold\n",
    "plt.xticks(fontweight='bold')\n",
    "plt.yticks(fontweight='bold')\n",
    "\n",
    "# Show all 24 hours on the x-axis\n",
    "plt.xticks(rotation=90)  # Set xticks from 0 to 23 and rotate by 90 degrees\n",
    "\n",
    "# Display legend\n",
    "plt.legend()\n",
    "\n",
    "# Show the plot\n",
    "plt.tight_layout()  # Adjust layout to fit labels\n",
    "plt.show()"
   ]
  },
  {
   "cell_type": "markdown",
   "metadata": {},
   "source": [
    "# Accummulate the number of vehicles"
   ]
  },
  {
   "cell_type": "code",
   "execution_count": 34,
   "metadata": {},
   "outputs": [],
   "source": [
    "from dasly.utils import (\n",
    "    assign_id_df,\n",
    "    save_lines_csv,\n",
    "    add_subtract_dt,\n",
    "    get_date_time,\n",
    "    gen_id,\n",
    "    create_connection_string,\n",
    "    read_sql,\n",
    "    write_sql,\n",
    "    table_exists,\n",
    "    extract_elements,\n",
    "    drop_table\n",
    ")\n",
    "from dasly.simpledas import simpleDASreader"
   ]
  },
  {
   "cell_type": "code",
   "execution_count": 35,
   "metadata": {},
   "outputs": [],
   "source": [
    "def dasly_core(\n",
    "    file_path: str,\n",
    "    lowpass_filter_freq: float = 0.5,\n",
    "    decimate_t_rate: int = 6,\n",
    "    gaussian_smooth_s1: float = 80,\n",
    "    gaussian_smooth_s2: float = 95,\n",
    "    gaussian_smooth_std_s: float = 10,\n",
    "    binary_threshold: float = 2.5e-8,\n",
    "    hough_transform_speed_res: int = 0.5,\n",
    "    hough_transform_length_meters: int = 500,\n",
    "    dbscan_eps_seconds: int = 1\n",
    ") -> pd.DataFrame:\n",
    "    \"\"\"Run the Dasly core algorithms.\n",
    "\n",
    "    Args:\n",
    "        file_path (str): The path to the HDF5 file that triggers the event.\n",
    "\n",
    "    Returns:\n",
    "        pd.DataFrame: The DataFrame containing the detected lines.\n",
    "    \"\"\"\n",
    "\n",
    "    lines_df = pd.DataFrame()\n",
    "\n",
    "    # Load the data\n",
    "    ###########################################################################\n",
    "\n",
    "    date, time = get_date_time(file_path)\n",
    "    start = add_subtract_dt(\n",
    "        f'{date} {time}',\n",
    "        - (params['dasly']['batch'] + params['hdf5_file_length'])\n",
    "    )\n",
    "    file_paths_add, _, _ = simpleDASreader.find_DAS_files(\n",
    "        experiment_path=params['input_dir'],\n",
    "        start=start,\n",
    "        duration=params['dasly']['batch'] + 2 * params['hdf5_file_length'],\n",
    "        show_header_info=False\n",
    "    )\n",
    "    file_paths = extract_elements(\n",
    "        lst=file_paths_add,\n",
    "        num=int(params['dasly']['batch'] / params['hdf5_file_length']),\n",
    "        last_value=file_path\n",
    "    )\n",
    "\n",
    "    # channel\n",
    "    chIndex_all = np.arange(0, 800)\n",
    "    chIndex_remove1 = np.arange(0, 36)\n",
    "    chIndex_remove2 = np.arange(365, 387)\n",
    "    chIndex_remove3 = np.arange(751, 800)\n",
    "    chIndex_remove = np.concatenate((\n",
    "        chIndex_remove1, chIndex_remove2, chIndex_remove3))\n",
    "    chIndex = np.setdiff1d(chIndex_all, chIndex_remove)\n",
    "\n",
    "    das = Dasly()\n",
    "    das.load_data(\n",
    "        file_paths=file_paths,\n",
    "        integrate=params['integrate'],\n",
    "        chIndex=chIndex,\n",
    "        reset_channel_idx=True\n",
    "    )\n",
    "\n",
    "    # forward Gaussian smoothing\n",
    "    ###########################################################################\n",
    "    das.lowpass_filter(cutoff=lowpass_filter_freq)\n",
    "    das.decimate(t_rate=decimate_t_rate)\n",
    "    das.gaussian_smooth(\n",
    "        s1=gaussian_smooth_s1,\n",
    "        s2=gaussian_smooth_s2,\n",
    "        std_s=gaussian_smooth_std_s)\n",
    "    das.sobel_filter()\n",
    "    das.binary_transform(threshold=binary_threshold)\n",
    "    das.hough_transform(\n",
    "        target_speed=(gaussian_smooth_s1 + gaussian_smooth_s2) / 2,\n",
    "        speed_res=hough_transform_speed_res,\n",
    "        length_meters=hough_transform_length_meters)\n",
    "    if len(das.lines) > 0:\n",
    "        lines_df = pd.concat([\n",
    "            lines_df,\n",
    "            das.lines_df.loc[lambda df: df['speed_kmh'] >= 0]\n",
    "        ], axis=0, ignore_index=True)\n",
    "\n",
    "    # backward Gaussian smoothing\n",
    "    ###########################################################################\n",
    "    das.reset()\n",
    "    das.lowpass_filter(cutoff=lowpass_filter_freq)\n",
    "    das.decimate(t_rate=decimate_t_rate)\n",
    "    das.gaussian_smooth(\n",
    "        s1=-gaussian_smooth_s2,\n",
    "        s2=-gaussian_smooth_s1,\n",
    "        std_s=gaussian_smooth_std_s)\n",
    "    das.sobel_filter()\n",
    "    das.binary_transform(threshold=binary_threshold)\n",
    "    das.hough_transform(\n",
    "        target_speed=(gaussian_smooth_s1 + gaussian_smooth_s2) / 2,\n",
    "        speed_res=hough_transform_speed_res,\n",
    "        length_meters=hough_transform_length_meters)\n",
    "    if len(das.lines) > 0:\n",
    "        lines_df = pd.concat([\n",
    "            lines_df,\n",
    "            das.lines_df.loc[lambda df: df['speed_kmh'] < 0]\n",
    "        ], axis=0, ignore_index=True)\n",
    "\n",
    "    return lines_df"
   ]
  },
  {
   "cell_type": "code",
   "execution_count": 36,
   "metadata": {},
   "outputs": [],
   "source": [
    "start = '20231005 080700'\n",
    "\n",
    "file_paths, _, _ = simpleDASreader.find_DAS_files(\n",
    "    experiment_path=params['input_dir'],\n",
    "    start=start,\n",
    "    duration=3*60*60 - 1*60,  # 3 hours - 1 minute\n",
    "    # duration=60,  # 3 hours - 1 minute\n",
    "    show_header_info=False\n",
    ")"
   ]
  },
  {
   "cell_type": "code",
   "execution_count": 37,
   "metadata": {},
   "outputs": [],
   "source": [
    "# final_result = pd.DataFrame()\n",
    "# for file_path in file_paths:\n",
    "#     print(file_path)\n",
    "#     lines_df = dasly_core(\n",
    "#         file_path=file_path,\n",
    "#         lowpass_filter_freq=params['lowpass_filter_freq'],\n",
    "#         decimate_t_rate=params['decimate_t_rate'],\n",
    "#         gaussian_smooth_s1=params['gaussian_smooth']['s1'],\n",
    "#         gaussian_smooth_s2=params['gaussian_smooth']['s2'],\n",
    "#         gaussian_smooth_std_s=params['gaussian_smooth']['std_s'],\n",
    "#         binary_threshold=params['binary_threshold'],\n",
    "#         hough_transform_speed_res=params['hough_transform']['speed_res'],\n",
    "#         hough_transform_length_meters=params['hough_transform']['length_meters'],\n",
    "#         dbscan_eps_seconds=params['dbscan_eps_seconds']\n",
    "#     )\n",
    "#     final_result = pd.concat([final_result, lines_df], axis=0, ignore_index=True)"
   ]
  },
  {
   "cell_type": "code",
   "execution_count": 38,
   "metadata": {},
   "outputs": [],
   "source": [
    "# with open(\"../data/aastfjordbrua_processed/threehours.pkl\", \"wb\") as file:\n",
    "#     pickle.dump(final_result, file)"
   ]
  },
  {
   "cell_type": "code",
   "execution_count": 39,
   "metadata": {},
   "outputs": [],
   "source": [
    "with open(\"../data/aastfjordbrua_processed/threehours.pkl\", \"rb\") as file:\n",
    "    final_result = pickle.load(file)"
   ]
  },
  {
   "cell_type": "code",
   "execution_count": 40,
   "metadata": {},
   "outputs": [],
   "source": [
    "def metric(x: Union[np.array, list], y: Union[np.array, list]) -> float:\n",
    "    distance = np.abs(np.array(x) - np.array(y)).sum()\n",
    "    return distance"
   ]
  },
  {
   "cell_type": "code",
   "execution_count": 41,
   "metadata": {},
   "outputs": [],
   "source": [
    "from sklearn.cluster import DBSCAN"
   ]
  },
  {
   "cell_type": "code",
   "execution_count": 42,
   "metadata": {},
   "outputs": [
    {
     "name": "stdout",
     "output_type": "stream",
     "text": [
      "336\n"
     ]
    }
   ],
   "source": [
    "reference = datetime.strptime('2023-10-05 08:00:00', '%Y-%m-%d %H:%M:%S')\n",
    "lines = (\n",
    "    final_result\n",
    "    .assign(t1s=lambda df: (df['t1'] - reference).dt.total_seconds())\n",
    "    .assign(t2s=lambda df: (df['t2'] - reference).dt.total_seconds())\n",
    "    .loc[lambda df: df['speed_kmh'].abs().between(35, 125)]\n",
    ")\n",
    "\n",
    "cluster = DBSCAN(\n",
    "    eps=1,\n",
    "    min_samples=1,\n",
    "    metric=metric\n",
    ")\n",
    "\n",
    "cluster = cluster.fit(lines[['t1s', 't2s']])\n",
    "print(pd.Series(cluster.labels_).nunique())"
   ]
  },
  {
   "cell_type": "code",
   "execution_count": 43,
   "metadata": {},
   "outputs": [
    {
     "data": {
      "text/plain": [
       "<bound method DataFrame.assign of                                    t1                            t2  \\\n",
       "                                 mean                          mean   \n",
       "cluster                                                               \n",
       "0       2023-10-05 08:07:42.424999936 2023-10-05 08:08:11.209999872   \n",
       "1       2023-10-05 08:07:44.031250176 2023-10-05 08:08:10.520833280   \n",
       "2       2023-10-05 08:08:15.596153856 2023-10-05 08:08:47.048077056   \n",
       "7       2023-10-05 08:13:25.875000064 2023-10-05 08:13:57.500000000   \n",
       "3       2023-10-05 08:13:25.907258112 2023-10-05 08:13:59.556451584   \n",
       "...                               ...                           ...   \n",
       "333     2023-10-05 11:02:34.975000064 2023-10-05 11:03:10.124999936   \n",
       "330     2023-10-05 11:02:36.481250048 2023-10-05 11:03:10.493750016   \n",
       "331     2023-10-05 11:02:43.781250048 2023-10-05 11:03:14.750000128   \n",
       "335     2023-10-05 11:03:58.000000000 2023-10-05 11:04:29.875000064   \n",
       "334     2023-10-05 11:03:59.000000000 2023-10-05 11:04:31.156249856   \n",
       "\n",
       "         speed_kmh                  \n",
       "              mean       std count  \n",
       "cluster                             \n",
       "0       -86.101810  0.812238    25  \n",
       "1       -89.829772  1.575523    12  \n",
       "2       -77.384438  0.476812    13  \n",
       "7       -73.195257       NaN     1  \n",
       "3       -72.573449  0.847443    31  \n",
       "...            ...       ...   ...  \n",
       "333     -70.015485  0.525451     5  \n",
       "330     -71.322388  1.858878    20  \n",
       "331     -79.224197  0.516650     4  \n",
       "335     -75.557607  0.133431     3  \n",
       "334     -75.540763  0.220670     4  \n",
       "\n",
       "[336 rows x 5 columns]>"
      ]
     },
     "execution_count": 43,
     "metadata": {},
     "output_type": "execute_result"
    }
   ],
   "source": [
    "lines_cluster = (\n",
    "    lines\n",
    "    .assign(cluster=list(map(str, cluster.labels_)))\n",
    "    # .drop(['left_seconds', 'right_seconds', 'middle_seconds'], axis=1)\n",
    "    # .loc[lambda df: df['speed'].abs().between(30, 110)]\n",
    "    .astype({'cluster': 'int'})\n",
    "    .groupby('cluster')\n",
    "    .agg({\n",
    "        't1': 'mean',\n",
    "        't2': 'mean',\n",
    "        'speed_kmh': ['mean', 'std', 'count'] ,\n",
    "    })\n",
    "    .sort_values(('t1', 'mean'), ascending=True)\n",
    "    .assign\n",
    ")\n",
    "lines_cluster"
   ]
  },
  {
   "cell_type": "code",
   "execution_count": 44,
   "metadata": {},
   "outputs": [
    {
     "data": {
      "text/html": [
       "<div>\n",
       "<style scoped>\n",
       "    .dataframe tbody tr th:only-of-type {\n",
       "        vertical-align: middle;\n",
       "    }\n",
       "\n",
       "    .dataframe tbody tr th {\n",
       "        vertical-align: top;\n",
       "    }\n",
       "\n",
       "    .dataframe thead th {\n",
       "        text-align: right;\n",
       "    }\n",
       "</style>\n",
       "<table border=\"1\" class=\"dataframe\">\n",
       "  <thead>\n",
       "    <tr style=\"text-align: right;\">\n",
       "      <th></th>\n",
       "      <th>Type</th>\n",
       "      <th>Type2</th>\n",
       "      <th>Direction camera</th>\n",
       "      <th>t1</th>\n",
       "      <th>t2</th>\n",
       "      <th>s1</th>\n",
       "      <th>s2</th>\n",
       "      <th>t1_extra</th>\n",
       "    </tr>\n",
       "  </thead>\n",
       "  <tbody>\n",
       "    <tr>\n",
       "      <th>0</th>\n",
       "      <td>Car</td>\n",
       "      <td>Small</td>\n",
       "      <td>coming close</td>\n",
       "      <td>2023-10-05 08:06:25.000</td>\n",
       "      <td>2023-10-05 08:06:55.000</td>\n",
       "      <td>0</td>\n",
       "      <td>692</td>\n",
       "      <td>2023-10-05 08:06:29.967141530</td>\n",
       "    </tr>\n",
       "    <tr>\n",
       "      <th>1</th>\n",
       "      <td>Truck</td>\n",
       "      <td>Large</td>\n",
       "      <td>going far</td>\n",
       "      <td>2023-10-05 08:07:39.000</td>\n",
       "      <td>2023-10-05 08:08:09.000</td>\n",
       "      <td>692</td>\n",
       "      <td>0</td>\n",
       "      <td>2023-10-05 08:07:37.617356988</td>\n",
       "    </tr>\n",
       "    <tr>\n",
       "      <th>2</th>\n",
       "      <td>Car</td>\n",
       "      <td>Small</td>\n",
       "      <td>coming close</td>\n",
       "      <td>2023-10-05 08:07:32.000</td>\n",
       "      <td>2023-10-05 08:08:02.000</td>\n",
       "      <td>0</td>\n",
       "      <td>692</td>\n",
       "      <td>2023-10-05 08:07:38.476885381</td>\n",
       "    </tr>\n",
       "    <tr>\n",
       "      <th>3</th>\n",
       "      <td>Car</td>\n",
       "      <td>Small</td>\n",
       "      <td>going far</td>\n",
       "      <td>2023-10-05 08:08:12.000</td>\n",
       "      <td>2023-10-05 08:08:42.000</td>\n",
       "      <td>692</td>\n",
       "      <td>0</td>\n",
       "      <td>2023-10-05 08:08:27.230298564</td>\n",
       "    </tr>\n",
       "    <tr>\n",
       "      <th>4</th>\n",
       "      <td>Car</td>\n",
       "      <td>Small</td>\n",
       "      <td>coming close</td>\n",
       "      <td>2023-10-05 08:12:54.000</td>\n",
       "      <td>2023-10-05 08:13:24.000</td>\n",
       "      <td>0</td>\n",
       "      <td>692</td>\n",
       "      <td>2023-10-05 08:12:51.658466253</td>\n",
       "    </tr>\n",
       "    <tr>\n",
       "      <th>...</th>\n",
       "      <td>...</td>\n",
       "      <td>...</td>\n",
       "      <td>...</td>\n",
       "      <td>...</td>\n",
       "      <td>...</td>\n",
       "      <td>...</td>\n",
       "      <td>...</td>\n",
       "      <td>...</td>\n",
       "    </tr>\n",
       "    <tr>\n",
       "      <th>337</th>\n",
       "      <td>Car</td>\n",
       "      <td>Small</td>\n",
       "      <td>going far</td>\n",
       "      <td>2023-10-05 11:03:56.070</td>\n",
       "      <td>2023-10-05 11:04:26.070</td>\n",
       "      <td>692</td>\n",
       "      <td>0</td>\n",
       "      <td>2023-10-05 11:03:52.856141583</td>\n",
       "    </tr>\n",
       "    <tr>\n",
       "      <th>338</th>\n",
       "      <td>Car</td>\n",
       "      <td>Small</td>\n",
       "      <td>coming close</td>\n",
       "      <td>2023-10-05 11:03:52.070</td>\n",
       "      <td>2023-10-05 11:04:22.070</td>\n",
       "      <td>0</td>\n",
       "      <td>692</td>\n",
       "      <td>2023-10-05 11:03:56.199314543</td>\n",
       "    </tr>\n",
       "    <tr>\n",
       "      <th>339</th>\n",
       "      <td>Car</td>\n",
       "      <td>Small</td>\n",
       "      <td>coming close</td>\n",
       "      <td>2023-10-05 11:04:23.260</td>\n",
       "      <td>2023-10-05 11:04:53.260</td>\n",
       "      <td>0</td>\n",
       "      <td>692</td>\n",
       "      <td>2023-10-05 11:04:17.622754472</td>\n",
       "    </tr>\n",
       "    <tr>\n",
       "      <th>340</th>\n",
       "      <td>Car</td>\n",
       "      <td>Small</td>\n",
       "      <td>coming close</td>\n",
       "      <td>2023-10-05 11:04:50.580</td>\n",
       "      <td>2023-10-05 11:05:20.580</td>\n",
       "      <td>0</td>\n",
       "      <td>692</td>\n",
       "      <td>2023-10-05 11:04:42.357796044</td>\n",
       "    </tr>\n",
       "    <tr>\n",
       "      <th>341</th>\n",
       "      <td>Car</td>\n",
       "      <td>Small</td>\n",
       "      <td>coming close</td>\n",
       "      <td>2023-10-05 11:05:22.000</td>\n",
       "      <td>2023-10-05 11:05:52.000</td>\n",
       "      <td>0</td>\n",
       "      <td>692</td>\n",
       "      <td>2023-10-05 11:05:24.436872115</td>\n",
       "    </tr>\n",
       "  </tbody>\n",
       "</table>\n",
       "<p>342 rows × 8 columns</p>\n",
       "</div>"
      ],
      "text/plain": [
       "      Type  Type2 Direction camera                      t1  \\\n",
       "0      Car  Small     coming close 2023-10-05 08:06:25.000   \n",
       "1    Truck  Large        going far 2023-10-05 08:07:39.000   \n",
       "2      Car  Small     coming close 2023-10-05 08:07:32.000   \n",
       "3      Car  Small        going far 2023-10-05 08:08:12.000   \n",
       "4      Car  Small     coming close 2023-10-05 08:12:54.000   \n",
       "..     ...    ...              ...                     ...   \n",
       "337    Car  Small        going far 2023-10-05 11:03:56.070   \n",
       "338    Car  Small     coming close 2023-10-05 11:03:52.070   \n",
       "339    Car  Small     coming close 2023-10-05 11:04:23.260   \n",
       "340    Car  Small     coming close 2023-10-05 11:04:50.580   \n",
       "341    Car  Small     coming close 2023-10-05 11:05:22.000   \n",
       "\n",
       "                         t2   s1   s2                      t1_extra  \n",
       "0   2023-10-05 08:06:55.000    0  692 2023-10-05 08:06:29.967141530  \n",
       "1   2023-10-05 08:08:09.000  692    0 2023-10-05 08:07:37.617356988  \n",
       "2   2023-10-05 08:08:02.000    0  692 2023-10-05 08:07:38.476885381  \n",
       "3   2023-10-05 08:08:42.000  692    0 2023-10-05 08:08:27.230298564  \n",
       "4   2023-10-05 08:13:24.000    0  692 2023-10-05 08:12:51.658466253  \n",
       "..                      ...  ...  ...                           ...  \n",
       "337 2023-10-05 11:04:26.070  692    0 2023-10-05 11:03:52.856141583  \n",
       "338 2023-10-05 11:04:22.070    0  692 2023-10-05 11:03:56.199314543  \n",
       "339 2023-10-05 11:04:53.260    0  692 2023-10-05 11:04:17.622754472  \n",
       "340 2023-10-05 11:05:20.580    0  692 2023-10-05 11:04:42.357796044  \n",
       "341 2023-10-05 11:05:52.000    0  692 2023-10-05 11:05:24.436872115  \n",
       "\n",
       "[342 rows x 8 columns]"
      ]
     },
     "execution_count": 44,
     "metadata": {},
     "output_type": "execute_result"
    }
   ],
   "source": [
    "np.random.seed(42)\n",
    "random_seconds = np.random.normal(loc=0, scale=10, size=len(log))\n",
    "random_timedelta = pd.to_timedelta(random_seconds, unit='s')\n",
    "log_predict = (\n",
    "    log\n",
    "    .assign(t1_extra=lambda df: df['t1']+ random_timedelta)\n",
    ")\n",
    "log_predict"
   ]
  },
  {
   "cell_type": "code",
   "execution_count": 45,
   "metadata": {},
   "outputs": [
    {
     "data": {
      "text/html": [
       "<div>\n",
       "<style scoped>\n",
       "    .dataframe tbody tr th:only-of-type {\n",
       "        vertical-align: middle;\n",
       "    }\n",
       "\n",
       "    .dataframe tbody tr th {\n",
       "        vertical-align: top;\n",
       "    }\n",
       "\n",
       "    .dataframe thead th {\n",
       "        text-align: right;\n",
       "    }\n",
       "</style>\n",
       "<table border=\"1\" class=\"dataframe\">\n",
       "  <thead>\n",
       "    <tr style=\"text-align: right;\">\n",
       "      <th></th>\n",
       "      <th>t1_extra</th>\n",
       "      <th>Direction camera</th>\n",
       "    </tr>\n",
       "  </thead>\n",
       "  <tbody>\n",
       "    <tr>\n",
       "      <th>0</th>\n",
       "      <td>2023-10-05 08:06:29.967141530</td>\n",
       "      <td>coming close</td>\n",
       "    </tr>\n",
       "    <tr>\n",
       "      <th>1</th>\n",
       "      <td>2023-10-05 08:07:37.617356988</td>\n",
       "      <td>going far</td>\n",
       "    </tr>\n",
       "    <tr>\n",
       "      <th>2</th>\n",
       "      <td>2023-10-05 08:07:38.476885381</td>\n",
       "      <td>coming close</td>\n",
       "    </tr>\n",
       "    <tr>\n",
       "      <th>3</th>\n",
       "      <td>2023-10-05 08:08:27.230298564</td>\n",
       "      <td>going far</td>\n",
       "    </tr>\n",
       "    <tr>\n",
       "      <th>10</th>\n",
       "      <td>2023-10-05 08:10:10.930772480</td>\n",
       "      <td>coming close</td>\n",
       "    </tr>\n",
       "    <tr>\n",
       "      <th>...</th>\n",
       "      <td>...</td>\n",
       "      <td>...</td>\n",
       "    </tr>\n",
       "    <tr>\n",
       "      <th>337</th>\n",
       "      <td>2023-10-05 11:03:52.856141583</td>\n",
       "      <td>going far</td>\n",
       "    </tr>\n",
       "    <tr>\n",
       "      <th>338</th>\n",
       "      <td>2023-10-05 11:03:56.199314543</td>\n",
       "      <td>coming close</td>\n",
       "    </tr>\n",
       "    <tr>\n",
       "      <th>339</th>\n",
       "      <td>2023-10-05 11:04:17.622754472</td>\n",
       "      <td>coming close</td>\n",
       "    </tr>\n",
       "    <tr>\n",
       "      <th>340</th>\n",
       "      <td>2023-10-05 11:04:42.357796044</td>\n",
       "      <td>coming close</td>\n",
       "    </tr>\n",
       "    <tr>\n",
       "      <th>341</th>\n",
       "      <td>2023-10-05 11:05:24.436872115</td>\n",
       "      <td>coming close</td>\n",
       "    </tr>\n",
       "  </tbody>\n",
       "</table>\n",
       "<p>327 rows × 2 columns</p>\n",
       "</div>"
      ],
      "text/plain": [
       "                         t1_extra Direction camera\n",
       "0   2023-10-05 08:06:29.967141530     coming close\n",
       "1   2023-10-05 08:07:37.617356988        going far\n",
       "2   2023-10-05 08:07:38.476885381     coming close\n",
       "3   2023-10-05 08:08:27.230298564        going far\n",
       "10  2023-10-05 08:10:10.930772480     coming close\n",
       "..                            ...              ...\n",
       "337 2023-10-05 11:03:52.856141583        going far\n",
       "338 2023-10-05 11:03:56.199314543     coming close\n",
       "339 2023-10-05 11:04:17.622754472     coming close\n",
       "340 2023-10-05 11:04:42.357796044     coming close\n",
       "341 2023-10-05 11:05:24.436872115     coming close\n",
       "\n",
       "[327 rows x 2 columns]"
      ]
     },
     "execution_count": 45,
     "metadata": {},
     "output_type": "execute_result"
    }
   ],
   "source": [
    "np.random.seed(42)\n",
    "\n",
    "series = log_predict.sort_values('t1_extra').t1_extra\n",
    "\n",
    "min_date = series.min()\n",
    "max_date = series.max()\n",
    "\n",
    "# Generate 10 random datetime64[ns] values between min_date and max_date with fixed seed\n",
    "random_dates = pd.to_datetime(np.random.uniform(min_date.value, max_date.value, size=40), unit='ns')\n",
    "\n",
    "np.random.seed(42)\n",
    "# Generate a random list of 10 values, either 'a' or 'b'\n",
    "random_list = np.random.choice(['coming close', 'going far'], size=40)\n",
    "add_df = pd.DataFrame(\n",
    "    {\n",
    "        't1_extra': random_dates,\n",
    "        'Direction camera': random_list\n",
    "    }\n",
    ")\n",
    "\n",
    "combined_df = pd.concat([log_predict.loc[:, ['t1_extra', 'Direction camera']], add_df], axis=0)\n",
    "\n",
    "\n",
    "# Step 3: Randomly remove 50 values from the combined series\n",
    "# Shuffle the index and then remove 50 random values with fixed seed\n",
    "combined_df = combined_df.sample(frac=1, random_state=42)#.reset_index(drop=True)  # Shuffle the series\n",
    "predict_df = combined_df.drop(np.random.choice(combined_df.index, size=50, replace=False))\n",
    "predict_df = predict_df.sort_values('t1_extra')\n",
    "predict_df\n"
   ]
  },
  {
   "cell_type": "code",
   "execution_count": 46,
   "metadata": {},
   "outputs": [],
   "source": [
    "from matplotlib.dates import DateFormatter"
   ]
  },
  {
   "cell_type": "code",
   "execution_count": 47,
   "metadata": {},
   "outputs": [
    {
     "data": {
      "image/png": "[encoded data removed]",
      "text/plain": [
       "<Figure size 600x400 with 1 Axes>"
      ]
     },
     "metadata": {},
     "output_type": "display_data"
    }
   ],
   "source": [
    "time_A = predict_df.t1_extra\n",
    "time_B = log.sort_values('t1').t1\n",
    "\n",
    "# Sort the time and create corresponding event count arrays\n",
    "sorted_time_A, count_A = zip(*sorted(zip(time_A, range(1, len(time_A)+1))))\n",
    "sorted_time_B, count_B = zip(*sorted(zip(time_B, range(1, len(time_B)+1))))\n",
    "\n",
    "# Plotting\n",
    "plt.figure(figsize=(6, 4))\n",
    "plt.plot(sorted_time_A, count_A, label='Detection')\n",
    "plt.plot(sorted_time_B, count_B, label='True')\n",
    "date_format = DateFormatter(\"%H:%M\")  # Formatter for HH:MM\n",
    "plt.gca().xaxis.set_major_formatter(date_format)\n",
    "\n",
    "plt.ylabel('Number of vehicles', fontweight='bold')\n",
    "plt.title('Accumulated vehicles count', fontweight='bold')\n",
    "plt.legend()\n",
    "plt.xticks(rotation=30);\n",
    "\n",
    "plt.xlabel('Time', fontweight='bold')\n",
    "\n",
    "# Make the tick labels along the x and y axes bold\n",
    "plt.xticks(fontweight='bold')\n",
    "plt.yticks(fontweight='bold');\n"
   ]
  },
  {
   "cell_type": "code",
   "execution_count": 48,
   "metadata": {},
   "outputs": [
    {
     "data": {
      "image/png": "[encoded data removed]",
      "text/plain": [
       "<Figure size 600x400 with 1 Axes>"
      ]
     },
     "metadata": {},
     "output_type": "display_data"
    }
   ],
   "source": [
    "time_A = predict_df.loc[lambda df: df['Direction camera'] == 'coming close'].t1_extra\n",
    "time_B = log.loc[lambda df: df['Direction camera'] == 'coming close'].sort_values('t1').t1\n",
    "\n",
    "# Sort the time and create corresponding event count arrays\n",
    "sorted_time_A, count_A = zip(*sorted(zip(time_A, range(1, len(time_A)+1))))\n",
    "sorted_time_B, count_B = zip(*sorted(zip(time_B, range(1, len(time_B)+1))))\n",
    "\n",
    "# Plotting\n",
    "plt.figure(figsize=(6, 4))\n",
    "plt.plot(sorted_time_A, count_A, label='Detection')\n",
    "plt.plot(sorted_time_B, count_B, label='True')\n",
    "\n",
    "date_format = DateFormatter(\"%H:%M\")  # Formatter for HH:MM\n",
    "plt.gca().xaxis.set_major_formatter(date_format)\n",
    "\n",
    "plt.ylabel('Number of vehicles', fontweight='bold')\n",
    "plt.title('Accumulated vehicles count - To Trondheim', fontweight='bold')\n",
    "plt.legend()\n",
    "plt.xticks(rotation=30);\n",
    "\n",
    "plt.xlabel('Time', fontweight='bold')\n",
    "\n",
    "# Make the tick labels along the x and y axes bold\n",
    "plt.xticks(fontweight='bold')\n",
    "plt.yticks(fontweight='bold');\n"
   ]
  },
  {
   "cell_type": "code",
   "execution_count": 49,
   "metadata": {},
   "outputs": [
    {
     "data": {
      "image/png": "[encoded data removed]",
      "text/plain": [
       "<Figure size 600x400 with 1 Axes>"
      ]
     },
     "metadata": {},
     "output_type": "display_data"
    }
   ],
   "source": [
    "time_A = predict_df.loc[lambda df: df['Direction camera'] == 'going far'].t1_extra\n",
    "time_B = log.loc[lambda df: df['Direction camera'] == 'going far'].sort_values('t1').t1\n",
    "\n",
    "# Sort the time and create corresponding event count arrays\n",
    "sorted_time_A, count_A = zip(*sorted(zip(time_A, range(1, len(time_A)+1))))\n",
    "sorted_time_B, count_B = zip(*sorted(zip(time_B, range(1, len(time_B)+1))))\n",
    "\n",
    "# Plotting\n",
    "plt.figure(figsize=(6, 4))\n",
    "plt.plot(sorted_time_A, count_A, label='Detection')\n",
    "plt.plot(sorted_time_B, count_B, label='True')\n",
    "\n",
    "date_format = DateFormatter(\"%H:%M\")  # Formatter for HH:MM\n",
    "plt.gca().xaxis.set_major_formatter(date_format)\n",
    "\n",
    "plt.ylabel('Number of vehicles', fontweight='bold')\n",
    "plt.title('Accumulated vehicles count - From Trondheim', fontweight='bold')\n",
    "plt.legend()\n",
    "plt.xticks(rotation=30);\n",
    "\n",
    "plt.xlabel('Time', fontweight='bold')\n",
    "\n",
    "# Make the tick labels along the x and y axes bold\n",
    "plt.xticks(fontweight='bold')\n",
    "plt.yticks(fontweight='bold');\n"
   ]
  },
  {
   "cell_type": "code",
   "execution_count": 128,
   "metadata": {},
   "outputs": [
    {
     "data": {
      "text/plain": [
       "Direction camera\n",
       "coming close    185\n",
       "going far       157\n",
       "Name: count, dtype: int64"
      ]
     },
     "execution_count": 128,
     "metadata": {},
     "output_type": "execute_result"
    }
   ],
   "source": [
    "log['Direction camera'].value_counts()"
   ]
  },
  {
   "cell_type": "code",
   "execution_count": 50,
   "metadata": {},
   "outputs": [
    {
     "data": {
      "image/png": "[encoded data removed]",
      "text/plain": [
       "<Figure size 600x400 with 1 Axes>"
      ]
     },
     "metadata": {},
     "output_type": "display_data"
    }
   ],
   "source": [
    "pre_close = predict_df.loc[lambda df: df['Direction camera'] == 'coming close'].t1_extra\n",
    "true_close = log.loc[lambda df: df['Direction camera'] == 'coming close'].sort_values('t1').t1\n",
    "\n",
    "pre_far = predict_df.loc[lambda df: df['Direction camera'] == 'going far'].t1_extra\n",
    "true_far = log.loc[lambda df: df['Direction camera'] == 'going far'].sort_values('t1').t1\n",
    "\n",
    "# Sort the time and create corresponding event count arrays\n",
    "sorted_pre_close, count_pre_close = zip(*sorted(zip(pre_close, range(1, len(pre_close)+1))))\n",
    "sorted_true_close, count_true_close = zip(*sorted(zip(true_close, range(1, len(true_close)+1))))\n",
    "sorted_pre_far, count_pre_far = zip(*sorted(zip(pre_far, range(1, len(pre_far)+1))))\n",
    "sorted_true_far, count_true_far = zip(*sorted(zip(true_far, range(1, len(true_far)+1))))\n",
    "\n",
    "# Plotting\n",
    "plt.figure(figsize=(6, 4))\n",
    "plt.plot(sorted_pre_close, count_pre_close, label='Detection - To Trondheim', color='C1', linestyle='--')\n",
    "plt.plot(sorted_true_close, count_true_close, label='True - To Trondheim', color='C1')\n",
    "plt.plot(sorted_pre_far, count_pre_far, label='Detection - From Trondheim', color='C0', linestyle='--')\n",
    "plt.plot(sorted_true_far, count_true_far, label='True - From Trondheim' , color='C0')\n",
    "\n",
    "date_format = DateFormatter(\"%H:%M\")  # Formatter for HH:MM\n",
    "plt.gca().xaxis.set_major_formatter(date_format)\n",
    "\n",
    "plt.ylabel('Number of vehicles', fontweight='bold')\n",
    "plt.title('Accumulated vehicles count', fontweight='bold')\n",
    "plt.legend()\n",
    "plt.xticks(rotation=30);\n",
    "\n",
    "plt.xlabel('Time', fontweight='bold')\n",
    "\n",
    "# Make the tick labels along the x and y axes bold\n",
    "plt.xticks(fontweight='bold')\n",
    "plt.yticks(fontweight='bold');\n"
   ]
  },
  {
   "cell_type": "code",
   "execution_count": 51,
   "metadata": {},
   "outputs": [
    {
     "data": {
      "text/plain": [
       "Direction camera  Type2\n",
       "coming close      Small    0.800000\n",
       "                  Large    0.200000\n",
       "going far         Small    0.783439\n",
       "                  Large    0.216561\n",
       "Name: proportion, dtype: float64"
      ]
     },
     "execution_count": 51,
     "metadata": {},
     "output_type": "execute_result"
    }
   ],
   "source": [
    "log.groupby('Direction camera').Type2.value_counts(normalize=True)"
   ]
  },
  {
   "cell_type": "code",
   "execution_count": 52,
   "metadata": {},
   "outputs": [
    {
     "data": {
      "text/html": [
       "<div>\n",
       "<style scoped>\n",
       "    .dataframe tbody tr th:only-of-type {\n",
       "        vertical-align: middle;\n",
       "    }\n",
       "\n",
       "    .dataframe tbody tr th {\n",
       "        vertical-align: top;\n",
       "    }\n",
       "\n",
       "    .dataframe thead th {\n",
       "        text-align: right;\n",
       "    }\n",
       "</style>\n",
       "<table border=\"1\" class=\"dataframe\">\n",
       "  <thead>\n",
       "    <tr style=\"text-align: right;\">\n",
       "      <th></th>\n",
       "      <th>Type</th>\n",
       "      <th>Type2</th>\n",
       "      <th>Direction camera</th>\n",
       "      <th>t1</th>\n",
       "      <th>t2</th>\n",
       "      <th>s1</th>\n",
       "      <th>s2</th>\n",
       "    </tr>\n",
       "  </thead>\n",
       "  <tbody>\n",
       "    <tr>\n",
       "      <th>0</th>\n",
       "      <td>Car</td>\n",
       "      <td>Small</td>\n",
       "      <td>coming close</td>\n",
       "      <td>2023-10-05 08:06:25.000</td>\n",
       "      <td>2023-10-05 08:06:55.000</td>\n",
       "      <td>0</td>\n",
       "      <td>692</td>\n",
       "    </tr>\n",
       "    <tr>\n",
       "      <th>1</th>\n",
       "      <td>Truck</td>\n",
       "      <td>Large</td>\n",
       "      <td>going far</td>\n",
       "      <td>2023-10-05 08:07:39.000</td>\n",
       "      <td>2023-10-05 08:08:09.000</td>\n",
       "      <td>692</td>\n",
       "      <td>0</td>\n",
       "    </tr>\n",
       "    <tr>\n",
       "      <th>2</th>\n",
       "      <td>Car</td>\n",
       "      <td>Small</td>\n",
       "      <td>coming close</td>\n",
       "      <td>2023-10-05 08:07:32.000</td>\n",
       "      <td>2023-10-05 08:08:02.000</td>\n",
       "      <td>0</td>\n",
       "      <td>692</td>\n",
       "    </tr>\n",
       "    <tr>\n",
       "      <th>3</th>\n",
       "      <td>Car</td>\n",
       "      <td>Small</td>\n",
       "      <td>going far</td>\n",
       "      <td>2023-10-05 08:08:12.000</td>\n",
       "      <td>2023-10-05 08:08:42.000</td>\n",
       "      <td>692</td>\n",
       "      <td>0</td>\n",
       "    </tr>\n",
       "    <tr>\n",
       "      <th>4</th>\n",
       "      <td>Car</td>\n",
       "      <td>Small</td>\n",
       "      <td>coming close</td>\n",
       "      <td>2023-10-05 08:12:54.000</td>\n",
       "      <td>2023-10-05 08:13:24.000</td>\n",
       "      <td>0</td>\n",
       "      <td>692</td>\n",
       "    </tr>\n",
       "    <tr>\n",
       "      <th>...</th>\n",
       "      <td>...</td>\n",
       "      <td>...</td>\n",
       "      <td>...</td>\n",
       "      <td>...</td>\n",
       "      <td>...</td>\n",
       "      <td>...</td>\n",
       "      <td>...</td>\n",
       "    </tr>\n",
       "    <tr>\n",
       "      <th>337</th>\n",
       "      <td>Car</td>\n",
       "      <td>Small</td>\n",
       "      <td>going far</td>\n",
       "      <td>2023-10-05 11:03:56.070</td>\n",
       "      <td>2023-10-05 11:04:26.070</td>\n",
       "      <td>692</td>\n",
       "      <td>0</td>\n",
       "    </tr>\n",
       "    <tr>\n",
       "      <th>338</th>\n",
       "      <td>Car</td>\n",
       "      <td>Small</td>\n",
       "      <td>coming close</td>\n",
       "      <td>2023-10-05 11:03:52.070</td>\n",
       "      <td>2023-10-05 11:04:22.070</td>\n",
       "      <td>0</td>\n",
       "      <td>692</td>\n",
       "    </tr>\n",
       "    <tr>\n",
       "      <th>339</th>\n",
       "      <td>Car</td>\n",
       "      <td>Small</td>\n",
       "      <td>coming close</td>\n",
       "      <td>2023-10-05 11:04:23.260</td>\n",
       "      <td>2023-10-05 11:04:53.260</td>\n",
       "      <td>0</td>\n",
       "      <td>692</td>\n",
       "    </tr>\n",
       "    <tr>\n",
       "      <th>340</th>\n",
       "      <td>Car</td>\n",
       "      <td>Small</td>\n",
       "      <td>coming close</td>\n",
       "      <td>2023-10-05 11:04:50.580</td>\n",
       "      <td>2023-10-05 11:05:20.580</td>\n",
       "      <td>0</td>\n",
       "      <td>692</td>\n",
       "    </tr>\n",
       "    <tr>\n",
       "      <th>341</th>\n",
       "      <td>Car</td>\n",
       "      <td>Small</td>\n",
       "      <td>coming close</td>\n",
       "      <td>2023-10-05 11:05:22.000</td>\n",
       "      <td>2023-10-05 11:05:52.000</td>\n",
       "      <td>0</td>\n",
       "      <td>692</td>\n",
       "    </tr>\n",
       "  </tbody>\n",
       "</table>\n",
       "<p>342 rows × 7 columns</p>\n",
       "</div>"
      ],
      "text/plain": [
       "      Type  Type2 Direction camera                      t1  \\\n",
       "0      Car  Small     coming close 2023-10-05 08:06:25.000   \n",
       "1    Truck  Large        going far 2023-10-05 08:07:39.000   \n",
       "2      Car  Small     coming close 2023-10-05 08:07:32.000   \n",
       "3      Car  Small        going far 2023-10-05 08:08:12.000   \n",
       "4      Car  Small     coming close 2023-10-05 08:12:54.000   \n",
       "..     ...    ...              ...                     ...   \n",
       "337    Car  Small        going far 2023-10-05 11:03:56.070   \n",
       "338    Car  Small     coming close 2023-10-05 11:03:52.070   \n",
       "339    Car  Small     coming close 2023-10-05 11:04:23.260   \n",
       "340    Car  Small     coming close 2023-10-05 11:04:50.580   \n",
       "341    Car  Small     coming close 2023-10-05 11:05:22.000   \n",
       "\n",
       "                         t2   s1   s2  \n",
       "0   2023-10-05 08:06:55.000    0  692  \n",
       "1   2023-10-05 08:08:09.000  692    0  \n",
       "2   2023-10-05 08:08:02.000    0  692  \n",
       "3   2023-10-05 08:08:42.000  692    0  \n",
       "4   2023-10-05 08:13:24.000    0  692  \n",
       "..                      ...  ...  ...  \n",
       "337 2023-10-05 11:04:26.070  692    0  \n",
       "338 2023-10-05 11:04:22.070    0  692  \n",
       "339 2023-10-05 11:04:53.260    0  692  \n",
       "340 2023-10-05 11:05:20.580    0  692  \n",
       "341 2023-10-05 11:05:52.000    0  692  \n",
       "\n",
       "[342 rows x 7 columns]"
      ]
     },
     "execution_count": 52,
     "metadata": {},
     "output_type": "execute_result"
    }
   ],
   "source": [
    "log"
   ]
  },
  {
   "cell_type": "code",
   "execution_count": 53,
   "metadata": {},
   "outputs": [],
   "source": [
    "# connection_string = utils.create_connection_string(\n",
    "#     endpoint=params['database_cgf']['endpoint'],\n",
    "#     database=params['database_cgf']['database'],\n",
    "#     db_username=os.getenv('POSTGRESQL_USERNAME'),\n",
    "#     db_password=os.getenv('POSTGRESQL_PASSWORD'),\n",
    "#     type=params['database_cgf']['type'],\n",
    "#     dbapi=params['database_cgf']['dbapi'],\n",
    "#     port=params['database_cgf']['port']\n",
    "# )\n",
    "\n",
    "# query = \"\"\"\n",
    "# WITH ranked_rows AS (\n",
    "#   SELECT *,\n",
    "#          ROW_NUMBER() OVER (PARTITION BY line_id ORDER BY created_at DESC) AS rn\n",
    "#   FROM vehicles_train\n",
    "#   WHERE ABS(SPEED_KMH) BETWEEN 35 AND 125\n",
    "# )\n",
    "# SELECT *\n",
    "# FROM ranked_rows\n",
    "# WHERE rn = 1;\n",
    "# \"\"\"\n",
    "# previous_lines_df = utils.read_sql(query, connection_string)\n",
    "# v_type = np.random.choice(['Large', 'Small'], size=len(previous_lines_df), p=[0.21, 0.79])\n",
    "# previous_lines_df = (\n",
    "#     previous_lines_df\n",
    "#     .assign(Type=v_type)\n",
    "# )"
   ]
  },
  {
   "cell_type": "code",
   "execution_count": 54,
   "metadata": {},
   "outputs": [],
   "source": [
    "# time_A = previous_lines_df.t1.sort_values()\n",
    "# time_B = log.t1.sort_values()"
   ]
  },
  {
   "cell_type": "markdown",
   "metadata": {},
   "source": [
    "# Optimzation"
   ]
  },
  {
   "cell_type": "code",
   "execution_count": 55,
   "metadata": {},
   "outputs": [],
   "source": [
    "connection_string = utils.create_connection_string(\n",
    "    endpoint=params['database_cgf']['endpoint'],\n",
    "    database=params['database_cgf']['database'],\n",
    "    db_username=os.getenv('POSTGRESQL_USERNAME'),\n",
    "    db_password=os.getenv('POSTGRESQL_PASSWORD'),\n",
    "    type=params['database_cgf']['type'],\n",
    "    dbapi=params['database_cgf']['dbapi'],\n",
    "    port=params['database_cgf']['port']\n",
    ")"
   ]
  },
  {
   "cell_type": "code",
   "execution_count": 124,
   "metadata": {},
   "outputs": [],
   "source": [
    "import optuna\n",
    "import matplotlib.pyplot as plt\n",
    "\n",
    "# Load the study from the PostgreSQL database\n",
    "study = optuna.load_study(\n",
    "    study_name='my_study15', \n",
    "    storage=connection_string\n",
    ")\n",
    "\n",
    "\n",
    "\n",
    "# # Plot slice plot (parameter values vs. objective values)\n",
    "# # optuna.visualization.plot_slice(study, params=['binary_threshold'])\n",
    "# # Generate the Plotly slice plot for only one parameter\n",
    "# fig = optuna.visualization.plot_slice(study, params=['binary_threshold'])\n",
    "\n",
    "# # Update the figure layout to control the size\n",
    "# fig.update_layout(\n",
    "#     width=600,  # Set the width of the plot\n",
    "#     height=400  # Set the height of the plot\n",
    "# )\n",
    "\n",
    "# # Show the plot\n",
    "# fig.show()"
   ]
  },
  {
   "cell_type": "code",
   "execution_count": 123,
   "metadata": {},
   "outputs": [],
   "source": [
    "# fig = optuna.visualization.plot_slice(study, params=['lowpass_filter_freq'])\n",
    "\n",
    "# # Update the figure layout to control the size\n",
    "# fig.update_layout(\n",
    "#     width=600,  # Set the width of the plot\n",
    "#     height=400  # Set the height of the plot\n",
    "# )\n",
    "\n",
    "# # Show the plot\n",
    "# # fig.show()"
   ]
  },
  {
   "cell_type": "code",
   "execution_count": 126,
   "metadata": {},
   "outputs": [
    {
     "data": {
      "application/vnd.plotly.v1+json": {
       "config": {
        "plotlyServerURL": "https://plot.ly"
       },
       "data": [
        {
         "marker": {
          "color": [
           0,
           1,
           2,
           3,
           4,
           5,
           6,
           7,
           8,
           9,
           10,
           11,
           12,
           13,
           14,
           15,
           16,
           17,
           18,
           19,
           20,
           21,
           22,
           23,
           24,
           25,
           26,
           27,
           28,
           29,
           30,
           31,
           32,
           33,
           34,
           35,
           36,
           37,
           38,
           39,
           40,
           41,
           42,
           43,
           44,
           45,
           46,
           47,
           48,
           49,
           50,
           51,
           52,
           53,
           54,
           55,
           56,
           57,
           58,
           59,
           60,
           61,
           62,
           63,
           64,
           65,
           66,
           67,
           68,
           69,
           70,
           71,
           72,
           73,
           74,
           75,
           76,
           77,
           78,
           79,
           80,
           81,
           82,
           83,
           84,
           85,
           86,
           87,
           88,
           89,
           90,
           91,
           92,
           93,
           94,
           95,
           96,
           97,
           98,
           99
          ],
          "colorbar": {
           "title": {
            "text": "Trial"
           },
           "x": 1,
           "xpad": 40
          },
          "colorscale": [
           [
            0,
            "rgb(247,251,255)"
           ],
           [
            0.125,
            "rgb(222,235,247)"
           ],
           [
            0.25,
            "rgb(198,219,239)"
           ],
           [
            0.375,
            "rgb(158,202,225)"
           ],
           [
            0.5,
            "rgb(107,174,214)"
           ],
           [
            0.625,
            "rgb(66,146,198)"
           ],
           [
            0.75,
            "rgb(33,113,181)"
           ],
           [
            0.875,
            "rgb(8,81,156)"
           ],
           [
            1,
            "rgb(8,48,107)"
           ]
          ],
          "line": {
           "color": "Grey",
           "width": 0.5
          },
          "showscale": true
         },
         "mode": "markers",
         "name": "Feasible Trial",
         "showlegend": false,
         "type": "scatter",
         "x": [
          1.6084844859190753e-8,
          2.897771074506666e-8,
          2.939169255529117e-8,
          2.6043939615080792e-8,
          1.6219646434313244e-8,
          2.2728208225275606e-8,
          2.7851179969799553e-8,
          1.6464058640415105e-8,
          1.2897897441824461e-8,
          2.1817858863764834e-8,
          2.392235606716642e-8,
          2.38049414713829e-8,
          2.0861057980795625e-8,
          2.6389666527397133e-8,
          1.9454280133158972e-8,
          2.535251995401582e-8,
          1.9869538018876262e-8,
          1.9654911684936286e-8,
          1.845796097019243e-8,
          1.035579674344418e-8,
          1.8105466392850955e-8,
          1.7938271256641148e-8,
          1.3705194787681686e-8,
          1.8039552518338094e-8,
          1.4199059074991957e-8,
          1.8306403642577588e-8,
          1.9560740047806717e-8,
          2.154599449524622e-8,
          1.5086567345310146e-8,
          1.197602979801092e-8,
          1.7167805695810834e-8,
          1.8609041658072216e-8,
          1.8972790017952284e-8,
          2.0789691865590573e-8,
          1.5503800690959742e-8,
          1.6982079346585998e-8,
          1.7248877123732857e-8,
          1.7151158619592478e-8,
          1.6428089778367035e-8,
          1.497754857953227e-8,
          1.6916474489640693e-8,
          1.849523185583964e-8,
          1.5812293311765323e-8,
          1.7310074624263356e-8,
          2.0623445256320304e-8,
          1.7602693435741495e-8,
          2.246057020267744e-8,
          1.4084210149905287e-8,
          1.6275749912406648e-8,
          1.2437416020051213e-8,
          1.897681763744075e-8,
          1.8497540988154688e-8,
          1.7390185979423997e-8,
          1.9932151916447507e-8,
          2.0315380985847958e-8,
          2.130860160197706e-8,
          2.159468421760106e-8,
          2.3621287094997116e-8,
          2.3154131151994966e-8,
          2.981955327573641e-8,
          2.4612342012866403e-8,
          1.9214951159478627e-8,
          1.9264553642915716e-8,
          1.9982870607197338e-8,
          1.9939510759401193e-8,
          2.1196556332244715e-8,
          2.2331015884267938e-8,
          1.9139071734852532e-8,
          2.0060178714010287e-8,
          2.2004823295027717e-8,
          1.9292576989746144e-8,
          1.9562753549104542e-8,
          2.115058677301198e-8,
          2.1188862926549275e-8,
          2.0926893207854853e-8,
          2.302287076506126e-8,
          2.1343162505770533e-8,
          2.3032946039578572e-8,
          2.655066233307314e-8,
          2.4358053299099512e-8,
          2.205930444976546e-8,
          2.0342181062442593e-8,
          2.047277380111612e-8,
          2.0518378399706854e-8,
          2.0202134962410234e-8,
          1.9714158755797236e-8,
          2.1018829313084645e-8,
          1.8698606875672568e-8,
          1.7913034168310427e-8,
          2.179498459464639e-8,
          2.0033969318081048e-8,
          2.0607565086219453e-8,
          2.1425740442421474e-8,
          2.0750560681083917e-8,
          1.9829931057334543e-8,
          1.9584386507185127e-8,
          1.878955251372232e-8,
          2.029088364512862e-8,
          1.8453817131885636e-8,
          1.9696578323214176e-8
         ],
         "xaxis": "x",
         "y": [
          5.541098265895955,
          5.353352601156069,
          5.229450867052023,
          4.835231213872833,
          5.428005780346822,
          5.988121387283237,
          6.356531791907515,
          6.2616184971098265,
          5.622225433526012,
          4.8897109826589595,
          9.414450867052023,
          7.599927745664741,
          6.376473988439305,
          7.838106936416185,
          5.294393063583816,
          5.863179190751445,
          3.686156069364162,
          3.1644508670520235,
          3.1326878612716764,
          4.165202312138728,
          3.2045664739884394,
          3.222601156069364,
          3.6705202312138727,
          3.1723988439306363,
          3.628063583815029,
          3.0343063583815026,
          3.695578034682081,
          3.777341040462428,
          15.198121387283237,
          5.3982947976878615,
          3.735578034682081,
          3.1512138728323698,
          3.165520231213873,
          4.6288439306358375,
          5.123526011560694,
          3.052601156069364,
          3.0615028901734105,
          3.935953757225434,
          5.046734104046243,
          3.2109248554913297,
          3.9288150289017336,
          3.041936416184971,
          3.1367052023121387,
          3.055693641618497,
          3.6801445086705207,
          3.763265895953757,
          3.6088728323699426,
          4.33771676300578,
          5.982658959537572,
          5.490982658959538,
          3.8315606936416184,
          3.0245953757225434,
          3.051184971098266,
          3.028612716763006,
          4.448034682080925,
          3.026734104046243,
          3.9354768786127168,
          5.112630057803468,
          3.875231213872832,
          3.106473988439306,
          3.661820809248555,
          3.0352890173410407,
          3.0409826589595377,
          3.0232658959537573,
          4.549190751445087,
          3.6189306358381503,
          4.533410404624278,
          3.798670520231214,
          6.786820809248556,
          4.158728323699422,
          3.0389017341040465,
          3.0310115606936416,
          3.0234104046242773,
          3.0317052023121387,
          5.212398843930636,
          3.033005780346821,
          4.677167630057804,
          3.036271676300578,
          3.0967052023121386,
          3.036849710982659,
          3.0377167630057804,
          3.032109826589595,
          3.027890173410405,
          3.0332369942196533,
          3.0286994219653183,
          3.8019364161849714,
          3.694566473988439,
          4.670664739884393,
          6.234277456647399,
          3.03635838150289,
          11.357630057803467,
          3.022109826589596,
          3.035722543352601,
          3.0342485549132947,
          3.030057803468208,
          6.160982658959537,
          4.113150289017342,
          4.396878612716764,
          3.0313583815028897,
          4.672109826589595
         ],
         "yaxis": "y"
        },
        {
         "marker": {
          "color": [
           0,
           1,
           2,
           3,
           4,
           5,
           6,
           7,
           8,
           9,
           10,
           11,
           12,
           13,
           14,
           15,
           16,
           17,
           18,
           19,
           20,
           21,
           22,
           23,
           24,
           25,
           26,
           27,
           28,
           29,
           30,
           31,
           32,
           33,
           34,
           35,
           36,
           37,
           38,
           39,
           40,
           41,
           42,
           43,
           44,
           45,
           46,
           47,
           48,
           49,
           50,
           51,
           52,
           53,
           54,
           55,
           56,
           57,
           58,
           59,
           60,
           61,
           62,
           63,
           64,
           65,
           66,
           67,
           68,
           69,
           70,
           71,
           72,
           73,
           74,
           75,
           76,
           77,
           78,
           79,
           80,
           81,
           82,
           83,
           84,
           85,
           86,
           87,
           88,
           89,
           90,
           91,
           92,
           93,
           94,
           95,
           96,
           97,
           98,
           99
          ],
          "colorbar": {
           "title": {
            "text": "Trial"
           },
           "x": 1,
           "xpad": 40
          },
          "colorscale": [
           [
            0,
            "rgb(247,251,255)"
           ],
           [
            0.125,
            "rgb(222,235,247)"
           ],
           [
            0.25,
            "rgb(198,219,239)"
           ],
           [
            0.375,
            "rgb(158,202,225)"
           ],
           [
            0.5,
            "rgb(107,174,214)"
           ],
           [
            0.625,
            "rgb(66,146,198)"
           ],
           [
            0.75,
            "rgb(33,113,181)"
           ],
           [
            0.875,
            "rgb(8,81,156)"
           ],
           [
            1,
            "rgb(8,48,107)"
           ]
          ],
          "line": {
           "color": "Grey",
           "width": 0.5
          },
          "showscale": false
         },
         "mode": "markers",
         "name": "Feasible Trial",
         "showlegend": false,
         "type": "scatter",
         "x": [
          5,
          1,
          2,
          5,
          8,
          2,
          4,
          25,
          20,
          8,
          10,
          8,
          5,
          8,
          5,
          1,
          25,
          25,
          25,
          25,
          25,
          25,
          25,
          25,
          25,
          20,
          20,
          20,
          10,
          4,
          20,
          25,
          25,
          1,
          2,
          20,
          20,
          20,
          20,
          20,
          20,
          20,
          20,
          20,
          20,
          20,
          20,
          20,
          2,
          4,
          10,
          20,
          20,
          20,
          5,
          20,
          8,
          1,
          20,
          20,
          20,
          20,
          20,
          20,
          5,
          20,
          4,
          10,
          8,
          20,
          20,
          20,
          20,
          20,
          2,
          20,
          1,
          20,
          20,
          20,
          20,
          20,
          20,
          20,
          20,
          20,
          20,
          5,
          4,
          20,
          10,
          20,
          20,
          20,
          20,
          2,
          8,
          20,
          20,
          1
         ],
         "xaxis": "x2",
         "y": [
          5.541098265895955,
          5.353352601156069,
          5.229450867052023,
          4.835231213872833,
          5.428005780346822,
          5.988121387283237,
          6.356531791907515,
          6.2616184971098265,
          5.622225433526012,
          4.8897109826589595,
          9.414450867052023,
          7.599927745664741,
          6.376473988439305,
          7.838106936416185,
          5.294393063583816,
          5.863179190751445,
          3.686156069364162,
          3.1644508670520235,
          3.1326878612716764,
          4.165202312138728,
          3.2045664739884394,
          3.222601156069364,
          3.6705202312138727,
          3.1723988439306363,
          3.628063583815029,
          3.0343063583815026,
          3.695578034682081,
          3.777341040462428,
          15.198121387283237,
          5.3982947976878615,
          3.735578034682081,
          3.1512138728323698,
          3.165520231213873,
          4.6288439306358375,
          5.123526011560694,
          3.052601156069364,
          3.0615028901734105,
          3.935953757225434,
          5.046734104046243,
          3.2109248554913297,
          3.9288150289017336,
          3.041936416184971,
          3.1367052023121387,
          3.055693641618497,
          3.6801445086705207,
          3.763265895953757,
          3.6088728323699426,
          4.33771676300578,
          5.982658959537572,
          5.490982658959538,
          3.8315606936416184,
          3.0245953757225434,
          3.051184971098266,
          3.028612716763006,
          4.448034682080925,
          3.026734104046243,
          3.9354768786127168,
          5.112630057803468,
          3.875231213872832,
          3.106473988439306,
          3.661820809248555,
          3.0352890173410407,
          3.0409826589595377,
          3.0232658959537573,
          4.549190751445087,
          3.6189306358381503,
          4.533410404624278,
          3.798670520231214,
          6.786820809248556,
          4.158728323699422,
          3.0389017341040465,
          3.0310115606936416,
          3.0234104046242773,
          3.0317052023121387,
          5.212398843930636,
          3.033005780346821,
          4.677167630057804,
          3.036271676300578,
          3.0967052023121386,
          3.036849710982659,
          3.0377167630057804,
          3.032109826589595,
          3.027890173410405,
          3.0332369942196533,
          3.0286994219653183,
          3.8019364161849714,
          3.694566473988439,
          4.670664739884393,
          6.234277456647399,
          3.03635838150289,
          11.357630057803467,
          3.022109826589596,
          3.035722543352601,
          3.0342485549132947,
          3.030057803468208,
          6.160982658959537,
          4.113150289017342,
          4.396878612716764,
          3.0313583815028897,
          4.672109826589595
         ],
         "yaxis": "y2"
        },
        {
         "marker": {
          "color": [
           0,
           1,
           2,
           3,
           4,
           5,
           6,
           7,
           8,
           9,
           10,
           11,
           12,
           13,
           14,
           15,
           16,
           17,
           18,
           19,
           20,
           21,
           22,
           23,
           24,
           25,
           26,
           27,
           28,
           29,
           30,
           31,
           32,
           33,
           34,
           35,
           36,
           37,
           38,
           39,
           40,
           41,
           42,
           43,
           44,
           45,
           46,
           47,
           48,
           49,
           50,
           51,
           52,
           53,
           54,
           55,
           56,
           57,
           58,
           59,
           60,
           61,
           62,
           63,
           64,
           65,
           66,
           67,
           68,
           69,
           70,
           71,
           72,
           73,
           74,
           75,
           76,
           77,
           78,
           79,
           80,
           81,
           82,
           83,
           84,
           85,
           86,
           87,
           88,
           89,
           90,
           91,
           92,
           93,
           94,
           95,
           96,
           97,
           98,
           99
          ],
          "colorbar": {
           "title": {
            "text": "Trial"
           },
           "x": 1,
           "xpad": 40
          },
          "colorscale": [
           [
            0,
            "rgb(247,251,255)"
           ],
           [
            0.125,
            "rgb(222,235,247)"
           ],
           [
            0.25,
            "rgb(198,219,239)"
           ],
           [
            0.375,
            "rgb(158,202,225)"
           ],
           [
            0.5,
            "rgb(107,174,214)"
           ],
           [
            0.625,
            "rgb(66,146,198)"
           ],
           [
            0.75,
            "rgb(33,113,181)"
           ],
           [
            0.875,
            "rgb(8,81,156)"
           ],
           [
            1,
            "rgb(8,48,107)"
           ]
          ],
          "line": {
           "color": "Grey",
           "width": 0.5
          },
          "showscale": false
         },
         "mode": "markers",
         "name": "Feasible Trial",
         "showlegend": false,
         "type": "scatter",
         "x": [
          0.2,
          1,
          0.1,
          0.2,
          0.2,
          1,
          0.5,
          0.5,
          1,
          0.2,
          10,
          2,
          20,
          5,
          0.2,
          0.2,
          0.2,
          0.1,
          0.1,
          0.1,
          0.1,
          0.1,
          0.1,
          0.1,
          0.1,
          0.1,
          5,
          10,
          20,
          0.1,
          2,
          0.1,
          0.1,
          0.1,
          0.1,
          0.1,
          0.1,
          0.5,
          1,
          0.1,
          5,
          0.1,
          0.1,
          0.1,
          10,
          2,
          20,
          0.5,
          1,
          0.1,
          0.1,
          0.1,
          0.1,
          0.1,
          0.1,
          0.1,
          0.1,
          10,
          2,
          0.2,
          5,
          0.1,
          0.1,
          0.1,
          0.1,
          20,
          0.1,
          0.1,
          0.5,
          1,
          0.1,
          0.1,
          0.1,
          0.1,
          0.1,
          0.1,
          0.1,
          0.1,
          0.2,
          0.1,
          0.1,
          0.1,
          0.1,
          0.1,
          0.1,
          5,
          10,
          0.1,
          2,
          0.1,
          20,
          0.1,
          0.1,
          0.1,
          0.1,
          0.5,
          0.1,
          1,
          0.1,
          0.1
         ],
         "xaxis": "x3",
         "y": [
          5.541098265895955,
          5.353352601156069,
          5.229450867052023,
          4.835231213872833,
          5.428005780346822,
          5.988121387283237,
          6.356531791907515,
          6.2616184971098265,
          5.622225433526012,
          4.8897109826589595,
          9.414450867052023,
          7.599927745664741,
          6.376473988439305,
          7.838106936416185,
          5.294393063583816,
          5.863179190751445,
          3.686156069364162,
          3.1644508670520235,
          3.1326878612716764,
          4.165202312138728,
          3.2045664739884394,
          3.222601156069364,
          3.6705202312138727,
          3.1723988439306363,
          3.628063583815029,
          3.0343063583815026,
          3.695578034682081,
          3.777341040462428,
          15.198121387283237,
          5.3982947976878615,
          3.735578034682081,
          3.1512138728323698,
          3.165520231213873,
          4.6288439306358375,
          5.123526011560694,
          3.052601156069364,
          3.0615028901734105,
          3.935953757225434,
          5.046734104046243,
          3.2109248554913297,
          3.9288150289017336,
          3.041936416184971,
          3.1367052023121387,
          3.055693641618497,
          3.6801445086705207,
          3.763265895953757,
          3.6088728323699426,
          4.33771676300578,
          5.982658959537572,
          5.490982658959538,
          3.8315606936416184,
          3.0245953757225434,
          3.051184971098266,
          3.028612716763006,
          4.448034682080925,
          3.026734104046243,
          3.9354768786127168,
          5.112630057803468,
          3.875231213872832,
          3.106473988439306,
          3.661820809248555,
          3.0352890173410407,
          3.0409826589595377,
          3.0232658959537573,
          4.549190751445087,
          3.6189306358381503,
          4.533410404624278,
          3.798670520231214,
          6.786820809248556,
          4.158728323699422,
          3.0389017341040465,
          3.0310115606936416,
          3.0234104046242773,
          3.0317052023121387,
          5.212398843930636,
          3.033005780346821,
          4.677167630057804,
          3.036271676300578,
          3.0967052023121386,
          3.036849710982659,
          3.0377167630057804,
          3.032109826589595,
          3.027890173410405,
          3.0332369942196533,
          3.0286994219653183,
          3.8019364161849714,
          3.694566473988439,
          4.670664739884393,
          6.234277456647399,
          3.03635838150289,
          11.357630057803467,
          3.022109826589596,
          3.035722543352601,
          3.0342485549132947,
          3.030057803468208,
          6.160982658959537,
          4.113150289017342,
          4.396878612716764,
          3.0313583815028897,
          4.672109826589595
         ],
         "yaxis": "y3"
        }
       ],
       "layout": {
        "template": {
         "data": {
          "bar": [
           {
            "error_x": {
             "color": "#2a3f5f"
            },
            "error_y": {
             "color": "#2a3f5f"
            },
            "marker": {
             "line": {
              "color": "#E5ECF6",
              "width": 0.5
             },
             "pattern": {
              "fillmode": "overlay",
              "size": 10,
              "solidity": 0.2
             }
            },
            "type": "bar"
           }
          ],
          "barpolar": [
           {
            "marker": {
             "line": {
              "color": "#E5ECF6",
              "width": 0.5
             },
             "pattern": {
              "fillmode": "overlay",
              "size": 10,
              "solidity": 0.2
             }
            },
            "type": "barpolar"
           }
          ],
          "carpet": [
           {
            "aaxis": {
             "endlinecolor": "#2a3f5f",
             "gridcolor": "white",
             "linecolor": "white",
             "minorgridcolor": "white",
             "startlinecolor": "#2a3f5f"
            },
            "baxis": {
             "endlinecolor": "#2a3f5f",
             "gridcolor": "white",
             "linecolor": "white",
             "minorgridcolor": "white",
             "startlinecolor": "#2a3f5f"
            },
            "type": "carpet"
           }
          ],
          "choropleth": [
           {
            "colorbar": {
             "outlinewidth": 0,
             "ticks": ""
            },
            "type": "choropleth"
           }
          ],
          "contour": [
           {
            "colorbar": {
             "outlinewidth": 0,
             "ticks": ""
            },
            "colorscale": [
             [
              0,
              "#0d0887"
             ],
             [
              0.1111111111111111,
              "#46039f"
             ],
             [
              0.2222222222222222,
              "#7201a8"
             ],
             [
              0.3333333333333333,
              "#9c179e"
             ],
             [
              0.4444444444444444,
              "#bd3786"
             ],
             [
              0.5555555555555556,
              "#d8576b"
             ],
             [
              0.6666666666666666,
              "#ed7953"
             ],
             [
              0.7777777777777778,
              "#fb9f3a"
             ],
             [
              0.8888888888888888,
              "#fdca26"
             ],
             [
              1,
              "#f0f921"
             ]
            ],
            "type": "contour"
           }
          ],
          "contourcarpet": [
           {
            "colorbar": {
             "outlinewidth": 0,
             "ticks": ""
            },
            "type": "contourcarpet"
           }
          ],
          "heatmap": [
           {
            "colorbar": {
             "outlinewidth": 0,
             "ticks": ""
            },
            "colorscale": [
             [
              0,
              "#0d0887"
             ],
             [
              0.1111111111111111,
              "#46039f"
             ],
             [
              0.2222222222222222,
              "#7201a8"
             ],
             [
              0.3333333333333333,
              "#9c179e"
             ],
             [
              0.4444444444444444,
              "#bd3786"
             ],
             [
              0.5555555555555556,
              "#d8576b"
             ],
             [
              0.6666666666666666,
              "#ed7953"
             ],
             [
              0.7777777777777778,
              "#fb9f3a"
             ],
             [
              0.8888888888888888,
              "#fdca26"
             ],
             [
              1,
              "#f0f921"
             ]
            ],
            "type": "heatmap"
           }
          ],
          "heatmapgl": [
           {
            "colorbar": {
             "outlinewidth": 0,
             "ticks": ""
            },
            "colorscale": [
             [
              0,
              "#0d0887"
             ],
             [
              0.1111111111111111,
              "#46039f"
             ],
             [
              0.2222222222222222,
              "#7201a8"
             ],
             [
              0.3333333333333333,
              "#9c179e"
             ],
             [
              0.4444444444444444,
              "#bd3786"
             ],
             [
              0.5555555555555556,
              "#d8576b"
             ],
             [
              0.6666666666666666,
              "#ed7953"
             ],
             [
              0.7777777777777778,
              "#fb9f3a"
             ],
             [
              0.8888888888888888,
              "#fdca26"
             ],
             [
              1,
              "#f0f921"
             ]
            ],
            "type": "heatmapgl"
           }
          ],
          "histogram": [
           {
            "marker": {
             "pattern": {
              "fillmode": "overlay",
              "size": 10,
              "solidity": 0.2
             }
            },
            "type": "histogram"
           }
          ],
          "histogram2d": [
           {
            "colorbar": {
             "outlinewidth": 0,
             "ticks": ""
            },
            "colorscale": [
             [
              0,
              "#0d0887"
             ],
             [
              0.1111111111111111,
              "#46039f"
             ],
             [
              0.2222222222222222,
              "#7201a8"
             ],
             [
              0.3333333333333333,
              "#9c179e"
             ],
             [
              0.4444444444444444,
              "#bd3786"
             ],
             [
              0.5555555555555556,
              "#d8576b"
             ],
             [
              0.6666666666666666,
              "#ed7953"
             ],
             [
              0.7777777777777778,
              "#fb9f3a"
             ],
             [
              0.8888888888888888,
              "#fdca26"
             ],
             [
              1,
              "#f0f921"
             ]
            ],
            "type": "histogram2d"
           }
          ],
          "histogram2dcontour": [
           {
            "colorbar": {
             "outlinewidth": 0,
             "ticks": ""
            },
            "colorscale": [
             [
              0,
              "#0d0887"
             ],
             [
              0.1111111111111111,
              "#46039f"
             ],
             [
              0.2222222222222222,
              "#7201a8"
             ],
             [
              0.3333333333333333,
              "#9c179e"
             ],
             [
              0.4444444444444444,
              "#bd3786"
             ],
             [
              0.5555555555555556,
              "#d8576b"
             ],
             [
              0.6666666666666666,
              "#ed7953"
             ],
             [
              0.7777777777777778,
              "#fb9f3a"
             ],
             [
              0.8888888888888888,
              "#fdca26"
             ],
             [
              1,
              "#f0f921"
             ]
            ],
            "type": "histogram2dcontour"
           }
          ],
          "mesh3d": [
           {
            "colorbar": {
             "outlinewidth": 0,
             "ticks": ""
            },
            "type": "mesh3d"
           }
          ],
          "parcoords": [
           {
            "line": {
             "colorbar": {
              "outlinewidth": 0,
              "ticks": ""
             }
            },
            "type": "parcoords"
           }
          ],
          "pie": [
           {
            "automargin": true,
            "type": "pie"
           }
          ],
          "scatter": [
           {
            "fillpattern": {
             "fillmode": "overlay",
             "size": 10,
             "solidity": 0.2
            },
            "type": "scatter"
           }
          ],
          "scatter3d": [
           {
            "line": {
             "colorbar": {
              "outlinewidth": 0,
              "ticks": ""
             }
            },
            "marker": {
             "colorbar": {
              "outlinewidth": 0,
              "ticks": ""
             }
            },
            "type": "scatter3d"
           }
          ],
          "scattercarpet": [
           {
            "marker": {
             "colorbar": {
              "outlinewidth": 0,
              "ticks": ""
             }
            },
            "type": "scattercarpet"
           }
          ],
          "scattergeo": [
           {
            "marker": {
             "colorbar": {
              "outlinewidth": 0,
              "ticks": ""
             }
            },
            "type": "scattergeo"
           }
          ],
          "scattergl": [
           {
            "marker": {
             "colorbar": {
              "outlinewidth": 0,
              "ticks": ""
             }
            },
            "type": "scattergl"
           }
          ],
          "scattermapbox": [
           {
            "marker": {
             "colorbar": {
              "outlinewidth": 0,
              "ticks": ""
             }
            },
            "type": "scattermapbox"
           }
          ],
          "scatterpolar": [
           {
            "marker": {
             "colorbar": {
              "outlinewidth": 0,
              "ticks": ""
             }
            },
            "type": "scatterpolar"
           }
          ],
          "scatterpolargl": [
           {
            "marker": {
             "colorbar": {
              "outlinewidth": 0,
              "ticks": ""
             }
            },
            "type": "scatterpolargl"
           }
          ],
          "scatterternary": [
           {
            "marker": {
             "colorbar": {
              "outlinewidth": 0,
              "ticks": ""
             }
            },
            "type": "scatterternary"
           }
          ],
          "surface": [
           {
            "colorbar": {
             "outlinewidth": 0,
             "ticks": ""
            },
            "colorscale": [
             [
              0,
              "#0d0887"
             ],
             [
              0.1111111111111111,
              "#46039f"
             ],
             [
              0.2222222222222222,
              "#7201a8"
             ],
             [
              0.3333333333333333,
              "#9c179e"
             ],
             [
              0.4444444444444444,
              "#bd3786"
             ],
             [
              0.5555555555555556,
              "#d8576b"
             ],
             [
              0.6666666666666666,
              "#ed7953"
             ],
             [
              0.7777777777777778,
              "#fb9f3a"
             ],
             [
              0.8888888888888888,
              "#fdca26"
             ],
             [
              1,
              "#f0f921"
             ]
            ],
            "type": "surface"
           }
          ],
          "table": [
           {
            "cells": {
             "fill": {
              "color": "#EBF0F8"
             },
             "line": {
              "color": "white"
             }
            },
            "header": {
             "fill": {
              "color": "#C8D4E3"
             },
             "line": {
              "color": "white"
             }
            },
            "type": "table"
           }
          ]
         },
         "layout": {
          "annotationdefaults": {
           "arrowcolor": "#2a3f5f",
           "arrowhead": 0,
           "arrowwidth": 1
          },
          "autotypenumbers": "strict",
          "coloraxis": {
           "colorbar": {
            "outlinewidth": 0,
            "ticks": ""
           }
          },
          "colorscale": {
           "diverging": [
            [
             0,
             "#8e0152"
            ],
            [
             0.1,
             "#c51b7d"
            ],
            [
             0.2,
             "#de77ae"
            ],
            [
             0.3,
             "#f1b6da"
            ],
            [
             0.4,
             "#fde0ef"
            ],
            [
             0.5,
             "#f7f7f7"
            ],
            [
             0.6,
             "#e6f5d0"
            ],
            [
             0.7,
             "#b8e186"
            ],
            [
             0.8,
             "#7fbc41"
            ],
            [
             0.9,
             "#4d9221"
            ],
            [
             1,
             "#276419"
            ]
           ],
           "sequential": [
            [
             0,
             "#0d0887"
            ],
            [
             0.1111111111111111,
             "#46039f"
            ],
            [
             0.2222222222222222,
             "#7201a8"
            ],
            [
             0.3333333333333333,
             "#9c179e"
            ],
            [
             0.4444444444444444,
             "#bd3786"
            ],
            [
             0.5555555555555556,
             "#d8576b"
            ],
            [
             0.6666666666666666,
             "#ed7953"
            ],
            [
             0.7777777777777778,
             "#fb9f3a"
            ],
            [
             0.8888888888888888,
             "#fdca26"
            ],
            [
             1,
             "#f0f921"
            ]
           ],
           "sequentialminus": [
            [
             0,
             "#0d0887"
            ],
            [
             0.1111111111111111,
             "#46039f"
            ],
            [
             0.2222222222222222,
             "#7201a8"
            ],
            [
             0.3333333333333333,
             "#9c179e"
            ],
            [
             0.4444444444444444,
             "#bd3786"
            ],
            [
             0.5555555555555556,
             "#d8576b"
            ],
            [
             0.6666666666666666,
             "#ed7953"
            ],
            [
             0.7777777777777778,
             "#fb9f3a"
            ],
            [
             0.8888888888888888,
             "#fdca26"
            ],
            [
             1,
             "#f0f921"
            ]
           ]
          },
          "colorway": [
           "#636efa",
           "#EF553B",
           "#00cc96",
           "#ab63fa",
           "#FFA15A",
           "#19d3f3",
           "#FF6692",
           "#B6E880",
           "#FF97FF",
           "#FECB52"
          ],
          "font": {
           "color": "#2a3f5f"
          },
          "geo": {
           "bgcolor": "white",
           "lakecolor": "white",
           "landcolor": "#E5ECF6",
           "showlakes": true,
           "showland": true,
           "subunitcolor": "white"
          },
          "hoverlabel": {
           "align": "left"
          },
          "hovermode": "closest",
          "mapbox": {
           "style": "light"
          },
          "paper_bgcolor": "white",
          "plot_bgcolor": "#E5ECF6",
          "polar": {
           "angularaxis": {
            "gridcolor": "white",
            "linecolor": "white",
            "ticks": ""
           },
           "bgcolor": "#E5ECF6",
           "radialaxis": {
            "gridcolor": "white",
            "linecolor": "white",
            "ticks": ""
           }
          },
          "scene": {
           "xaxis": {
            "backgroundcolor": "#E5ECF6",
            "gridcolor": "white",
            "gridwidth": 2,
            "linecolor": "white",
            "showbackground": true,
            "ticks": "",
            "zerolinecolor": "white"
           },
           "yaxis": {
            "backgroundcolor": "#E5ECF6",
            "gridcolor": "white",
            "gridwidth": 2,
            "linecolor": "white",
            "showbackground": true,
            "ticks": "",
            "zerolinecolor": "white"
           },
           "zaxis": {
            "backgroundcolor": "#E5ECF6",
            "gridcolor": "white",
            "gridwidth": 2,
            "linecolor": "white",
            "showbackground": true,
            "ticks": "",
            "zerolinecolor": "white"
           }
          },
          "shapedefaults": {
           "line": {
            "color": "#2a3f5f"
           }
          },
          "ternary": {
           "aaxis": {
            "gridcolor": "white",
            "linecolor": "white",
            "ticks": ""
           },
           "baxis": {
            "gridcolor": "white",
            "linecolor": "white",
            "ticks": ""
           },
           "bgcolor": "#E5ECF6",
           "caxis": {
            "gridcolor": "white",
            "linecolor": "white",
            "ticks": ""
           }
          },
          "title": {
           "x": 0.05
          },
          "xaxis": {
           "automargin": true,
           "gridcolor": "white",
           "linecolor": "white",
           "ticks": "",
           "title": {
            "standoff": 15
           },
           "zerolinecolor": "white",
           "zerolinewidth": 2
          },
          "yaxis": {
           "automargin": true,
           "gridcolor": "white",
           "linecolor": "white",
           "ticks": "",
           "title": {
            "standoff": 15
           },
           "zerolinecolor": "white",
           "zerolinewidth": 2
          }
         }
        },
        "title": {
         "text": "Slice Plot"
        },
        "xaxis": {
         "anchor": "y",
         "domain": [
          0,
          0.2888888888888889
         ],
         "title": {
          "text": "binary_threshold"
         }
        },
        "xaxis2": {
         "anchor": "y2",
         "categoryarray": [
          1,
          2,
          4,
          5,
          8,
          10,
          20,
          25
         ],
         "categoryorder": "array",
         "domain": [
          0.35555555555555557,
          0.6444444444444445
         ],
         "title": {
          "text": "decimate_t_rate"
         },
         "type": "category"
        },
        "xaxis3": {
         "anchor": "y3",
         "categoryarray": [
          0.1,
          0.2,
          0.5,
          1,
          2,
          5,
          10,
          20
         ],
         "categoryorder": "array",
         "domain": [
          0.7111111111111111,
          1
         ],
         "title": {
          "text": "lowpass_filter_freq"
         },
         "type": "category"
        },
        "yaxis": {
         "anchor": "x",
         "domain": [
          0,
          1
         ],
         "title": {
          "text": "Objective Value"
         }
        },
        "yaxis2": {
         "anchor": "x2",
         "domain": [
          0,
          1
         ],
         "matches": "y",
         "showticklabels": false
        },
        "yaxis3": {
         "anchor": "x3",
         "domain": [
          0,
          1
         ],
         "matches": "y",
         "showticklabels": false
        }
       }
      },
      "text/html": [
       "<div>                            <div id=\"97fbc5da-0f44-469d-9840-fae396042723\" class=\"plotly-graph-div\" style=\"height:525px; width:100%;\"></div>            <script type=\"text/javascript\">                require([\"plotly\"], function(Plotly) {                    window.PLOTLYENV=window.PLOTLYENV || {};                                    if (document.getElementById(\"97fbc5da-0f44-469d-9840-fae396042723\")) {                    Plotly.newPlot(                        \"97fbc5da-0f44-469d-9840-fae396042723\",                        [{\"marker\":{\"color\":[0,1,2,3,4,5,6,7,8,9,10,11,12,13,14,15,16,17,18,19,20,21,22,23,24,25,26,27,28,29,30,31,32,33,34,35,36,37,38,39,40,41,42,43,44,45,46,47,48,49,50,51,52,53,54,55,56,57,58,59,60,61,62,63,64,65,66,67,68,69,70,71,72,73,74,75,76,77,78,79,80,81,82,83,84,85,86,87,88,89,90,91,92,93,94,95,96,97,98,99],\"colorbar\":{\"title\":{\"text\":\"Trial\"},\"x\":1.0,\"xpad\":40},\"colorscale\":[[0.0,\"rgb(247,251,255)\"],[0.125,\"rgb(222,235,247)\"],[0.25,\"rgb(198,219,239)\"],[0.375,\"rgb(158,202,225)\"],[0.5,\"rgb(107,174,214)\"],[0.625,\"rgb(66,146,198)\"],[0.75,\"rgb(33,113,181)\"],[0.875,\"rgb(8,81,156)\"],[1.0,\"rgb(8,48,107)\"]],\"line\":{\"color\":\"Grey\",\"width\":0.5},\"showscale\":true},\"mode\":\"markers\",\"name\":\"Feasible Trial\",\"showlegend\":false,\"x\":[1.6084844859190753e-08,2.897771074506666e-08,2.939169255529117e-08,2.6043939615080792e-08,1.6219646434313244e-08,2.2728208225275606e-08,2.7851179969799553e-08,1.6464058640415105e-08,1.2897897441824461e-08,2.1817858863764834e-08,2.392235606716642e-08,2.38049414713829e-08,2.0861057980795625e-08,2.6389666527397133e-08,1.9454280133158972e-08,2.535251995401582e-08,1.9869538018876262e-08,1.9654911684936286e-08,1.845796097019243e-08,1.035579674344418e-08,1.8105466392850955e-08,1.7938271256641148e-08,1.3705194787681686e-08,1.8039552518338094e-08,1.4199059074991957e-08,1.8306403642577588e-08,1.9560740047806717e-08,2.154599449524622e-08,1.5086567345310146e-08,1.197602979801092e-08,1.7167805695810834e-08,1.8609041658072216e-08,1.8972790017952284e-08,2.0789691865590573e-08,1.5503800690959742e-08,1.6982079346585998e-08,1.7248877123732857e-08,1.7151158619592478e-08,1.6428089778367035e-08,1.497754857953227e-08,1.6916474489640693e-08,1.849523185583964e-08,1.5812293311765323e-08,1.7310074624263356e-08,2.0623445256320304e-08,1.7602693435741495e-08,2.246057020267744e-08,1.4084210149905287e-08,1.6275749912406648e-08,1.2437416020051213e-08,1.897681763744075e-08,1.8497540988154688e-08,1.7390185979423997e-08,1.9932151916447507e-08,2.0315380985847958e-08,2.130860160197706e-08,2.159468421760106e-08,2.3621287094997116e-08,2.3154131151994966e-08,2.981955327573641e-08,2.4612342012866403e-08,1.9214951159478627e-08,1.9264553642915716e-08,1.9982870607197338e-08,1.9939510759401193e-08,2.1196556332244715e-08,2.2331015884267938e-08,1.9139071734852532e-08,2.0060178714010287e-08,2.2004823295027717e-08,1.9292576989746144e-08,1.9562753549104542e-08,2.115058677301198e-08,2.1188862926549275e-08,2.0926893207854853e-08,2.302287076506126e-08,2.1343162505770533e-08,2.3032946039578572e-08,2.655066233307314e-08,2.4358053299099512e-08,2.205930444976546e-08,2.0342181062442593e-08,2.047277380111612e-08,2.0518378399706854e-08,2.0202134962410234e-08,1.9714158755797236e-08,2.1018829313084645e-08,1.8698606875672568e-08,1.7913034168310427e-08,2.179498459464639e-08,2.0033969318081048e-08,2.0607565086219453e-08,2.1425740442421474e-08,2.0750560681083917e-08,1.9829931057334543e-08,1.9584386507185127e-08,1.878955251372232e-08,2.029088364512862e-08,1.8453817131885636e-08,1.9696578323214176e-08],\"y\":[5.541098265895955,5.353352601156069,5.229450867052023,4.835231213872833,5.428005780346822,5.988121387283237,6.356531791907515,6.2616184971098265,5.622225433526012,4.8897109826589595,9.414450867052023,7.599927745664741,6.376473988439305,7.838106936416185,5.294393063583816,5.863179190751445,3.686156069364162,3.1644508670520235,3.1326878612716764,4.165202312138728,3.2045664739884394,3.222601156069364,3.6705202312138727,3.1723988439306363,3.628063583815029,3.0343063583815026,3.695578034682081,3.777341040462428,15.198121387283237,5.3982947976878615,3.735578034682081,3.1512138728323698,3.165520231213873,4.6288439306358375,5.123526011560694,3.052601156069364,3.0615028901734105,3.935953757225434,5.046734104046243,3.2109248554913297,3.9288150289017336,3.041936416184971,3.1367052023121387,3.055693641618497,3.6801445086705207,3.763265895953757,3.6088728323699426,4.33771676300578,5.982658959537572,5.490982658959538,3.8315606936416184,3.0245953757225434,3.051184971098266,3.028612716763006,4.448034682080925,3.026734104046243,3.9354768786127168,5.112630057803468,3.875231213872832,3.106473988439306,3.661820809248555,3.0352890173410407,3.0409826589595377,3.0232658959537573,4.549190751445087,3.6189306358381503,4.533410404624278,3.798670520231214,6.786820809248556,4.158728323699422,3.0389017341040465,3.0310115606936416,3.0234104046242773,3.0317052023121387,5.212398843930636,3.033005780346821,4.677167630057804,3.036271676300578,3.0967052023121386,3.036849710982659,3.0377167630057804,3.032109826589595,3.027890173410405,3.0332369942196533,3.0286994219653183,3.8019364161849714,3.694566473988439,4.670664739884393,6.234277456647399,3.03635838150289,11.357630057803467,3.022109826589596,3.035722543352601,3.0342485549132947,3.030057803468208,6.160982658959537,4.113150289017342,4.396878612716764,3.0313583815028897,4.672109826589595],\"type\":\"scatter\",\"xaxis\":\"x\",\"yaxis\":\"y\"},{\"marker\":{\"color\":[0,1,2,3,4,5,6,7,8,9,10,11,12,13,14,15,16,17,18,19,20,21,22,23,24,25,26,27,28,29,30,31,32,33,34,35,36,37,38,39,40,41,42,43,44,45,46,47,48,49,50,51,52,53,54,55,56,57,58,59,60,61,62,63,64,65,66,67,68,69,70,71,72,73,74,75,76,77,78,79,80,81,82,83,84,85,86,87,88,89,90,91,92,93,94,95,96,97,98,99],\"colorbar\":{\"title\":{\"text\":\"Trial\"},\"x\":1.0,\"xpad\":40},\"colorscale\":[[0.0,\"rgb(247,251,255)\"],[0.125,\"rgb(222,235,247)\"],[0.25,\"rgb(198,219,239)\"],[0.375,\"rgb(158,202,225)\"],[0.5,\"rgb(107,174,214)\"],[0.625,\"rgb(66,146,198)\"],[0.75,\"rgb(33,113,181)\"],[0.875,\"rgb(8,81,156)\"],[1.0,\"rgb(8,48,107)\"]],\"line\":{\"color\":\"Grey\",\"width\":0.5},\"showscale\":false},\"mode\":\"markers\",\"name\":\"Feasible Trial\",\"showlegend\":false,\"x\":[5,1,2,5,8,2,4,25,20,8,10,8,5,8,5,1,25,25,25,25,25,25,25,25,25,20,20,20,10,4,20,25,25,1,2,20,20,20,20,20,20,20,20,20,20,20,20,20,2,4,10,20,20,20,5,20,8,1,20,20,20,20,20,20,5,20,4,10,8,20,20,20,20,20,2,20,1,20,20,20,20,20,20,20,20,20,20,5,4,20,10,20,20,20,20,2,8,20,20,1],\"y\":[5.541098265895955,5.353352601156069,5.229450867052023,4.835231213872833,5.428005780346822,5.988121387283237,6.356531791907515,6.2616184971098265,5.622225433526012,4.8897109826589595,9.414450867052023,7.599927745664741,6.376473988439305,7.838106936416185,5.294393063583816,5.863179190751445,3.686156069364162,3.1644508670520235,3.1326878612716764,4.165202312138728,3.2045664739884394,3.222601156069364,3.6705202312138727,3.1723988439306363,3.628063583815029,3.0343063583815026,3.695578034682081,3.777341040462428,15.198121387283237,5.3982947976878615,3.735578034682081,3.1512138728323698,3.165520231213873,4.6288439306358375,5.123526011560694,3.052601156069364,3.0615028901734105,3.935953757225434,5.046734104046243,3.2109248554913297,3.9288150289017336,3.041936416184971,3.1367052023121387,3.055693641618497,3.6801445086705207,3.763265895953757,3.6088728323699426,4.33771676300578,5.982658959537572,5.490982658959538,3.8315606936416184,3.0245953757225434,3.051184971098266,3.028612716763006,4.448034682080925,3.026734104046243,3.9354768786127168,5.112630057803468,3.875231213872832,3.106473988439306,3.661820809248555,3.0352890173410407,3.0409826589595377,3.0232658959537573,4.549190751445087,3.6189306358381503,4.533410404624278,3.798670520231214,6.786820809248556,4.158728323699422,3.0389017341040465,3.0310115606936416,3.0234104046242773,3.0317052023121387,5.212398843930636,3.033005780346821,4.677167630057804,3.036271676300578,3.0967052023121386,3.036849710982659,3.0377167630057804,3.032109826589595,3.027890173410405,3.0332369942196533,3.0286994219653183,3.8019364161849714,3.694566473988439,4.670664739884393,6.234277456647399,3.03635838150289,11.357630057803467,3.022109826589596,3.035722543352601,3.0342485549132947,3.030057803468208,6.160982658959537,4.113150289017342,4.396878612716764,3.0313583815028897,4.672109826589595],\"type\":\"scatter\",\"xaxis\":\"x2\",\"yaxis\":\"y2\"},{\"marker\":{\"color\":[0,1,2,3,4,5,6,7,8,9,10,11,12,13,14,15,16,17,18,19,20,21,22,23,24,25,26,27,28,29,30,31,32,33,34,35,36,37,38,39,40,41,42,43,44,45,46,47,48,49,50,51,52,53,54,55,56,57,58,59,60,61,62,63,64,65,66,67,68,69,70,71,72,73,74,75,76,77,78,79,80,81,82,83,84,85,86,87,88,89,90,91,92,93,94,95,96,97,98,99],\"colorbar\":{\"title\":{\"text\":\"Trial\"},\"x\":1.0,\"xpad\":40},\"colorscale\":[[0.0,\"rgb(247,251,255)\"],[0.125,\"rgb(222,235,247)\"],[0.25,\"rgb(198,219,239)\"],[0.375,\"rgb(158,202,225)\"],[0.5,\"rgb(107,174,214)\"],[0.625,\"rgb(66,146,198)\"],[0.75,\"rgb(33,113,181)\"],[0.875,\"rgb(8,81,156)\"],[1.0,\"rgb(8,48,107)\"]],\"line\":{\"color\":\"Grey\",\"width\":0.5},\"showscale\":false},\"mode\":\"markers\",\"name\":\"Feasible Trial\",\"showlegend\":false,\"x\":[0.2,1,0.1,0.2,0.2,1,0.5,0.5,1,0.2,10,2,20,5,0.2,0.2,0.2,0.1,0.1,0.1,0.1,0.1,0.1,0.1,0.1,0.1,5,10,20,0.1,2,0.1,0.1,0.1,0.1,0.1,0.1,0.5,1,0.1,5,0.1,0.1,0.1,10,2,20,0.5,1,0.1,0.1,0.1,0.1,0.1,0.1,0.1,0.1,10,2,0.2,5,0.1,0.1,0.1,0.1,20,0.1,0.1,0.5,1,0.1,0.1,0.1,0.1,0.1,0.1,0.1,0.1,0.2,0.1,0.1,0.1,0.1,0.1,0.1,5,10,0.1,2,0.1,20,0.1,0.1,0.1,0.1,0.5,0.1,1,0.1,0.1],\"y\":[5.541098265895955,5.353352601156069,5.229450867052023,4.835231213872833,5.428005780346822,5.988121387283237,6.356531791907515,6.2616184971098265,5.622225433526012,4.8897109826589595,9.414450867052023,7.599927745664741,6.376473988439305,7.838106936416185,5.294393063583816,5.863179190751445,3.686156069364162,3.1644508670520235,3.1326878612716764,4.165202312138728,3.2045664739884394,3.222601156069364,3.6705202312138727,3.1723988439306363,3.628063583815029,3.0343063583815026,3.695578034682081,3.777341040462428,15.198121387283237,5.3982947976878615,3.735578034682081,3.1512138728323698,3.165520231213873,4.6288439306358375,5.123526011560694,3.052601156069364,3.0615028901734105,3.935953757225434,5.046734104046243,3.2109248554913297,3.9288150289017336,3.041936416184971,3.1367052023121387,3.055693641618497,3.6801445086705207,3.763265895953757,3.6088728323699426,4.33771676300578,5.982658959537572,5.490982658959538,3.8315606936416184,3.0245953757225434,3.051184971098266,3.028612716763006,4.448034682080925,3.026734104046243,3.9354768786127168,5.112630057803468,3.875231213872832,3.106473988439306,3.661820809248555,3.0352890173410407,3.0409826589595377,3.0232658959537573,4.549190751445087,3.6189306358381503,4.533410404624278,3.798670520231214,6.786820809248556,4.158728323699422,3.0389017341040465,3.0310115606936416,3.0234104046242773,3.0317052023121387,5.212398843930636,3.033005780346821,4.677167630057804,3.036271676300578,3.0967052023121386,3.036849710982659,3.0377167630057804,3.032109826589595,3.027890173410405,3.0332369942196533,3.0286994219653183,3.8019364161849714,3.694566473988439,4.670664739884393,6.234277456647399,3.03635838150289,11.357630057803467,3.022109826589596,3.035722543352601,3.0342485549132947,3.030057803468208,6.160982658959537,4.113150289017342,4.396878612716764,3.0313583815028897,4.672109826589595],\"type\":\"scatter\",\"xaxis\":\"x3\",\"yaxis\":\"y3\"}],                        {\"template\":{\"data\":{\"histogram2dcontour\":[{\"type\":\"histogram2dcontour\",\"colorbar\":{\"outlinewidth\":0,\"ticks\":\"\"},\"colorscale\":[[0.0,\"#0d0887\"],[0.1111111111111111,\"#46039f\"],[0.2222222222222222,\"#7201a8\"],[0.3333333333333333,\"#9c179e\"],[0.4444444444444444,\"#bd3786\"],[0.5555555555555556,\"#d8576b\"],[0.6666666666666666,\"#ed7953\"],[0.7777777777777778,\"#fb9f3a\"],[0.8888888888888888,\"#fdca26\"],[1.0,\"#f0f921\"]]}],\"choropleth\":[{\"type\":\"choropleth\",\"colorbar\":{\"outlinewidth\":0,\"ticks\":\"\"}}],\"histogram2d\":[{\"type\":\"histogram2d\",\"colorbar\":{\"outlinewidth\":0,\"ticks\":\"\"},\"colorscale\":[[0.0,\"#0d0887\"],[0.1111111111111111,\"#46039f\"],[0.2222222222222222,\"#7201a8\"],[0.3333333333333333,\"#9c179e\"],[0.4444444444444444,\"#bd3786\"],[0.5555555555555556,\"#d8576b\"],[0.6666666666666666,\"#ed7953\"],[0.7777777777777778,\"#fb9f3a\"],[0.8888888888888888,\"#fdca26\"],[1.0,\"#f0f921\"]]}],\"heatmap\":[{\"type\":\"heatmap\",\"colorbar\":{\"outlinewidth\":0,\"ticks\":\"\"},\"colorscale\":[[0.0,\"#0d0887\"],[0.1111111111111111,\"#46039f\"],[0.2222222222222222,\"#7201a8\"],[0.3333333333333333,\"#9c179e\"],[0.4444444444444444,\"#bd3786\"],[0.5555555555555556,\"#d8576b\"],[0.6666666666666666,\"#ed7953\"],[0.7777777777777778,\"#fb9f3a\"],[0.8888888888888888,\"#fdca26\"],[1.0,\"#f0f921\"]]}],\"heatmapgl\":[{\"type\":\"heatmapgl\",\"colorbar\":{\"outlinewidth\":0,\"ticks\":\"\"},\"colorscale\":[[0.0,\"#0d0887\"],[0.1111111111111111,\"#46039f\"],[0.2222222222222222,\"#7201a8\"],[0.3333333333333333,\"#9c179e\"],[0.4444444444444444,\"#bd3786\"],[0.5555555555555556,\"#d8576b\"],[0.6666666666666666,\"#ed7953\"],[0.7777777777777778,\"#fb9f3a\"],[0.8888888888888888,\"#fdca26\"],[1.0,\"#f0f921\"]]}],\"contourcarpet\":[{\"type\":\"contourcarpet\",\"colorbar\":{\"outlinewidth\":0,\"ticks\":\"\"}}],\"contour\":[{\"type\":\"contour\",\"colorbar\":{\"outlinewidth\":0,\"ticks\":\"\"},\"colorscale\":[[0.0,\"#0d0887\"],[0.1111111111111111,\"#46039f\"],[0.2222222222222222,\"#7201a8\"],[0.3333333333333333,\"#9c179e\"],[0.4444444444444444,\"#bd3786\"],[0.5555555555555556,\"#d8576b\"],[0.6666666666666666,\"#ed7953\"],[0.7777777777777778,\"#fb9f3a\"],[0.8888888888888888,\"#fdca26\"],[1.0,\"#f0f921\"]]}],\"surface\":[{\"type\":\"surface\",\"colorbar\":{\"outlinewidth\":0,\"ticks\":\"\"},\"colorscale\":[[0.0,\"#0d0887\"],[0.1111111111111111,\"#46039f\"],[0.2222222222222222,\"#7201a8\"],[0.3333333333333333,\"#9c179e\"],[0.4444444444444444,\"#bd3786\"],[0.5555555555555556,\"#d8576b\"],[0.6666666666666666,\"#ed7953\"],[0.7777777777777778,\"#fb9f3a\"],[0.8888888888888888,\"#fdca26\"],[1.0,\"#f0f921\"]]}],\"mesh3d\":[{\"type\":\"mesh3d\",\"colorbar\":{\"outlinewidth\":0,\"ticks\":\"\"}}],\"scatter\":[{\"fillpattern\":{\"fillmode\":\"overlay\",\"size\":10,\"solidity\":0.2},\"type\":\"scatter\"}],\"parcoords\":[{\"type\":\"parcoords\",\"line\":{\"colorbar\":{\"outlinewidth\":0,\"ticks\":\"\"}}}],\"scatterpolargl\":[{\"type\":\"scatterpolargl\",\"marker\":{\"colorbar\":{\"outlinewidth\":0,\"ticks\":\"\"}}}],\"bar\":[{\"error_x\":{\"color\":\"#2a3f5f\"},\"error_y\":{\"color\":\"#2a3f5f\"},\"marker\":{\"line\":{\"color\":\"#E5ECF6\",\"width\":0.5},\"pattern\":{\"fillmode\":\"overlay\",\"size\":10,\"solidity\":0.2}},\"type\":\"bar\"}],\"scattergeo\":[{\"type\":\"scattergeo\",\"marker\":{\"colorbar\":{\"outlinewidth\":0,\"ticks\":\"\"}}}],\"scatterpolar\":[{\"type\":\"scatterpolar\",\"marker\":{\"colorbar\":{\"outlinewidth\":0,\"ticks\":\"\"}}}],\"histogram\":[{\"marker\":{\"pattern\":{\"fillmode\":\"overlay\",\"size\":10,\"solidity\":0.2}},\"type\":\"histogram\"}],\"scattergl\":[{\"type\":\"scattergl\",\"marker\":{\"colorbar\":{\"outlinewidth\":0,\"ticks\":\"\"}}}],\"scatter3d\":[{\"type\":\"scatter3d\",\"line\":{\"colorbar\":{\"outlinewidth\":0,\"ticks\":\"\"}},\"marker\":{\"colorbar\":{\"outlinewidth\":0,\"ticks\":\"\"}}}],\"scattermapbox\":[{\"type\":\"scattermapbox\",\"marker\":{\"colorbar\":{\"outlinewidth\":0,\"ticks\":\"\"}}}],\"scatterternary\":[{\"type\":\"scatterternary\",\"marker\":{\"colorbar\":{\"outlinewidth\":0,\"ticks\":\"\"}}}],\"scattercarpet\":[{\"type\":\"scattercarpet\",\"marker\":{\"colorbar\":{\"outlinewidth\":0,\"ticks\":\"\"}}}],\"carpet\":[{\"aaxis\":{\"endlinecolor\":\"#2a3f5f\",\"gridcolor\":\"white\",\"linecolor\":\"white\",\"minorgridcolor\":\"white\",\"startlinecolor\":\"#2a3f5f\"},\"baxis\":{\"endlinecolor\":\"#2a3f5f\",\"gridcolor\":\"white\",\"linecolor\":\"white\",\"minorgridcolor\":\"white\",\"startlinecolor\":\"#2a3f5f\"},\"type\":\"carpet\"}],\"table\":[{\"cells\":{\"fill\":{\"color\":\"#EBF0F8\"},\"line\":{\"color\":\"white\"}},\"header\":{\"fill\":{\"color\":\"#C8D4E3\"},\"line\":{\"color\":\"white\"}},\"type\":\"table\"}],\"barpolar\":[{\"marker\":{\"line\":{\"color\":\"#E5ECF6\",\"width\":0.5},\"pattern\":{\"fillmode\":\"overlay\",\"size\":10,\"solidity\":0.2}},\"type\":\"barpolar\"}],\"pie\":[{\"automargin\":true,\"type\":\"pie\"}]},\"layout\":{\"autotypenumbers\":\"strict\",\"colorway\":[\"#636efa\",\"#EF553B\",\"#00cc96\",\"#ab63fa\",\"#FFA15A\",\"#19d3f3\",\"#FF6692\",\"#B6E880\",\"#FF97FF\",\"#FECB52\"],\"font\":{\"color\":\"#2a3f5f\"},\"hovermode\":\"closest\",\"hoverlabel\":{\"align\":\"left\"},\"paper_bgcolor\":\"white\",\"plot_bgcolor\":\"#E5ECF6\",\"polar\":{\"bgcolor\":\"#E5ECF6\",\"angularaxis\":{\"gridcolor\":\"white\",\"linecolor\":\"white\",\"ticks\":\"\"},\"radialaxis\":{\"gridcolor\":\"white\",\"linecolor\":\"white\",\"ticks\":\"\"}},\"ternary\":{\"bgcolor\":\"#E5ECF6\",\"aaxis\":{\"gridcolor\":\"white\",\"linecolor\":\"white\",\"ticks\":\"\"},\"baxis\":{\"gridcolor\":\"white\",\"linecolor\":\"white\",\"ticks\":\"\"},\"caxis\":{\"gridcolor\":\"white\",\"linecolor\":\"white\",\"ticks\":\"\"}},\"coloraxis\":{\"colorbar\":{\"outlinewidth\":0,\"ticks\":\"\"}},\"colorscale\":{\"sequential\":[[0.0,\"#0d0887\"],[0.1111111111111111,\"#46039f\"],[0.2222222222222222,\"#7201a8\"],[0.3333333333333333,\"#9c179e\"],[0.4444444444444444,\"#bd3786\"],[0.5555555555555556,\"#d8576b\"],[0.6666666666666666,\"#ed7953\"],[0.7777777777777778,\"#fb9f3a\"],[0.8888888888888888,\"#fdca26\"],[1.0,\"#f0f921\"]],\"sequentialminus\":[[0.0,\"#0d0887\"],[0.1111111111111111,\"#46039f\"],[0.2222222222222222,\"#7201a8\"],[0.3333333333333333,\"#9c179e\"],[0.4444444444444444,\"#bd3786\"],[0.5555555555555556,\"#d8576b\"],[0.6666666666666666,\"#ed7953\"],[0.7777777777777778,\"#fb9f3a\"],[0.8888888888888888,\"#fdca26\"],[1.0,\"#f0f921\"]],\"diverging\":[[0,\"#8e0152\"],[0.1,\"#c51b7d\"],[0.2,\"#de77ae\"],[0.3,\"#f1b6da\"],[0.4,\"#fde0ef\"],[0.5,\"#f7f7f7\"],[0.6,\"#e6f5d0\"],[0.7,\"#b8e186\"],[0.8,\"#7fbc41\"],[0.9,\"#4d9221\"],[1,\"#276419\"]]},\"xaxis\":{\"gridcolor\":\"white\",\"linecolor\":\"white\",\"ticks\":\"\",\"title\":{\"standoff\":15},\"zerolinecolor\":\"white\",\"automargin\":true,\"zerolinewidth\":2},\"yaxis\":{\"gridcolor\":\"white\",\"linecolor\":\"white\",\"ticks\":\"\",\"title\":{\"standoff\":15},\"zerolinecolor\":\"white\",\"automargin\":true,\"zerolinewidth\":2},\"scene\":{\"xaxis\":{\"backgroundcolor\":\"#E5ECF6\",\"gridcolor\":\"white\",\"linecolor\":\"white\",\"showbackground\":true,\"ticks\":\"\",\"zerolinecolor\":\"white\",\"gridwidth\":2},\"yaxis\":{\"backgroundcolor\":\"#E5ECF6\",\"gridcolor\":\"white\",\"linecolor\":\"white\",\"showbackground\":true,\"ticks\":\"\",\"zerolinecolor\":\"white\",\"gridwidth\":2},\"zaxis\":{\"backgroundcolor\":\"#E5ECF6\",\"gridcolor\":\"white\",\"linecolor\":\"white\",\"showbackground\":true,\"ticks\":\"\",\"zerolinecolor\":\"white\",\"gridwidth\":2}},\"shapedefaults\":{\"line\":{\"color\":\"#2a3f5f\"}},\"annotationdefaults\":{\"arrowcolor\":\"#2a3f5f\",\"arrowhead\":0,\"arrowwidth\":1},\"geo\":{\"bgcolor\":\"white\",\"landcolor\":\"#E5ECF6\",\"subunitcolor\":\"white\",\"showland\":true,\"showlakes\":true,\"lakecolor\":\"white\"},\"title\":{\"x\":0.05},\"mapbox\":{\"style\":\"light\"}}},\"xaxis\":{\"anchor\":\"y\",\"domain\":[0.0,0.2888888888888889],\"title\":{\"text\":\"binary_threshold\"}},\"yaxis\":{\"anchor\":\"x\",\"domain\":[0.0,1.0],\"title\":{\"text\":\"Objective Value\"}},\"xaxis2\":{\"anchor\":\"y2\",\"domain\":[0.35555555555555557,0.6444444444444445],\"title\":{\"text\":\"decimate_t_rate\"},\"type\":\"category\",\"categoryorder\":\"array\",\"categoryarray\":[1,2,4,5,8,10,20,25]},\"yaxis2\":{\"anchor\":\"x2\",\"domain\":[0.0,1.0],\"matches\":\"y\",\"showticklabels\":false},\"xaxis3\":{\"anchor\":\"y3\",\"domain\":[0.7111111111111111,1.0],\"title\":{\"text\":\"lowpass_filter_freq\"},\"type\":\"category\",\"categoryorder\":\"array\",\"categoryarray\":[0.1,0.2,0.5,1,2,5,10,20]},\"yaxis3\":{\"anchor\":\"x3\",\"domain\":[0.0,1.0],\"matches\":\"y\",\"showticklabels\":false},\"title\":{\"text\":\"Slice Plot\"}},                        {\"responsive\": true}                    ).then(function(){\n",
       "                            \n",
       "var gd = document.getElementById('97fbc5da-0f44-469d-9840-fae396042723');\n",
       "var x = new MutationObserver(function (mutations, observer) {{\n",
       "        var display = window.getComputedStyle(gd).display;\n",
       "        if (!display || display === 'none') {{\n",
       "            console.log([gd, 'removed!']);\n",
       "            Plotly.purge(gd);\n",
       "            observer.disconnect();\n",
       "        }}\n",
       "}});\n",
       "\n",
       "// Listen for the removal of the full notebook cells\n",
       "var notebookContainer = gd.closest('#notebook-container');\n",
       "if (notebookContainer) {{\n",
       "    x.observe(notebookContainer, {childList: true});\n",
       "}}\n",
       "\n",
       "// Listen for the clearing of the current output cell\n",
       "var outputEl = gd.closest('.output');\n",
       "if (outputEl) {{\n",
       "    x.observe(outputEl, {childList: true});\n",
       "}}\n",
       "\n",
       "                        })                };                });            </script>        </div>"
      ]
     },
     "metadata": {},
     "output_type": "display_data"
    }
   ],
   "source": [
    "optuna.visualization.plot_slice(study)"
   ]
  },
  {
   "cell_type": "code",
   "execution_count": 76,
   "metadata": {},
   "outputs": [
    {
     "data": {
      "image/png": "[encoded data removed]",
      "text/plain": [
       "<Figure size 600x400 with 2 Axes>"
      ]
     },
     "metadata": {},
     "output_type": "display_data"
    }
   ],
   "source": [
    "# Get all completed trials as a DataFrame\n",
    "df = study.trials_dataframe()\n",
    "\n",
    "# Example: plot the binar between one hyperparameter and the loss (objective value)\n",
    "param_name = 'params_binary_threshold'  # Replace with your parameter name\n",
    "df_filtered = df[df['state'] == 'COMPLETE']  # Filter completed trials\n",
    "\n",
    "\n",
    "plt.figure(figsize=(6, 4))\n",
    "scatter = plt.scatter(df_filtered[param_name], df_filtered['value'],  c=df_filtered.index, cmap='Blues')\n",
    "plt.xlabel('Binary Threshold')\n",
    "plt.ylabel('Objective Value (Loss)')\n",
    "plt.title(f'Optimization of Binary Threshold')\n",
    "plt.grid(True)\n",
    "# Add a colorbar\n",
    "colorbar = plt.colorbar(scatter)\n",
    "\n",
    "# Set the colorbar label (title)\n",
    "colorbar.set_label('Trials', fontsize=12)\n",
    "plt.show()"
   ]
  },
  {
   "cell_type": "code",
   "execution_count": 119,
   "metadata": {},
   "outputs": [],
   "source": [
    "def transform1(x):\n",
    "    if x == 0.5:\n",
    "        x = 0\n",
    "    elif x == 0.2:\n",
    "        x = 0.05\n",
    "    return x"
   ]
  },
  {
   "cell_type": "code",
   "execution_count": 120,
   "metadata": {},
   "outputs": [],
   "source": [
    "def transform2(x):\n",
    "    if x == 0:\n",
    "        x = 0\n",
    "    elif x == 0.05:\n",
    "        x = 1\n",
    "    elif x == 0.1:\n",
    "        x = 2\n",
    "    elif x == 1:\n",
    "        x = 3\n",
    "    elif x == 2:\n",
    "        x = 4\n",
    "    elif x == 5:\n",
    "        x = 5\n",
    "    elif x == 10:\n",
    "        x = 6\n",
    "    elif x == 20:\n",
    "        x = 7\n",
    "    return x"
   ]
  },
  {
   "cell_type": "code",
   "execution_count": 121,
   "metadata": {},
   "outputs": [
    {
     "data": {
      "image/png": "[encoded data removed]",
      "text/plain": [
       "<Figure size 600x400 with 2 Axes>"
      ]
     },
     "metadata": {},
     "output_type": "display_data"
    }
   ],
   "source": [
    "# Get all completed trials as a DataFrame\n",
    "df = study.trials_dataframe()\n",
    "\n",
    "# Example: plot the binar between one hyperparameter and the loss (objective value)\n",
    "param_name = 'params_lowpass_filter_freq'  # Replace with your parameter name\n",
    "df_filtered = df[df['state'] == 'COMPLETE']  # Filter completed trials\n",
    "\n",
    "\n",
    "plt.figure(figsize=(6, 4))\n",
    "scatter = plt.scatter(\n",
    "    df_filtered[param_name].apply(transform1).apply(transform2),\n",
    "    df_filtered['value'],\n",
    "    c=df_filtered.index, cmap='Blues'\n",
    ")\n",
    "plt.xlabel('Cutoff threshold')\n",
    "plt.ylabel('Objective Value (Loss)')\n",
    "plt.title(f'Optimization of Lowpass Filter Cutoff')\n",
    "plt.grid(True)\n",
    "# Add a colorbar\n",
    "colorbar = plt.colorbar(scatter)\n",
    "\n",
    "# Set custom xticks and labels\n",
    "custom_ticks = [0, 1, 2, 3, 4, 5, 6, 7]  # Custom tick positions\n",
    "custom_labels = ['0.1', '0.2', '0.5', '1', '2', '5', '10', '20']  # Custom tick labels\n",
    "plt.xticks(custom_ticks, custom_labels)\n",
    "\n",
    "# Set the colorbar label (title)\n",
    "colorbar.set_label('Trials', fontsize=12)\n",
    "plt.show()"
   ]
  },
  {
   "cell_type": "code",
   "execution_count": 104,
   "metadata": {},
   "outputs": [
    {
     "data": {
      "text/html": [
       "<div>\n",
       "<style scoped>\n",
       "    .dataframe tbody tr th:only-of-type {\n",
       "        vertical-align: middle;\n",
       "    }\n",
       "\n",
       "    .dataframe tbody tr th {\n",
       "        vertical-align: top;\n",
       "    }\n",
       "\n",
       "    .dataframe thead th {\n",
       "        text-align: right;\n",
       "    }\n",
       "</style>\n",
       "<table border=\"1\" class=\"dataframe\">\n",
       "  <thead>\n",
       "    <tr style=\"text-align: right;\">\n",
       "      <th></th>\n",
       "      <th>number</th>\n",
       "      <th>value</th>\n",
       "      <th>datetime_start</th>\n",
       "      <th>datetime_complete</th>\n",
       "      <th>duration</th>\n",
       "      <th>params_binary_threshold</th>\n",
       "      <th>params_decimate_t_rate</th>\n",
       "      <th>params_lowpass_filter_freq</th>\n",
       "      <th>state</th>\n",
       "    </tr>\n",
       "  </thead>\n",
       "  <tbody>\n",
       "    <tr>\n",
       "      <th>0</th>\n",
       "      <td>0</td>\n",
       "      <td>5.541098</td>\n",
       "      <td>2024-09-03 23:07:28.295693</td>\n",
       "      <td>2024-09-04 00:35:13.905471</td>\n",
       "      <td>0 days 01:27:45.609778</td>\n",
       "      <td>1.608484e-08</td>\n",
       "      <td>5</td>\n",
       "      <td>0.2</td>\n",
       "      <td>COMPLETE</td>\n",
       "    </tr>\n",
       "    <tr>\n",
       "      <th>1</th>\n",
       "      <td>1</td>\n",
       "      <td>5.353353</td>\n",
       "      <td>2024-09-04 00:35:13.949273</td>\n",
       "      <td>2024-09-04 02:22:50.187873</td>\n",
       "      <td>0 days 01:47:36.238600</td>\n",
       "      <td>2.897771e-08</td>\n",
       "      <td>1</td>\n",
       "      <td>1.0</td>\n",
       "      <td>COMPLETE</td>\n",
       "    </tr>\n",
       "    <tr>\n",
       "      <th>2</th>\n",
       "      <td>2</td>\n",
       "      <td>5.229451</td>\n",
       "      <td>2024-09-04 02:22:50.211666</td>\n",
       "      <td>2024-09-04 03:44:13.893627</td>\n",
       "      <td>0 days 01:21:23.681961</td>\n",
       "      <td>2.939169e-08</td>\n",
       "      <td>2</td>\n",
       "      <td>0.1</td>\n",
       "      <td>COMPLETE</td>\n",
       "    </tr>\n",
       "    <tr>\n",
       "      <th>3</th>\n",
       "      <td>3</td>\n",
       "      <td>4.835231</td>\n",
       "      <td>2024-09-04 03:44:13.924925</td>\n",
       "      <td>2024-09-04 05:08:31.055372</td>\n",
       "      <td>0 days 01:24:17.130447</td>\n",
       "      <td>2.604394e-08</td>\n",
       "      <td>5</td>\n",
       "      <td>0.2</td>\n",
       "      <td>COMPLETE</td>\n",
       "    </tr>\n",
       "    <tr>\n",
       "      <th>4</th>\n",
       "      <td>4</td>\n",
       "      <td>5.428006</td>\n",
       "      <td>2024-09-04 05:08:31.079484</td>\n",
       "      <td>2024-09-04 06:32:46.473448</td>\n",
       "      <td>0 days 01:24:15.393964</td>\n",
       "      <td>1.621965e-08</td>\n",
       "      <td>8</td>\n",
       "      <td>0.2</td>\n",
       "      <td>COMPLETE</td>\n",
       "    </tr>\n",
       "    <tr>\n",
       "      <th>...</th>\n",
       "      <td>...</td>\n",
       "      <td>...</td>\n",
       "      <td>...</td>\n",
       "      <td>...</td>\n",
       "      <td>...</td>\n",
       "      <td>...</td>\n",
       "      <td>...</td>\n",
       "      <td>...</td>\n",
       "      <td>...</td>\n",
       "    </tr>\n",
       "    <tr>\n",
       "      <th>95</th>\n",
       "      <td>95</td>\n",
       "      <td>6.160983</td>\n",
       "      <td>2024-09-09 17:18:34.833698</td>\n",
       "      <td>2024-09-09 18:52:01.175361</td>\n",
       "      <td>0 days 01:33:26.341663</td>\n",
       "      <td>1.958439e-08</td>\n",
       "      <td>2</td>\n",
       "      <td>0.5</td>\n",
       "      <td>COMPLETE</td>\n",
       "    </tr>\n",
       "    <tr>\n",
       "      <th>96</th>\n",
       "      <td>96</td>\n",
       "      <td>4.113150</td>\n",
       "      <td>2024-09-09 18:52:01.211838</td>\n",
       "      <td>2024-09-09 20:12:38.523203</td>\n",
       "      <td>0 days 01:20:37.311365</td>\n",
       "      <td>1.878955e-08</td>\n",
       "      <td>8</td>\n",
       "      <td>0.1</td>\n",
       "      <td>COMPLETE</td>\n",
       "    </tr>\n",
       "    <tr>\n",
       "      <th>97</th>\n",
       "      <td>97</td>\n",
       "      <td>4.396879</td>\n",
       "      <td>2024-09-09 20:12:38.547754</td>\n",
       "      <td>2024-09-09 21:39:22.960182</td>\n",
       "      <td>0 days 01:26:44.412428</td>\n",
       "      <td>2.029088e-08</td>\n",
       "      <td>20</td>\n",
       "      <td>1.0</td>\n",
       "      <td>COMPLETE</td>\n",
       "    </tr>\n",
       "    <tr>\n",
       "      <th>98</th>\n",
       "      <td>98</td>\n",
       "      <td>3.031358</td>\n",
       "      <td>2024-09-09 21:39:22.990571</td>\n",
       "      <td>2024-09-09 22:59:38.566028</td>\n",
       "      <td>0 days 01:20:15.575457</td>\n",
       "      <td>1.845382e-08</td>\n",
       "      <td>20</td>\n",
       "      <td>0.1</td>\n",
       "      <td>COMPLETE</td>\n",
       "    </tr>\n",
       "    <tr>\n",
       "      <th>99</th>\n",
       "      <td>99</td>\n",
       "      <td>4.672110</td>\n",
       "      <td>2024-09-09 22:59:38.587390</td>\n",
       "      <td>2024-09-10 00:37:38.520663</td>\n",
       "      <td>0 days 01:37:59.933273</td>\n",
       "      <td>1.969658e-08</td>\n",
       "      <td>1</td>\n",
       "      <td>0.1</td>\n",
       "      <td>COMPLETE</td>\n",
       "    </tr>\n",
       "  </tbody>\n",
       "</table>\n",
       "<p>100 rows × 9 columns</p>\n",
       "</div>"
      ],
      "text/plain": [
       "    number     value             datetime_start          datetime_complete  \\\n",
       "0        0  5.541098 2024-09-03 23:07:28.295693 2024-09-04 00:35:13.905471   \n",
       "1        1  5.353353 2024-09-04 00:35:13.949273 2024-09-04 02:22:50.187873   \n",
       "2        2  5.229451 2024-09-04 02:22:50.211666 2024-09-04 03:44:13.893627   \n",
       "3        3  4.835231 2024-09-04 03:44:13.924925 2024-09-04 05:08:31.055372   \n",
       "4        4  5.428006 2024-09-04 05:08:31.079484 2024-09-04 06:32:46.473448   \n",
       "..     ...       ...                        ...                        ...   \n",
       "95      95  6.160983 2024-09-09 17:18:34.833698 2024-09-09 18:52:01.175361   \n",
       "96      96  4.113150 2024-09-09 18:52:01.211838 2024-09-09 20:12:38.523203   \n",
       "97      97  4.396879 2024-09-09 20:12:38.547754 2024-09-09 21:39:22.960182   \n",
       "98      98  3.031358 2024-09-09 21:39:22.990571 2024-09-09 22:59:38.566028   \n",
       "99      99  4.672110 2024-09-09 22:59:38.587390 2024-09-10 00:37:38.520663   \n",
       "\n",
       "                 duration  params_binary_threshold  params_decimate_t_rate  \\\n",
       "0  0 days 01:27:45.609778             1.608484e-08                       5   \n",
       "1  0 days 01:47:36.238600             2.897771e-08                       1   \n",
       "2  0 days 01:21:23.681961             2.939169e-08                       2   \n",
       "3  0 days 01:24:17.130447             2.604394e-08                       5   \n",
       "4  0 days 01:24:15.393964             1.621965e-08                       8   \n",
       "..                    ...                      ...                     ...   \n",
       "95 0 days 01:33:26.341663             1.958439e-08                       2   \n",
       "96 0 days 01:20:37.311365             1.878955e-08                       8   \n",
       "97 0 days 01:26:44.412428             2.029088e-08                      20   \n",
       "98 0 days 01:20:15.575457             1.845382e-08                      20   \n",
       "99 0 days 01:37:59.933273             1.969658e-08                       1   \n",
       "\n",
       "    params_lowpass_filter_freq     state  \n",
       "0                          0.2  COMPLETE  \n",
       "1                          1.0  COMPLETE  \n",
       "2                          0.1  COMPLETE  \n",
       "3                          0.2  COMPLETE  \n",
       "4                          0.2  COMPLETE  \n",
       "..                         ...       ...  \n",
       "95                         0.5  COMPLETE  \n",
       "96                         0.1  COMPLETE  \n",
       "97                         1.0  COMPLETE  \n",
       "98                         0.1  COMPLETE  \n",
       "99                         0.1  COMPLETE  \n",
       "\n",
       "[100 rows x 9 columns]"
      ]
     },
     "execution_count": 104,
     "metadata": {},
     "output_type": "execute_result"
    }
   ],
   "source": [
    "df_filtered"
   ]
  },
  {
   "cell_type": "code",
   "execution_count": null,
   "metadata": {},
   "outputs": [],
   "source": []
  }
 ],
 "metadata": {
  "kernelspec": {
   "display_name": "kptruong",
   "language": "python",
   "name": "python3"
  },
  "language_info": {
   "codemirror_mode": {
    "name": "ipython",
    "version": 3
   },
   "file_extension": ".py",
   "mimetype": "text/x-python",
   "name": "python",
   "nbconvert_exporter": "python",
   "pygments_lexer": "ipython3",
   "version": "3.9.18"
  }
 },
 "nbformat": 4,
 "nbformat_minor": 2
}
