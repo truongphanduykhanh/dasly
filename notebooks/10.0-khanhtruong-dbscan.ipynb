{
 "cells": [
  {
   "cell_type": "code",
   "execution_count": 1,
   "metadata": {},
   "outputs": [],
   "source": [
    "from typing import Union\n",
    "from datetime import datetime, timedelta\n",
    "import warnings\n",
    "\n",
    "import numpy as np\n",
    "import pandas as pd\n",
    "from scipy import signal\n",
    "from scipy.ndimage import gaussian_filter\n",
    "import sklearn\n",
    "from sklearn.cluster import DBSCAN\n",
    "import matplotlib.pyplot as plt\n",
    "from matplotlib import colors\n",
    "import seaborn as sns\n",
    "from scipy.signal import convolve2d\n",
    "from scipy.ndimage import convolve\n",
    "import torch\n",
    "import torch.nn.functional as F\n",
    "\n",
    "from src import simpleDASreader, helper"
   ]
  },
  {
   "cell_type": "code",
   "execution_count": 44,
   "metadata": {},
   "outputs": [
    {
     "data": {
      "text/plain": [
       "6"
      ]
     },
     "execution_count": 44,
     "metadata": {},
     "output_type": "execute_result"
    }
   ],
   "source": [
    "def manhattan_distance(x, y):\n",
    "  return np.sum(np.abs(x - y))\n",
    "\n",
    "x = np.array([0, 0])\n",
    "y = np.array([3, 3])\n",
    "manhattan_distance(x, y)"
   ]
  },
  {
   "cell_type": "code",
   "execution_count": 50,
   "metadata": {},
   "outputs": [
    {
     "data": {
      "text/plain": [
       "55.90169943749474"
      ]
     },
     "execution_count": 50,
     "metadata": {},
     "output_type": "execute_result"
    }
   ],
   "source": [
    "def das_distance(\n",
    "    x: np.ndarray, \n",
    "    y: np.ndarray,\n",
    "    sampling_rate: float\n",
    ") -> float:\n",
    "    SPEED_KMH = 90\n",
    "    speed_ms = SPEED_KMH / 3.6  # 25m/s: 25meter ~ 1second\n",
    "    x[0] = x[0] / sampling_rate * speed_ms\n",
    "    y[0] = y[0] / sampling_rate * speed_ms\n",
    "    distance = np.sqrt(np.sum((x - y)**2))\n",
    "    return distance\n",
    "\n",
    "x = np.array([4000, 25])\n",
    "y = np.array([3000, 75])\n",
    "das_distance(x, y, sampling_rate=1000)"
   ]
  },
  {
   "cell_type": "code",
   "execution_count": null,
   "metadata": {},
   "outputs": [],
   "source": []
  },
  {
   "cell_type": "code",
   "execution_count": null,
   "metadata": {},
   "outputs": [],
   "source": []
  },
  {
   "cell_type": "code",
   "execution_count": null,
   "metadata": {},
   "outputs": [],
   "source": []
  },
  {
   "cell_type": "code",
   "execution_count": null,
   "metadata": {},
   "outputs": [],
   "source": []
  }
 ],
 "metadata": {
  "kernelspec": {
   "display_name": "kptruong",
   "language": "python",
   "name": "python3"
  },
  "language_info": {
   "codemirror_mode": {
    "name": "ipython",
    "version": 3
   },
   "file_extension": ".py",
   "mimetype": "text/x-python",
   "name": "python",
   "nbconvert_exporter": "python",
   "pygments_lexer": "ipython3",
   "version": "3.9.18"
  }
 },
 "nbformat": 4,
 "nbformat_minor": 2
}
