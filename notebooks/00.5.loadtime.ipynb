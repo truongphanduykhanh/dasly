{
 "cells": [
  {
   "cell_type": "code",
   "execution_count": 2,
   "metadata": {},
   "outputs": [],
   "source": [
    "from dasly.das_master import Dasly\n",
    "import numpy as np\n",
    "import pandas as pd\n",
    "import yaml\n",
    "import matplotlib.pyplot as plt\n",
    "import seaborn as sns\n",
    "import time"
   ]
  },
  {
   "cell_type": "code",
   "execution_count": 3,
   "metadata": {},
   "outputs": [],
   "source": [
    "# Define the path to the YAML file\n",
    "yaml_path = '../config.yml'\n",
    "\n",
    "# Open and read the YAML file\n",
    "with open(yaml_path, 'r') as file:\n",
    "    params = yaml.safe_load(file)\n",
    "\n",
    "\n",
    "# Access parameters from the YAML file\n",
    "input_dir = params['input_dir']\n",
    "start_exact_second = params['start_exact_second']\n",
    "integrate = params['integrate']\n",
    "\n",
    "database_type = params['database']['database_type']\n",
    "dbapi = params['database']['dbapi']\n",
    "endpoint = params['database']['endpoint']\n",
    "port = params['database']['port']\n",
    "database = params['database']['database']\n",
    "database_table = params['database']['database_table']\n",
    "\n",
    "hdf5_file_length = params['hdf5_file_length']\n",
    "batch = params['dasly']['batch']\n",
    "batch_gap = params['dasly']['batch_gap']\n",
    "\n",
    "lowpass_filter_freq = params['lowpass_filter_freq']\n",
    "decimate_t_rate = params['decimate_t_rate']\n",
    "\n",
    "gaussian_smooth_s1 = params['gaussian_smooth']['s1']\n",
    "gaussian_smooth_s2 = params['gaussian_smooth']['s2']\n",
    "gaussian_smooth_std_s = params['gaussian_smooth']['std_s']\n",
    "\n",
    "binary_threshold = params['binary_threshold']\n",
    "\n",
    "hough_speed_res = params['hough_transform']['speed_res']\n",
    "hough_length_meters = params['hough_transform']['length_meters']\n",
    "\n",
    "dbscan_eps_seconds = params['dbscan_eps_seconds']"
   ]
  },
  {
   "cell_type": "code",
   "execution_count": 4,
   "metadata": {},
   "outputs": [
    {
     "name": "stderr",
     "output_type": "stream",
     "text": [
      "2 files, from 20231005 082354 to 20231005 082404\n",
      "Signal updated with low-pass filter.\n",
      "Signal updated with new temporal sampling rate 8.\n",
      "Signal updated with Gaussian smoothing.\n",
      "Signal updated with Sobel filter.\n",
      "Signal updated with binary transform with threshold 2e-08.\n",
      "0 lines are detected.\n",
      "Signal updated with low-pass filter.\n",
      "Signal updated with new temporal sampling rate 8.\n",
      "Signal updated with Gaussian smoothing.\n",
      "Signal updated with Sobel filter.\n",
      "Signal updated with binary transform with threshold 2e-08.\n",
      "0 lines are detected.\n"
     ]
    },
    {
     "name": "stdout",
     "output_type": "stream",
     "text": [
      "Execution time for duration 10 seconds: 2.11 seconds\n"
     ]
    },
    {
     "name": "stderr",
     "output_type": "stream",
     "text": [
      "3 files, from 20231005 082354 to 20231005 082414\n",
      "Signal updated with low-pass filter.\n",
      "Signal updated with new temporal sampling rate 8.\n",
      "Signal updated with Gaussian smoothing.\n",
      "Signal updated with Sobel filter.\n",
      "Signal updated with binary transform with threshold 2e-08.\n",
      "0 lines are detected.\n",
      "Signal updated with low-pass filter.\n",
      "Signal updated with new temporal sampling rate 8.\n",
      "Signal updated with Gaussian smoothing.\n",
      "Signal updated with Sobel filter.\n",
      "Signal updated with binary transform with threshold 2e-08.\n",
      "0 lines are detected.\n"
     ]
    },
    {
     "name": "stdout",
     "output_type": "stream",
     "text": [
      "Execution time for duration 20 seconds: 2.93 seconds\n"
     ]
    },
    {
     "name": "stderr",
     "output_type": "stream",
     "text": [
      "4 files, from 20231005 082354 to 20231005 082424\n",
      "Signal updated with low-pass filter.\n",
      "Signal updated with new temporal sampling rate 8.\n",
      "Signal updated with Gaussian smoothing.\n",
      "Signal updated with Sobel filter.\n",
      "Signal updated with binary transform with threshold 2e-08.\n",
      "2 lines are detected.\n",
      "Signal updated with low-pass filter.\n",
      "Signal updated with new temporal sampling rate 8.\n",
      "Signal updated with Gaussian smoothing.\n",
      "Signal updated with Sobel filter.\n",
      "Signal updated with binary transform with threshold 2e-08.\n",
      "2 lines are detected.\n"
     ]
    },
    {
     "name": "stdout",
     "output_type": "stream",
     "text": [
      "Execution time for duration 30 seconds: 3.46 seconds\n"
     ]
    },
    {
     "name": "stderr",
     "output_type": "stream",
     "text": [
      "5 files, from 20231005 082354 to 20231005 082434\n",
      "Signal updated with low-pass filter.\n",
      "Signal updated with new temporal sampling rate 8.\n",
      "Signal updated with Gaussian smoothing.\n",
      "Signal updated with Sobel filter.\n",
      "Signal updated with binary transform with threshold 2e-08.\n",
      "4 lines are detected.\n",
      "Signal updated with low-pass filter.\n",
      "Signal updated with new temporal sampling rate 8.\n",
      "Signal updated with Gaussian smoothing.\n",
      "Signal updated with Sobel filter.\n",
      "Signal updated with binary transform with threshold 2e-08.\n",
      "4 lines are detected.\n"
     ]
    },
    {
     "name": "stdout",
     "output_type": "stream",
     "text": [
      "Execution time for duration 40 seconds: 4.24 seconds\n"
     ]
    },
    {
     "name": "stderr",
     "output_type": "stream",
     "text": [
      "6 files, from 20231005 082354 to 20231005 082444\n",
      "Signal updated with low-pass filter.\n",
      "Signal updated with new temporal sampling rate 8.\n",
      "Signal updated with Gaussian smoothing.\n",
      "Signal updated with Sobel filter.\n",
      "Signal updated with binary transform with threshold 2e-08.\n",
      "4 lines are detected.\n",
      "Signal updated with low-pass filter.\n",
      "Signal updated with new temporal sampling rate 8.\n",
      "Signal updated with Gaussian smoothing.\n",
      "Signal updated with Sobel filter.\n",
      "Signal updated with binary transform with threshold 2e-08.\n",
      "4 lines are detected.\n"
     ]
    },
    {
     "name": "stdout",
     "output_type": "stream",
     "text": [
      "Execution time for duration 50 seconds: 4.79 seconds\n"
     ]
    },
    {
     "name": "stderr",
     "output_type": "stream",
     "text": [
      "7 files, from 20231005 082354 to 20231005 082454\n",
      "Signal updated with low-pass filter.\n",
      "Signal updated with new temporal sampling rate 8.\n",
      "Signal updated with Gaussian smoothing.\n",
      "Signal updated with Sobel filter.\n",
      "Signal updated with binary transform with threshold 2e-08.\n",
      "4 lines are detected.\n",
      "Signal updated with low-pass filter.\n",
      "Signal updated with new temporal sampling rate 8.\n",
      "Signal updated with Gaussian smoothing.\n",
      "Signal updated with Sobel filter.\n",
      "Signal updated with binary transform with threshold 2e-08.\n",
      "4 lines are detected.\n"
     ]
    },
    {
     "name": "stdout",
     "output_type": "stream",
     "text": [
      "Execution time for duration 60 seconds: 5.89 seconds\n"
     ]
    }
   ],
   "source": [
    "chIndex_all = np.arange(0, 800)\n",
    "chIndex_remove1 = np.arange(0, 36)\n",
    "chIndex_remove2 = np.arange(365, 387)\n",
    "chIndex_remove3 = np.arange(751, 800)\n",
    "chIndex_remove = np.concatenate((\n",
    "    chIndex_remove1, chIndex_remove2, chIndex_remove3))\n",
    "chIndex = np.setdiff1d(chIndex_all, chIndex_remove)\n",
    "\n",
    "\n",
    "durations = [10, 20, 30, 40, 50, 60]\n",
    "durations_run = []\n",
    "\n",
    "for duration in durations:\n",
    "    start_time = time.time()  # Record the start time\n",
    "\n",
    "\n",
    "    das = Dasly()\n",
    "    das.load_data(\n",
    "        folder_path='/media/kptruong/yellow02/Aastfjordbrua/Aastfjordbrua/',\n",
    "        start='20231005 082400',  # One car\n",
    "        # start='20231005 085100',  # Noise\n",
    "        duration=duration,\n",
    "        integrate=False,\n",
    "        chIndex=chIndex,\n",
    "        start_exact_second=False\n",
    "    )\n",
    "    # forward Gaussian smoothing\n",
    "    ###########################################################################\n",
    "    das.lowpass_filter(cutoff=lowpass_filter_freq)\n",
    "    das.decimate(t_rate=decimate_t_rate)\n",
    "    das.gaussian_smooth(\n",
    "        s1=80,\n",
    "        s2=90,\n",
    "        std_s=10)\n",
    "    das.sobel_filter()\n",
    "    das.binary_transform(threshold=2e-8)\n",
    "    das.hough_transform(target_speed=85, speed_res=0.5, length_meters=500)\n",
    "\n",
    "    das.reset()\n",
    "    das.lowpass_filter(cutoff=lowpass_filter_freq)\n",
    "    das.decimate(t_rate=decimate_t_rate)\n",
    "    das.gaussian_smooth(\n",
    "        s1=80,\n",
    "        s2=90,\n",
    "        std_s=10)\n",
    "    das.sobel_filter()\n",
    "    das.binary_transform(threshold=2e-8)\n",
    "    das.hough_transform(target_speed=85, speed_res=0.5, length_meters=500)\n",
    "\n",
    "    end_time = time.time()  # Record the end time\n",
    "    # Calculate and print the execution time\n",
    "    execution_time = end_time - start_time\n",
    "    durations_run.append(execution_time)\n",
    "    print(f\"Execution time for duration {duration} seconds: {execution_time:.2f} seconds\")"
   ]
  },
  {
   "cell_type": "code",
   "execution_count": 5,
   "metadata": {},
   "outputs": [
    {
     "data": {
      "text/plain": [
       "[<matplotlib.lines.Line2D at 0x7fc007621b80>]"
      ]
     },
     "execution_count": 5,
     "metadata": {},
     "output_type": "execute_result"
    },
    {
     "data": {
      "image/png": "[encoded data removed]",
      "text/plain": [
       "<Figure size 640x480 with 1 Axes>"
      ]
     },
     "metadata": {},
     "output_type": "display_data"
    }
   ],
   "source": [
    "sns.set_theme()\n",
    "plt.plot(durations, durations_run, marker='o', linestyle='-', color='b')\n",
    "# plt.xlabel('Batch duration (seconds)')\n",
    "# plt.ylabel('Execution time (seconds)')\n",
    "# plt.title('Execution Time vs Batch Duration')"
   ]
  },
  {
   "cell_type": "code",
   "execution_count": null,
   "metadata": {},
   "outputs": [],
   "source": []
  }
 ],
 "metadata": {
  "kernelspec": {
   "display_name": "kptruong",
   "language": "python",
   "name": "python3"
  },
  "language_info": {
   "codemirror_mode": {
    "name": "ipython",
    "version": 3
   },
   "file_extension": ".py",
   "mimetype": "text/x-python",
   "name": "python",
   "nbconvert_exporter": "python",
   "pygments_lexer": "ipython3",
   "version": "3.9.18"
  }
 },
 "nbformat": 4,
 "nbformat_minor": 2
}
