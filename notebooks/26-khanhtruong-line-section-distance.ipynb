{
 "cells": [
  {
   "cell_type": "code",
   "execution_count": 1,
   "metadata": {},
   "outputs": [],
   "source": [
    "import pandas as pd\n",
    "import numpy as np\n",
    "from datetime import datetime\n",
    "from dasly.utils import *"
   ]
  },
  {
   "cell_type": "code",
   "execution_count": 2,
   "metadata": {},
   "outputs": [
    {
     "name": "stdout",
     "output_type": "stream",
     "text": [
      "All test cases passed!\n"
     ]
    }
   ],
   "source": [
    "import numpy as np\n",
    "\n",
    "def test_intersect_space():\n",
    "    # Case 1: Both line1 and line2 are 1D arrays (shape (4,))\n",
    "    line1_1d = np.array([0, 0, 10, 10])\n",
    "    line2_1d = np.array([5, 5, 15, 15])\n",
    "    result_1d = intersect_space(line1_1d, line2_1d)\n",
    "    expected_1d = np.array([5, 10])\n",
    "    assert np.array_equal(result_1d, expected_1d), f\"1D Case Failed: {result_1d}\"\n",
    "\n",
    "    # Case 2: line1 is 2D with shape (N=2, 4), line2 is 1D with shape (4,)\n",
    "    line1_2d = np.array([[0, 0, 10, 10], [5, 5, 15, 15]])\n",
    "    line2_1d = np.array([5, 5, 12, 12])\n",
    "    result_2d_1d = intersect_space(line1_2d, line2_1d)\n",
    "    expected_2d_1d = np.array([[5, 10], [5, 12]])[:, np.newaxis, :]\n",
    "    assert np.array_equal(result_2d_1d, expected_2d_1d), f\"2D-1D Case Failed: {result_2d_1d}\"\n",
    "\n",
    "    # Case 3: line1 is 1D with shape (4,), line2 is 2D with shape (M=2, 4)\n",
    "    line1_1d = np.array([5, 5, 12, 12])\n",
    "    line2_2d = np.array([[0, 0, 10, 10], [6, 6, 14, 14]])\n",
    "    result_1d_2d = intersect_space(line1_1d, line2_2d)\n",
    "    expected_1d_2d = np.array([[5, 10], [6, 12]])[np.newaxis, :, :]\n",
    "    assert np.array_equal(result_1d_2d, expected_1d_2d), f\"1D-2D Case Failed: {result_1d_2d}\"\n",
    "\n",
    "    # Case 4: Both line1 and line2 are 2D arrays (shape (N=2, 4) and (M=2, 4))\n",
    "    line1_2d = np.array([[0, 0, 10, 10], [5, 5, 15, 15]])\n",
    "    line2_2d = np.array([[5, 5, 12, 12], [6, 6, 14, 14]])\n",
    "    result_2d_2d = intersect_space(line1_2d, line2_2d)\n",
    "    expected_2d_2d = np.array([[[5, 10], [6, 10]], \n",
    "                               [[5, 12], [6, 14]]])\n",
    "    assert np.array_equal(result_2d_2d, expected_2d_2d), f\"2D-2D Case Failed: {result_2d_2d}\"\n",
    "\n",
    "    print(\"All test cases passed!\")\n",
    "\n",
    "# Run the test function\n",
    "test_intersect_space()"
   ]
  },
  {
   "cell_type": "code",
   "execution_count": 3,
   "metadata": {},
   "outputs": [],
   "source": [
    "# Test example\n",
    "lines1 = np.array([\n",
    "    # [1, pd.Timestamp('2023-12-31 22:43:00'), 11, pd.Timestamp('2023-12-31 22:45:00')],\n",
    "    [13, pd.Timestamp('2023-12-31 22:40:00'), 16, pd.Timestamp('2023-12-31 22:42:00')],\n",
    "    [3, pd.Timestamp('2023-12-31 22:44:00'), 3, pd.Timestamp('2023-12-31 22:45:00')],\n",
    "    [1, pd.Timestamp('2023-12-31 22:44:00'), 3, pd.Timestamp('2023-12-31 22:45:00')]\n",
    "], dtype=object)\n",
    "\n",
    "lines2 = np.array([\n",
    "    [1, pd.Timestamp('2023-12-31 22:40:00'), 20, pd.Timestamp('2023-12-31 22:45:00')],\n",
    "    [3, pd.Timestamp('2023-12-31 22:45:00'), 6, pd.Timestamp('2023-12-31 22:42:00')],\n",
    "    [10, pd.Timestamp('2023-12-31 22:44:00'), 30, pd.Timestamp('2023-12-31 22:41:00')],\n",
    "    [4, pd.Timestamp('2023-12-31 22:41:00'), 13, pd.Timestamp('2023-12-31 22:45:00')]\n",
    "], dtype=object)\n",
    "\n",
    "\n",
    "\n",
    "# lines = np.array([\n",
    "#     [3, datetime(2023, 12, 31, 22, 45, 0), 1, datetime(2023, 12, 31, 22, 44, 0)],\n",
    "#     [1, datetime(2023, 12, 31, 22, 44, 0), 3, datetime(2023, 12, 31, 22, 45, 0)],\n",
    "#     [3, datetime(2023, 12, 31, 22, 44, 0), 1, datetime(2023, 12, 31, 22, 44, 0)],\n",
    "#     [1, datetime(2023, 12, 31, 22, 44, 0), 3, datetime(2023, 12, 31, 22, 44, 0)]\n",
    "# ], dtype=object)"
   ]
  },
  {
   "cell_type": "code",
   "execution_count": 4,
   "metadata": {},
   "outputs": [],
   "source": [
    "# Ensure lines1 and lines2 are at least 2D (shape (N, 4) and (M, 4))\n",
    "lines1 = np.atleast_2d(lines1)\n",
    "lines2 = np.atleast_2d(lines2)\n",
    "\n",
    "# Calculate the space intersection limits for each pair of lines\n",
    "space_intersection = intersect_space(lines1, lines2)\n",
    "\n",
    "# if len(space_intersection) == 0:\n",
    "#     return np.full((lines1.shape[0], lines2.shape[0]), np.inf)\n",
    "\n",
    "# Calculate the slope for each line segment\n",
    "slope1 = calculate_slope(lines1)[:, np.newaxis]  # Shape (N, 1)\n",
    "# slope2 = calculate_slope(lines2)[np.newaxis, :]  # Shape (1, M)\n",
    "\n",
    "# # Extract the start points and times\n",
    "# s11, t11 = lines1[:, 0][:, np.newaxis], lines1[:, 1][:, np.newaxis]\n",
    "# s21, t21 = lines2[:, 0][np.newaxis, :], lines2[:, 1][np.newaxis, :]"
   ]
  },
  {
   "cell_type": "code",
   "execution_count": 5,
   "metadata": {},
   "outputs": [],
   "source": [
    "speed = np.array([0, 1, 2, 3, 4])\n",
    "\n",
    "with np.errstate(divide='ignore', invalid='ignore'):\n",
    "    slope = np.where(speed == 0, np.inf, 1 / speed)"
   ]
  },
  {
   "cell_type": "code",
   "execution_count": 7,
   "metadata": {},
   "outputs": [
    {
     "data": {
      "text/plain": [
       "array([40., inf, 30.])"
      ]
     },
     "execution_count": 7,
     "metadata": {},
     "output_type": "execute_result"
    }
   ],
   "source": [
    "calculate_slope(lines1)"
   ]
  },
  {
   "cell_type": "code",
   "execution_count": 11,
   "metadata": {},
   "outputs": [
    {
     "data": {
      "text/plain": [
       "array([0.025     , 0.        , 0.03333333])"
      ]
     },
     "execution_count": 11,
     "metadata": {},
     "output_type": "execute_result"
    }
   ],
   "source": [
    "calculate_speed(lines1).astype(float)"
   ]
  },
  {
   "cell_type": "code",
   "execution_count": null,
   "metadata": {},
   "outputs": [],
   "source": []
  },
  {
   "cell_type": "code",
   "execution_count": 19,
   "metadata": {},
   "outputs": [
    {
     "data": {
      "text/plain": [
       "array([[[13, 16],\n",
       "        [13, 6],\n",
       "        [13, 16],\n",
       "        [13, 13]],\n",
       "\n",
       "       [[3, 3],\n",
       "        [3, 3],\n",
       "        [10, 3],\n",
       "        [4, 3]],\n",
       "\n",
       "       [[1, 3],\n",
       "        [3, 3],\n",
       "        [10, 3],\n",
       "        [4, 3]]], dtype=object)"
      ]
     },
     "execution_count": 19,
     "metadata": {},
     "output_type": "execute_result"
    }
   ],
   "source": [
    "space_intersection"
   ]
  },
  {
   "cell_type": "code",
   "execution_count": null,
   "metadata": {},
   "outputs": [],
   "source": []
  },
  {
   "cell_type": "code",
   "execution_count": null,
   "metadata": {},
   "outputs": [],
   "source": []
  },
  {
   "cell_type": "code",
   "execution_count": 45,
   "metadata": {},
   "outputs": [],
   "source": [
    "lines1 = lines[0]\n",
    "lines2 = lines[1]"
   ]
  },
  {
   "cell_type": "code",
   "execution_count": 48,
   "metadata": {},
   "outputs": [
    {
     "data": {
      "text/plain": [
       "array([13, 11], dtype=object)"
      ]
     },
     "execution_count": 48,
     "metadata": {},
     "output_type": "execute_result"
    }
   ],
   "source": [
    "space_intersection = intersect_space(lines1, lines2)\n",
    "space_intersection"
   ]
  },
  {
   "cell_type": "code",
   "execution_count": 52,
   "metadata": {},
   "outputs": [
    {
     "data": {
      "text/plain": [
       "array([[1, 2, 3, 4]])"
      ]
     },
     "execution_count": 52,
     "metadata": {},
     "output_type": "execute_result"
    }
   ],
   "source": [
    " np.atleast_2d(np.array([1,2,3,4]))"
   ]
  },
  {
   "cell_type": "code",
   "execution_count": null,
   "metadata": {},
   "outputs": [],
   "source": []
  },
  {
   "cell_type": "code",
   "execution_count": 46,
   "metadata": {},
   "outputs": [
    {
     "data": {
      "text/plain": [
       "352.0"
      ]
     },
     "execution_count": 46,
     "metadata": {},
     "output_type": "execute_result"
    }
   ],
   "source": [
    "calculate_distance(lines1, lines2)"
   ]
  },
  {
   "cell_type": "code",
   "execution_count": null,
   "metadata": {},
   "outputs": [],
   "source": []
  },
  {
   "cell_type": "code",
   "execution_count": 2,
   "metadata": {},
   "outputs": [
    {
     "ename": "TypeError",
     "evalue": "arg must be a string, timedelta, list, tuple, 1-d array, or Series",
     "output_type": "error",
     "traceback": [
      "\u001b[0;31m---------------------------------------------------------------------------\u001b[0m",
      "\u001b[0;31mTypeError\u001b[0m                                 Traceback (most recent call last)",
      "Cell \u001b[0;32mIn[2], line 9\u001b[0m\n\u001b[1;32m      6\u001b[0m line1_1d \u001b[38;5;241m=\u001b[39m np\u001b[38;5;241m.\u001b[39marray([\u001b[38;5;241m0\u001b[39m, pd\u001b[38;5;241m.\u001b[39mTimestamp(\u001b[38;5;124m'\u001b[39m\u001b[38;5;124m2023-01-01 00:00:00\u001b[39m\u001b[38;5;124m'\u001b[39m), \u001b[38;5;241m10\u001b[39m, pd\u001b[38;5;241m.\u001b[39mTimestamp(\u001b[38;5;124m'\u001b[39m\u001b[38;5;124m2023-01-01 00:00:10\u001b[39m\u001b[38;5;124m'\u001b[39m)])\n\u001b[1;32m      7\u001b[0m line2_1d \u001b[38;5;241m=\u001b[39m np\u001b[38;5;241m.\u001b[39marray([\u001b[38;5;241m5\u001b[39m, pd\u001b[38;5;241m.\u001b[39mTimestamp(\u001b[38;5;124m'\u001b[39m\u001b[38;5;124m2023-01-01 00:00:05\u001b[39m\u001b[38;5;124m'\u001b[39m), \u001b[38;5;241m15\u001b[39m, pd\u001b[38;5;241m.\u001b[39mTimestamp(\u001b[38;5;124m'\u001b[39m\u001b[38;5;124m2023-01-01 00:00:15\u001b[39m\u001b[38;5;124m'\u001b[39m)])\n\u001b[0;32m----> 9\u001b[0m result_1d \u001b[38;5;241m=\u001b[39m \u001b[43mcalculate_distance\u001b[49m\u001b[43m(\u001b[49m\u001b[43mline1_1d\u001b[49m\u001b[43m,\u001b[49m\u001b[43m \u001b[49m\u001b[43mline2_1d\u001b[49m\u001b[43m)\u001b[49m\n\u001b[1;32m     10\u001b[0m \u001b[38;5;28mprint\u001b[39m(\u001b[38;5;124mf\u001b[39m\u001b[38;5;124m\"\u001b[39m\u001b[38;5;124mTest Case 1: \u001b[39m\u001b[38;5;132;01m{\u001b[39;00mresult_1d\u001b[38;5;132;01m}\u001b[39;00m\u001b[38;5;124m\"\u001b[39m)\n\u001b[1;32m     11\u001b[0m \u001b[38;5;66;03m# Expected Output: 0.0 (both lines have the same speed and intersect perfectly)\u001b[39;00m\n",
      "File \u001b[0;32m/mnt/Datastore/usr/kptruong/dasly_repo/dasly/utils.py:520\u001b[0m, in \u001b[0;36mcalculate_distance\u001b[0;34m(lines1, lines2)\u001b[0m\n\u001b[1;32m    517\u001b[0m \u001b[38;5;66;03m# Calculate interpolated times at the intersection points\u001b[39;00m\n\u001b[1;32m    518\u001b[0m \u001b[38;5;28;01mif\u001b[39;00m \u001b[38;5;28misinstance\u001b[39m(t11\u001b[38;5;241m.\u001b[39mflat[\u001b[38;5;241m0\u001b[39m], (pd\u001b[38;5;241m.\u001b[39mTimestamp, datetime)):\n\u001b[1;32m    519\u001b[0m     \u001b[38;5;66;03m# Convert the time difference to timedelta\u001b[39;00m\n\u001b[0;32m--> 520\u001b[0m     t1_interp \u001b[38;5;241m=\u001b[39m t11 \u001b[38;5;241m+\u001b[39m \u001b[43mpd\u001b[49m\u001b[38;5;241;43m.\u001b[39;49m\u001b[43mto_timedelta\u001b[49m\u001b[43m(\u001b[49m\u001b[43m(\u001b[49m\u001b[43mspace_intersection\u001b[49m\u001b[43m[\u001b[49m\u001b[38;5;241;43m.\u001b[39;49m\u001b[38;5;241;43m.\u001b[39;49m\u001b[38;5;241;43m.\u001b[39;49m\u001b[43m,\u001b[49m\u001b[43m \u001b[49m\u001b[38;5;241;43m0\u001b[39;49m\u001b[43m]\u001b[49m\u001b[43m \u001b[49m\u001b[38;5;241;43m-\u001b[39;49m\u001b[43m \u001b[49m\u001b[43ms11\u001b[49m\u001b[43m)\u001b[49m\u001b[43m \u001b[49m\u001b[38;5;241;43m*\u001b[39;49m\u001b[43m \u001b[49m\u001b[43mslope1\u001b[49m\u001b[43m,\u001b[49m\u001b[43m \u001b[49m\u001b[43munit\u001b[49m\u001b[38;5;241;43m=\u001b[39;49m\u001b[38;5;124;43m'\u001b[39;49m\u001b[38;5;124;43ms\u001b[39;49m\u001b[38;5;124;43m'\u001b[39;49m\u001b[43m)\u001b[49m\n\u001b[1;32m    521\u001b[0m     t2_interp \u001b[38;5;241m=\u001b[39m t21 \u001b[38;5;241m+\u001b[39m pd\u001b[38;5;241m.\u001b[39mto_timedelta((space_intersection[\u001b[38;5;241m.\u001b[39m\u001b[38;5;241m.\u001b[39m\u001b[38;5;241m.\u001b[39m, \u001b[38;5;241m0\u001b[39m] \u001b[38;5;241m-\u001b[39m s21) \u001b[38;5;241m*\u001b[39m slope2, unit\u001b[38;5;241m=\u001b[39m\u001b[38;5;124m'\u001b[39m\u001b[38;5;124ms\u001b[39m\u001b[38;5;124m'\u001b[39m)\n\u001b[1;32m    522\u001b[0m \u001b[38;5;28;01melse\u001b[39;00m:\n",
      "File \u001b[0;32m~/.conda/envs/kptruong/lib/python3.9/site-packages/pandas/core/tools/timedeltas.py:215\u001b[0m, in \u001b[0;36mto_timedelta\u001b[0;34m(arg, unit, errors)\u001b[0m\n\u001b[1;32m    213\u001b[0m     \u001b[38;5;28;01mreturn\u001b[39;00m _convert_listlike(arg, unit\u001b[38;5;241m=\u001b[39munit, errors\u001b[38;5;241m=\u001b[39merrors)\n\u001b[1;32m    214\u001b[0m \u001b[38;5;28;01melif\u001b[39;00m \u001b[38;5;28mgetattr\u001b[39m(arg, \u001b[38;5;124m\"\u001b[39m\u001b[38;5;124mndim\u001b[39m\u001b[38;5;124m\"\u001b[39m, \u001b[38;5;241m1\u001b[39m) \u001b[38;5;241m>\u001b[39m \u001b[38;5;241m1\u001b[39m:\n\u001b[0;32m--> 215\u001b[0m     \u001b[38;5;28;01mraise\u001b[39;00m \u001b[38;5;167;01mTypeError\u001b[39;00m(\n\u001b[1;32m    216\u001b[0m         \u001b[38;5;124m\"\u001b[39m\u001b[38;5;124marg must be a string, timedelta, list, tuple, 1-d array, or Series\u001b[39m\u001b[38;5;124m\"\u001b[39m\n\u001b[1;32m    217\u001b[0m     )\n\u001b[1;32m    219\u001b[0m \u001b[38;5;28;01mif\u001b[39;00m \u001b[38;5;28misinstance\u001b[39m(arg, \u001b[38;5;28mstr\u001b[39m) \u001b[38;5;129;01mand\u001b[39;00m unit \u001b[38;5;129;01mis\u001b[39;00m \u001b[38;5;129;01mnot\u001b[39;00m \u001b[38;5;28;01mNone\u001b[39;00m:\n\u001b[1;32m    220\u001b[0m     \u001b[38;5;28;01mraise\u001b[39;00m \u001b[38;5;167;01mValueError\u001b[39;00m(\u001b[38;5;124m\"\u001b[39m\u001b[38;5;124munit must not be specified if the input is/contains a str\u001b[39m\u001b[38;5;124m\"\u001b[39m)\n",
      "\u001b[0;31mTypeError\u001b[0m: arg must be a string, timedelta, list, tuple, 1-d array, or Series"
     ]
    }
   ],
   "source": [
    "import numpy as np\n",
    "import pandas as pd\n",
    "from datetime import datetime\n",
    "\n",
    "# Single line segment for both lines1 and lines2\n",
    "line1_1d = np.array([0, pd.Timestamp('2023-01-01 00:00:00'), 10, pd.Timestamp('2023-01-01 00:00:10')])\n",
    "line2_1d = np.array([5, pd.Timestamp('2023-01-01 00:00:05'), 15, pd.Timestamp('2023-01-01 00:00:15')])\n",
    "\n",
    "result_1d = calculate_distance(line1_1d, line2_1d)\n",
    "print(f\"Test Case 1: {result_1d}\")\n",
    "# Expected Output: 0.0 (both lines have the same speed and intersect perfectly)"
   ]
  },
  {
   "cell_type": "code",
   "execution_count": null,
   "metadata": {},
   "outputs": [],
   "source": []
  }
 ],
 "metadata": {
  "kernelspec": {
   "display_name": "kptruong",
   "language": "python",
   "name": "python3"
  },
  "language_info": {
   "codemirror_mode": {
    "name": "ipython",
    "version": 3
   },
   "file_extension": ".py",
   "mimetype": "text/x-python",
   "name": "python",
   "nbconvert_exporter": "python",
   "pygments_lexer": "ipython3",
   "version": "3.9.18"
  }
 },
 "nbformat": 4,
 "nbformat_minor": 2
}
