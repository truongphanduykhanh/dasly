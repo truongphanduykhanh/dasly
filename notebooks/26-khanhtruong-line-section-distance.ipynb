{
 "cells": [
  {
   "cell_type": "code",
   "execution_count": 1,
   "metadata": {},
   "outputs": [],
   "source": [
    "import pandas as pd\n",
    "import numpy as np\n",
    "from datetime import datetime\n",
    "from dasly.utils import *"
   ]
  },
  {
   "cell_type": "code",
   "execution_count": 4,
   "metadata": {},
   "outputs": [],
   "source": [
    "# Test example\n",
    "lines1 = np.array([\n",
    "    [1, pd.Timestamp('2023-12-31 22:44:59'), 11, pd.Timestamp('2023-12-31 22:45:00')],\n",
    "    [13, pd.Timestamp('2023-12-31 22:40:00'), 16, pd.Timestamp('2023-12-31 22:42:00')],\n",
    "    [3, pd.Timestamp('2023-12-31 22:44:00'), 3, pd.Timestamp('2023-12-31 22:45:00')],\n",
    "    [1, pd.Timestamp('2023-12-31 22:44:00'), 3, pd.Timestamp('2023-12-31 22:45:00')]\n",
    "])\n",
    "\n",
    "lines2 = np.array([\n",
    "    [1, pd.Timestamp('2023-12-31 22:40:00'), 20, pd.Timestamp('2023-12-31 22:45:00')],\n",
    "    [3, pd.Timestamp('2023-12-31 22:45:00'), 6, pd.Timestamp('2023-12-31 22:42:00')],\n",
    "    [10, pd.Timestamp('2023-12-31 22:44:00'), 30, pd.Timestamp('2023-12-31 22:41:00')],\n",
    "    [4, pd.Timestamp('2023-12-31 22:41:00'), 13, pd.Timestamp('2023-12-31 22:45:00')]\n",
    "])\n",
    "\n",
    "lines3 = np.array([\n",
    "    [3, datetime(2023, 12, 31, 22, 45, 0), 1, datetime(2023, 12, 31, 22, 44, 0)],\n",
    "    [1, datetime(2023, 12, 31, 22, 44, 0), 3, datetime(2023, 12, 31, 22, 45, 0)],\n",
    "    [3, datetime(2023, 12, 31, 22, 44, 0), 1, datetime(2023, 12, 31, 22, 44, 0)],\n",
    "    [1, datetime(2023, 12, 31, 22, 44, 0), 3, datetime(2023, 12, 31, 22, 44, 0)]\n",
    "])\n",
    "\n",
    "lines4 = np.array([\n",
    "    [6, 2, 6, 4],\n",
    "    [5, 6, 9, 8],\n",
    "    [6, 10, 20, 10],\n",
    "    [7, 10, 7, 10]\n",
    "])\n",
    "\n",
    "lines5 = np.floor(np.array([\n",
    "    # [1.3, 2.5, 5.3, 2.1],\n",
    "    [3.3, 6.1, 3.4, 8.7],\n",
    "    [9.4, 10.4, 11.6, 12.5],\n",
    "    [13.3, 14.3, 15.3, 16.5]\n",
    "])).astype(float)\n",
    "\n",
    "\n",
    "# lines5 = np.array([\n",
    "#     [6, 2, 6, 4],\n",
    "#     [5, 6, 9, 8],\n",
    "#     [6, 10, 20, 10],\n",
    "#     [7, 10, 7, 10]\n",
    "# ]).astype(float)"
   ]
  },
  {
   "cell_type": "code",
   "execution_count": 7,
   "metadata": {},
   "outputs": [
    {
     "data": {
      "text/plain": [
       "10.0"
      ]
     },
     "execution_count": 7,
     "metadata": {},
     "output_type": "execute_result"
    }
   ],
   "source": [
    "calculate_speed(lines1[0])"
   ]
  },
  {
   "cell_type": "code",
   "execution_count": 7,
   "metadata": {},
   "outputs": [
    {
     "data": {
      "text/plain": [
       "inf"
      ]
     },
     "execution_count": 7,
     "metadata": {},
     "output_type": "execute_result"
    }
   ],
   "source": [
    "calculate_line_gap(lines1[1], lines3[2])"
   ]
  },
  {
   "cell_type": "code",
   "execution_count": 5,
   "metadata": {},
   "outputs": [
    {
     "name": "stdout",
     "output_type": "stream",
     "text": [
      "0 0\n",
      "78.0\n"
     ]
    },
    {
     "ename": "TypeError",
     "evalue": "float() argument must be a string or a number, not 'Timestamp'",
     "output_type": "error",
     "traceback": [
      "\u001b[0;31m---------------------------------------------------------------------------\u001b[0m",
      "\u001b[0;31mTypeError\u001b[0m                                 Traceback (most recent call last)",
      "Cell \u001b[0;32mIn[5], line 5\u001b[0m\n\u001b[1;32m      3\u001b[0m \u001b[38;5;28mprint\u001b[39m(num_i, num_j)\n\u001b[1;32m      4\u001b[0m \u001b[38;5;28mprint\u001b[39m(result[num_i, num_j])\n\u001b[0;32m----> 5\u001b[0m validate \u001b[38;5;241m=\u001b[39m \u001b[43mgap_line\u001b[49m\u001b[43m(\u001b[49m\u001b[43mi\u001b[49m\u001b[43m,\u001b[49m\u001b[43m \u001b[49m\u001b[43mj\u001b[49m\u001b[43m)\u001b[49m\n\u001b[1;32m      6\u001b[0m \u001b[38;5;28mprint\u001b[39m(validate)\n\u001b[1;32m      7\u001b[0m \u001b[38;5;28mprint\u001b[39m()\n",
      "File \u001b[0;32m/mnt/Datastore/usr/kptruong/dasly_repo/dasly/utils.py:569\u001b[0m, in \u001b[0;36mgap_line\u001b[0;34m(line1, line2)\u001b[0m\n\u001b[1;32m    566\u001b[0m overlap_x \u001b[38;5;241m=\u001b[39m np\u001b[38;5;241m.\u001b[39marange(\u001b[38;5;28mint\u001b[39m(min_overlap_x), \u001b[38;5;28mint\u001b[39m(max_overlap_x) \u001b[38;5;241m+\u001b[39m \u001b[38;5;241m1\u001b[39m, dtype\u001b[38;5;241m=\u001b[39mnp\u001b[38;5;241m.\u001b[39mfloat64)\n\u001b[1;32m    568\u001b[0m \u001b[38;5;66;03m# Interpolate the y values for both lines at the overlapping x indices\u001b[39;00m\n\u001b[0;32m--> 569\u001b[0m y1_at_x \u001b[38;5;241m=\u001b[39m \u001b[43minterpolate_vectorized\u001b[49m\u001b[43m(\u001b[49m\u001b[43mx1_1\u001b[49m\u001b[43m,\u001b[49m\u001b[43m \u001b[49m\u001b[43my1_1\u001b[49m\u001b[43m,\u001b[49m\u001b[43m \u001b[49m\u001b[43mx2_1\u001b[49m\u001b[43m,\u001b[49m\u001b[43m \u001b[49m\u001b[43my2_1\u001b[49m\u001b[43m,\u001b[49m\u001b[43m \u001b[49m\u001b[43moverlap_x\u001b[49m\u001b[43m)\u001b[49m\n\u001b[1;32m    570\u001b[0m y2_at_x \u001b[38;5;241m=\u001b[39m interpolate_vectorized(x1_2, y1_2, x2_2, y2_2, overlap_x)\n\u001b[1;32m    572\u001b[0m \u001b[38;5;66;03m# Calculate the time gaps and return the average\u001b[39;00m\n",
      "File \u001b[0;32m/mnt/Datastore/usr/kptruong/dasly_repo/dasly/utils.py:537\u001b[0m, in \u001b[0;36minterpolate_vectorized\u001b[0;34m(x1, y1, x2, y2, x)\u001b[0m\n\u001b[1;32m    535\u001b[0m x1 \u001b[38;5;241m=\u001b[39m np\u001b[38;5;241m.\u001b[39masarray(x1, dtype\u001b[38;5;241m=\u001b[39mnp\u001b[38;5;241m.\u001b[39mfloat64)\n\u001b[1;32m    536\u001b[0m x2 \u001b[38;5;241m=\u001b[39m np\u001b[38;5;241m.\u001b[39masarray(x2, dtype\u001b[38;5;241m=\u001b[39mnp\u001b[38;5;241m.\u001b[39mfloat64)\n\u001b[0;32m--> 537\u001b[0m y1 \u001b[38;5;241m=\u001b[39m \u001b[43mnp\u001b[49m\u001b[38;5;241;43m.\u001b[39;49m\u001b[43masarray\u001b[49m\u001b[43m(\u001b[49m\u001b[43my1\u001b[49m\u001b[43m,\u001b[49m\u001b[43m \u001b[49m\u001b[43mdtype\u001b[49m\u001b[38;5;241;43m=\u001b[39;49m\u001b[43mnp\u001b[49m\u001b[38;5;241;43m.\u001b[39;49m\u001b[43mfloat64\u001b[49m\u001b[43m)\u001b[49m\n\u001b[1;32m    538\u001b[0m y2 \u001b[38;5;241m=\u001b[39m np\u001b[38;5;241m.\u001b[39masarray(y2, dtype\u001b[38;5;241m=\u001b[39mnp\u001b[38;5;241m.\u001b[39mfloat64)\n\u001b[1;32m    539\u001b[0m x \u001b[38;5;241m=\u001b[39m np\u001b[38;5;241m.\u001b[39masarray(x, dtype\u001b[38;5;241m=\u001b[39mnp\u001b[38;5;241m.\u001b[39mfloat64)\n",
      "\u001b[0;31mTypeError\u001b[0m: float() argument must be a string or a number, not 'Timestamp'"
     ]
    }
   ],
   "source": [
    "for num_i, i in enumerate(lines1):\n",
    "    for num_j, j in enumerate(lines3):\n",
    "        print(num_i, num_j)\n",
    "        print(result[num_i, num_j])\n",
    "        validate = gap_line(i, j)\n",
    "        print(validate)\n",
    "        print()"
   ]
  },
  {
   "cell_type": "code",
   "execution_count": null,
   "metadata": {},
   "outputs": [],
   "source": []
  },
  {
   "cell_type": "code",
   "execution_count": null,
   "metadata": {},
   "outputs": [],
   "source": []
  },
  {
   "cell_type": "code",
   "execution_count": null,
   "metadata": {},
   "outputs": [],
   "source": []
  },
  {
   "cell_type": "code",
   "execution_count": 13,
   "metadata": {},
   "outputs": [
    {
     "name": "stdout",
     "output_type": "stream",
     "text": [
      "0\n",
      "1\n",
      "2\n",
      "3\n"
     ]
    }
   ],
   "source": [
    "for num_i, i in enumerate(lines4):\n",
    "    print(num_i)"
   ]
  },
  {
   "cell_type": "code",
   "execution_count": null,
   "metadata": {},
   "outputs": [],
   "source": []
  }
 ],
 "metadata": {
  "kernelspec": {
   "display_name": "kptruong",
   "language": "python",
   "name": "python3"
  },
  "language_info": {
   "codemirror_mode": {
    "name": "ipython",
    "version": 3
   },
   "file_extension": ".py",
   "mimetype": "text/x-python",
   "name": "python",
   "nbconvert_exporter": "python",
   "pygments_lexer": "ipython3",
   "version": "3.9.18"
  }
 },
 "nbformat": 4,
 "nbformat_minor": 2
}
