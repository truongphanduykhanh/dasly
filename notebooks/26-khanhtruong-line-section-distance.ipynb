{
 "cells": [
  {
   "cell_type": "code",
   "execution_count": 1,
   "metadata": {},
   "outputs": [],
   "source": [
    "import pandas as pd\n",
    "import numpy as np\n",
    "from datetime import datetime\n",
    "from dasly.utils import *"
   ]
  },
  {
   "cell_type": "code",
   "execution_count": 3,
   "metadata": {},
   "outputs": [],
   "source": [
    "# Test example\n",
    "lines1 = np.array([\n",
    "    [1, pd.Timestamp('2023-12-31 22:44:59'), 11, pd.Timestamp('2023-12-31 22:45:00')],\n",
    "    [13, pd.Timestamp('2023-12-31 22:40:00'), 16, pd.Timestamp('2023-12-31 22:42:00')],\n",
    "    [3, pd.Timestamp('2023-12-31 22:44:00'), 3, pd.Timestamp('2023-12-31 22:45:00')],\n",
    "    [1, pd.Timestamp('2023-12-31 22:44:00'), 3, pd.Timestamp('2023-12-31 22:45:00')]\n",
    "])\n",
    "\n",
    "lines2 = np.array([\n",
    "    [1, pd.Timestamp('2023-12-31 22:40:00'), 20, pd.Timestamp('2023-12-31 22:45:00')],\n",
    "    [3, pd.Timestamp('2023-12-31 22:45:00'), 6, pd.Timestamp('2023-12-31 22:42:00')],\n",
    "    [10, pd.Timestamp('2023-12-31 22:44:00'), 30, pd.Timestamp('2023-12-31 22:41:00')],\n",
    "    [4, pd.Timestamp('2023-12-31 22:41:00'), 13, pd.Timestamp('2023-12-31 22:45:00')]\n",
    "])\n",
    "\n",
    "lines3 = np.array([\n",
    "    [3, datetime(2023, 12, 31, 22, 45, 0), 1, datetime(2023, 12, 31, 22, 44, 0)],\n",
    "    [1, datetime(2023, 12, 31, 22, 44, 0), 3, datetime(2023, 12, 31, 22, 45, 0)],\n",
    "    [3, datetime(2023, 12, 31, 22, 44, 0), 1, datetime(2023, 12, 31, 22, 44, 0)],\n",
    "    [1, datetime(2023, 12, 31, 22, 44, 0), 3, datetime(2023, 12, 31, 22, 44, 0)]\n",
    "])\n",
    "\n",
    "lines4 = np.array([\n",
    "    [6, 2, 6, 4],\n",
    "    [5, 6, 9, 8],\n",
    "    [6, 10, 20, 10],\n",
    "    [7, 10, 7, 10]\n",
    "])\n",
    "\n",
    "lines5 = np.floor(np.array([\n",
    "    # [1.3, 2.5, 5.3, 2.1],\n",
    "    [3.3, 6.1, 3.4, 8.7],\n",
    "    [9.4, 10.4, 11.6, 12.5],\n",
    "    [13.3, 14.3, 15.3, 16.5]\n",
    "])).astype(float)\n",
    "\n",
    "\n",
    "# lines5 = np.array([\n",
    "#     [6, 2, 6, 4],\n",
    "#     [5, 6, 9, 8],\n",
    "#     [6, 10, 20, 10],\n",
    "#     [7, 10, 7, 10]\n",
    "# ]).astype(float)"
   ]
  },
  {
   "cell_type": "code",
   "execution_count": 8,
   "metadata": {},
   "outputs": [
    {
     "ename": "IndexError",
     "evalue": "tuple index out of range",
     "output_type": "error",
     "traceback": [
      "\u001b[0;31m---------------------------------------------------------------------------\u001b[0m",
      "\u001b[0;31mIndexError\u001b[0m                                Traceback (most recent call last)",
      "Cell \u001b[0;32mIn[8], line 1\u001b[0m\n\u001b[0;32m----> 1\u001b[0m \u001b[43mcalculate_line_gap\u001b[49m\u001b[43m(\u001b[49m\u001b[43mlines1\u001b[49m\u001b[43m,\u001b[49m\u001b[43m \u001b[49m\u001b[43mnp\u001b[49m\u001b[38;5;241;43m.\u001b[39;49m\u001b[43marray\u001b[49m\u001b[43m(\u001b[49m\u001b[43m[\u001b[49m\u001b[43m]\u001b[49m\u001b[43m)\u001b[49m\u001b[43m)\u001b[49m\n",
      "File \u001b[0;32m/mnt/Datastore/usr/kptruong/dasly_repo/dasly/utils.py:422\u001b[0m, in \u001b[0;36mcalculate_line_gap\u001b[0;34m(lines1, lines2)\u001b[0m\n\u001b[1;32m    420\u001b[0m \u001b[38;5;66;03m# Convert timestamps to numeric values\u001b[39;00m\n\u001b[1;32m    421\u001b[0m lines1 \u001b[38;5;241m=\u001b[39m convert_to_numeric(lines1)  \u001b[38;5;66;03m# Shape (N, 4)\u001b[39;00m\n\u001b[0;32m--> 422\u001b[0m lines2 \u001b[38;5;241m=\u001b[39m \u001b[43mconvert_to_numeric\u001b[49m\u001b[43m(\u001b[49m\u001b[43mlines2\u001b[49m\u001b[43m)\u001b[49m  \u001b[38;5;66;03m# Shape (M, 4)\u001b[39;00m\n\u001b[1;32m    424\u001b[0m \u001b[38;5;66;03m# Calculate slopes m for each line segment (N, )\u001b[39;00m\n\u001b[1;32m    425\u001b[0m slope1 \u001b[38;5;241m=\u001b[39m calculate_slope(lines1)  \u001b[38;5;66;03m# Shape (N, )\u001b[39;00m\n",
      "File \u001b[0;32m/mnt/Datastore/usr/kptruong/dasly_repo/dasly/utils.py:481\u001b[0m, in \u001b[0;36mconvert_to_numeric\u001b[0;34m(lines)\u001b[0m\n\u001b[1;32m    479\u001b[0m \u001b[38;5;66;03m# Create a copy of the original array to avoid modifying it\u001b[39;00m\n\u001b[1;32m    480\u001b[0m lines_copy \u001b[38;5;241m=\u001b[39m lines\u001b[38;5;241m.\u001b[39mcopy()\n\u001b[0;32m--> 481\u001b[0m \u001b[38;5;28;01mfor\u001b[39;00m i \u001b[38;5;129;01min\u001b[39;00m \u001b[38;5;28mrange\u001b[39m(\u001b[43mlines_copy\u001b[49m\u001b[38;5;241;43m.\u001b[39;49m\u001b[43mshape\u001b[49m\u001b[43m[\u001b[49m\u001b[38;5;241;43m1\u001b[39;49m\u001b[43m]\u001b[49m):\n\u001b[1;32m    482\u001b[0m     \u001b[38;5;28;01mif\u001b[39;00m \u001b[38;5;28misinstance\u001b[39m(lines_copy[:, i][\u001b[38;5;241m0\u001b[39m], (pd\u001b[38;5;241m.\u001b[39mTimestamp, datetime)):\n\u001b[1;32m    483\u001b[0m         lines_copy[:, i] \u001b[38;5;241m=\u001b[39m (\n\u001b[1;32m    484\u001b[0m             lines_copy[:, i]\u001b[38;5;241m.\u001b[39mastype(\u001b[38;5;124m'\u001b[39m\u001b[38;5;124mdatetime64[ns]\u001b[39m\u001b[38;5;124m'\u001b[39m)\u001b[38;5;241m.\u001b[39mastype(\u001b[38;5;28mint\u001b[39m) \u001b[38;5;241m/\u001b[39m \u001b[38;5;241m10\u001b[39m\u001b[38;5;241m*\u001b[39m\u001b[38;5;241m*\u001b[39m\u001b[38;5;241m9\u001b[39m)\n",
      "\u001b[0;31mIndexError\u001b[0m: tuple index out of range"
     ]
    }
   ],
   "source": [
    "calculate_line_gap(lines1, np.array([]))"
   ]
  },
  {
   "cell_type": "code",
   "execution_count": 9,
   "metadata": {},
   "outputs": [
    {
     "data": {
      "text/plain": [
       "array([[       inf, 0.81213601, 0.00895534],\n",
       "       [0.67197529,       -inf, 0.06570769],\n",
       "       [0.9702405 , 0.9613724 ,        nan],\n",
       "       [0.05827237, 0.50041831, 0.01480279]])"
      ]
     },
     "execution_count": 9,
     "metadata": {},
     "output_type": "execute_result"
    }
   ],
   "source": [
    "import numpy as np\n",
    "\n",
    "# Create a 4x3 array of random floats\n",
    "random_floats = np.random.random((4, 3))\n",
    "\n",
    "# Introduce some inf and nan values\n",
    "random_floats[0, 0] = np.inf   # Set one element to infinity\n",
    "random_floats[1, 1] = -np.inf  # Set one element to negative infinity\n",
    "random_floats[2, 2] = np.nan   # Set one element to NaN\n",
    "random_floats"
   ]
  },
  {
   "cell_type": "code",
   "execution_count": 11,
   "metadata": {},
   "outputs": [
    {
     "data": {
      "text/plain": [
       "array([3, 1, 0])"
      ]
     },
     "execution_count": 11,
     "metadata": {},
     "output_type": "execute_result"
    }
   ],
   "source": [
    "# Find the indices of the minimum distances\n",
    "min_indices = np.nanargmin(random_floats, axis=0)\n",
    "min_indices"
   ]
  },
  {
   "cell_type": "code",
   "execution_count": 13,
   "metadata": {},
   "outputs": [
    {
     "data": {
      "text/plain": [
       "array([0.05827237,       -inf, 0.00895534])"
      ]
     },
     "execution_count": 13,
     "metadata": {},
     "output_type": "execute_result"
    }
   ],
   "source": [
    "# Find the minimum distances for each point in b\n",
    "min_distances = np.nanmin(random_floats, axis=0)\n",
    "min_distances"
   ]
  },
  {
   "cell_type": "code",
   "execution_count": null,
   "metadata": {},
   "outputs": [],
   "source": []
  },
  {
   "cell_type": "code",
   "execution_count": 6,
   "metadata": {},
   "outputs": [
    {
     "data": {
      "text/plain": [
       "(array([-inf,  inf]), array([-0.,  0.]))"
      ]
     },
     "execution_count": 6,
     "metadata": {},
     "output_type": "execute_result"
    }
   ],
   "source": [
    "a = np.array([[11, 12, 10, 12], [10, 11, 11, 11]])\n",
    "calculate_speed(a), calculate_slope(a)"
   ]
  },
  {
   "cell_type": "code",
   "execution_count": 8,
   "metadata": {},
   "outputs": [
    {
     "data": {
      "text/plain": [
       "array([False, False])"
      ]
     },
     "execution_count": 8,
     "metadata": {},
     "output_type": "execute_result"
    }
   ],
   "source": [
    "calculate_slope(a) < 0"
   ]
  },
  {
   "cell_type": "code",
   "execution_count": null,
   "metadata": {},
   "outputs": [],
   "source": []
  },
  {
   "cell_type": "code",
   "execution_count": null,
   "metadata": {},
   "outputs": [],
   "source": []
  },
  {
   "cell_type": "code",
   "execution_count": 17,
   "metadata": {},
   "outputs": [
    {
     "data": {
      "text/plain": [
       "inf"
      ]
     },
     "execution_count": 17,
     "metadata": {},
     "output_type": "execute_result"
    }
   ],
   "source": [
    "calculate_slope()"
   ]
  },
  {
   "cell_type": "code",
   "execution_count": 7,
   "metadata": {},
   "outputs": [
    {
     "ename": "ZeroDivisionError",
     "evalue": "division by zero",
     "output_type": "error",
     "traceback": [
      "\u001b[0;31m---------------------------------------------------------------------------\u001b[0m",
      "\u001b[0;31mZeroDivisionError\u001b[0m                         Traceback (most recent call last)",
      "Cell \u001b[0;32mIn[7], line 1\u001b[0m\n\u001b[0;32m----> 1\u001b[0m \u001b[38;5;241;43m0\u001b[39;49m\u001b[38;5;241;43m/\u001b[39;49m\u001b[38;5;241;43m0\u001b[39;49m\n",
      "\u001b[0;31mZeroDivisionError\u001b[0m: division by zero"
     ]
    }
   ],
   "source": [
    "0/0"
   ]
  },
  {
   "cell_type": "code",
   "execution_count": 5,
   "metadata": {},
   "outputs": [
    {
     "data": {
      "text/plain": [
       "array([3, 1, 2])"
      ]
     },
     "execution_count": 5,
     "metadata": {},
     "output_type": "execute_result"
    }
   ],
   "source": [
    "np.argmin(random_floats, axis=0)"
   ]
  },
  {
   "cell_type": "code",
   "execution_count": null,
   "metadata": {},
   "outputs": [],
   "source": []
  },
  {
   "cell_type": "code",
   "execution_count": null,
   "metadata": {},
   "outputs": [],
   "source": []
  },
  {
   "cell_type": "code",
   "execution_count": null,
   "metadata": {},
   "outputs": [],
   "source": []
  },
  {
   "cell_type": "code",
   "execution_count": 7,
   "metadata": {},
   "outputs": [
    {
     "data": {
      "text/plain": [
       "inf"
      ]
     },
     "execution_count": 7,
     "metadata": {},
     "output_type": "execute_result"
    }
   ],
   "source": [
    "# Find the indices of the minimum distances\n",
    "min_indices = np.argmin(random_floats, axis=0)\n",
    "# Find the minimum distances for each point in b\n",
    "min_distances = np.min(random_floats, axis=0)\n",
    "# Create a mask for distances below the threshold\n",
    "mask = min_distances < threshold\n",
    "# Create an array to hold the new names\n",
    "lines_id_reassigned = np.where(\n",
    "    mask, previous_lines_id[min_indices], lines_id)\n",
    "return lines_id_reassigned"
   ]
  },
  {
   "cell_type": "code",
   "execution_count": 5,
   "metadata": {},
   "outputs": [
    {
     "name": "stdout",
     "output_type": "stream",
     "text": [
      "0 0\n",
      "78.0\n"
     ]
    },
    {
     "ename": "TypeError",
     "evalue": "float() argument must be a string or a number, not 'Timestamp'",
     "output_type": "error",
     "traceback": [
      "\u001b[0;31m---------------------------------------------------------------------------\u001b[0m",
      "\u001b[0;31mTypeError\u001b[0m                                 Traceback (most recent call last)",
      "Cell \u001b[0;32mIn[5], line 5\u001b[0m\n\u001b[1;32m      3\u001b[0m \u001b[38;5;28mprint\u001b[39m(num_i, num_j)\n\u001b[1;32m      4\u001b[0m \u001b[38;5;28mprint\u001b[39m(result[num_i, num_j])\n\u001b[0;32m----> 5\u001b[0m validate \u001b[38;5;241m=\u001b[39m \u001b[43mgap_line\u001b[49m\u001b[43m(\u001b[49m\u001b[43mi\u001b[49m\u001b[43m,\u001b[49m\u001b[43m \u001b[49m\u001b[43mj\u001b[49m\u001b[43m)\u001b[49m\n\u001b[1;32m      6\u001b[0m \u001b[38;5;28mprint\u001b[39m(validate)\n\u001b[1;32m      7\u001b[0m \u001b[38;5;28mprint\u001b[39m()\n",
      "File \u001b[0;32m/mnt/Datastore/usr/kptruong/dasly_repo/dasly/utils.py:569\u001b[0m, in \u001b[0;36mgap_line\u001b[0;34m(line1, line2)\u001b[0m\n\u001b[1;32m    566\u001b[0m overlap_x \u001b[38;5;241m=\u001b[39m np\u001b[38;5;241m.\u001b[39marange(\u001b[38;5;28mint\u001b[39m(min_overlap_x), \u001b[38;5;28mint\u001b[39m(max_overlap_x) \u001b[38;5;241m+\u001b[39m \u001b[38;5;241m1\u001b[39m, dtype\u001b[38;5;241m=\u001b[39mnp\u001b[38;5;241m.\u001b[39mfloat64)\n\u001b[1;32m    568\u001b[0m \u001b[38;5;66;03m# Interpolate the y values for both lines at the overlapping x indices\u001b[39;00m\n\u001b[0;32m--> 569\u001b[0m y1_at_x \u001b[38;5;241m=\u001b[39m \u001b[43minterpolate_vectorized\u001b[49m\u001b[43m(\u001b[49m\u001b[43mx1_1\u001b[49m\u001b[43m,\u001b[49m\u001b[43m \u001b[49m\u001b[43my1_1\u001b[49m\u001b[43m,\u001b[49m\u001b[43m \u001b[49m\u001b[43mx2_1\u001b[49m\u001b[43m,\u001b[49m\u001b[43m \u001b[49m\u001b[43my2_1\u001b[49m\u001b[43m,\u001b[49m\u001b[43m \u001b[49m\u001b[43moverlap_x\u001b[49m\u001b[43m)\u001b[49m\n\u001b[1;32m    570\u001b[0m y2_at_x \u001b[38;5;241m=\u001b[39m interpolate_vectorized(x1_2, y1_2, x2_2, y2_2, overlap_x)\n\u001b[1;32m    572\u001b[0m \u001b[38;5;66;03m# Calculate the time gaps and return the average\u001b[39;00m\n",
      "File \u001b[0;32m/mnt/Datastore/usr/kptruong/dasly_repo/dasly/utils.py:537\u001b[0m, in \u001b[0;36minterpolate_vectorized\u001b[0;34m(x1, y1, x2, y2, x)\u001b[0m\n\u001b[1;32m    535\u001b[0m x1 \u001b[38;5;241m=\u001b[39m np\u001b[38;5;241m.\u001b[39masarray(x1, dtype\u001b[38;5;241m=\u001b[39mnp\u001b[38;5;241m.\u001b[39mfloat64)\n\u001b[1;32m    536\u001b[0m x2 \u001b[38;5;241m=\u001b[39m np\u001b[38;5;241m.\u001b[39masarray(x2, dtype\u001b[38;5;241m=\u001b[39mnp\u001b[38;5;241m.\u001b[39mfloat64)\n\u001b[0;32m--> 537\u001b[0m y1 \u001b[38;5;241m=\u001b[39m \u001b[43mnp\u001b[49m\u001b[38;5;241;43m.\u001b[39;49m\u001b[43masarray\u001b[49m\u001b[43m(\u001b[49m\u001b[43my1\u001b[49m\u001b[43m,\u001b[49m\u001b[43m \u001b[49m\u001b[43mdtype\u001b[49m\u001b[38;5;241;43m=\u001b[39;49m\u001b[43mnp\u001b[49m\u001b[38;5;241;43m.\u001b[39;49m\u001b[43mfloat64\u001b[49m\u001b[43m)\u001b[49m\n\u001b[1;32m    538\u001b[0m y2 \u001b[38;5;241m=\u001b[39m np\u001b[38;5;241m.\u001b[39masarray(y2, dtype\u001b[38;5;241m=\u001b[39mnp\u001b[38;5;241m.\u001b[39mfloat64)\n\u001b[1;32m    539\u001b[0m x \u001b[38;5;241m=\u001b[39m np\u001b[38;5;241m.\u001b[39masarray(x, dtype\u001b[38;5;241m=\u001b[39mnp\u001b[38;5;241m.\u001b[39mfloat64)\n",
      "\u001b[0;31mTypeError\u001b[0m: float() argument must be a string or a number, not 'Timestamp'"
     ]
    }
   ],
   "source": [
    "for num_i, i in enumerate(lines1):\n",
    "    for num_j, j in enumerate(lines3):\n",
    "        print(num_i, num_j)\n",
    "        print(result[num_i, num_j])\n",
    "        validate = gap_line(i, j)\n",
    "        print(validate)\n",
    "        print()"
   ]
  },
  {
   "cell_type": "code",
   "execution_count": null,
   "metadata": {},
   "outputs": [],
   "source": []
  },
  {
   "cell_type": "code",
   "execution_count": null,
   "metadata": {},
   "outputs": [],
   "source": []
  },
  {
   "cell_type": "code",
   "execution_count": null,
   "metadata": {},
   "outputs": [],
   "source": []
  },
  {
   "cell_type": "code",
   "execution_count": 13,
   "metadata": {},
   "outputs": [
    {
     "name": "stdout",
     "output_type": "stream",
     "text": [
      "0\n",
      "1\n",
      "2\n",
      "3\n"
     ]
    }
   ],
   "source": [
    "for num_i, i in enumerate(lines4):\n",
    "    print(num_i)"
   ]
  },
  {
   "cell_type": "code",
   "execution_count": null,
   "metadata": {},
   "outputs": [],
   "source": []
  }
 ],
 "metadata": {
  "kernelspec": {
   "display_name": "kptruong",
   "language": "python",
   "name": "python3"
  },
  "language_info": {
   "codemirror_mode": {
    "name": "ipython",
    "version": 3
   },
   "file_extension": ".py",
   "mimetype": "text/x-python",
   "name": "python",
   "nbconvert_exporter": "python",
   "pygments_lexer": "ipython3",
   "version": "3.9.18"
  }
 },
 "nbformat": 4,
 "nbformat_minor": 2
}
