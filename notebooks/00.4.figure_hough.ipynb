{
 "cells": [
  {
   "cell_type": "code",
   "execution_count": 1,
   "metadata": {},
   "outputs": [],
   "source": [
    "from dasly.master import Dasly\n",
    "import numpy as np\n",
    "import pandas as pd\n",
    "import yaml\n",
    "import matplotlib.pyplot as plt\n",
    "import seaborn as sns"
   ]
  },
  {
   "cell_type": "code",
   "execution_count": 2,
   "metadata": {},
   "outputs": [],
   "source": [
    "# Define the path to the YAML file\n",
    "yaml_path = '../config_aastfjordbrua.yml'\n",
    "\n",
    "# Open and read the YAML file\n",
    "with open(yaml_path, 'r') as file:\n",
    "    params = yaml.safe_load(file)\n",
    "\n",
    "\n",
    "# Access parameters from the YAML file\n",
    "input_dir = params['input_dir']\n",
    "start_exact_second = params['start_exact_second']\n",
    "integrate = params['integrate']\n",
    "\n",
    "database_type = params['database']['type']\n",
    "dbapi = params['database']['dbapi']\n",
    "endpoint = params['database']['endpoint']\n",
    "port = params['database']['port']\n",
    "database = params['database']['database']\n",
    "database_table = params['database']['table']\n",
    "\n",
    "hdf5_file_length = params['hdf5_file_length']\n",
    "batch = params['dasly']['batch']\n",
    "batch_gap = params['dasly']['batch_gap']\n",
    "\n",
    "lowpass_filter_freq = params['lowpass_filter_freq']\n",
    "decimate_t_rate = params['decimate_t_rate']\n",
    "\n",
    "gaussian_smooth_s1 = params['gaussian_smooth']['s1']\n",
    "gaussian_smooth_s2 = params['gaussian_smooth']['s2']\n",
    "gaussian_smooth_std_s = params['gaussian_smooth']['std_s']\n",
    "\n",
    "binary_threshold = params['binary_threshold']\n",
    "\n",
    "hough_speed_res = params['hough_transform']['speed_res']\n",
    "hough_length_meters = params['hough_transform']['length_meters']\n",
    "\n",
    "dbscan_eps_seconds = params['dbscan_eps_seconds']"
   ]
  },
  {
   "cell_type": "code",
   "execution_count": 3,
   "metadata": {},
   "outputs": [
    {
     "name": "stderr",
     "output_type": "stream",
     "text": [
      "7 files, from 082354 to 082454\n"
     ]
    }
   ],
   "source": [
    "chIndex_all = np.arange(0, 800)\n",
    "chIndex_remove1 = np.arange(0, 36)\n",
    "chIndex_remove2 = np.arange(365, 387)\n",
    "chIndex_remove3 = np.arange(751, 800)\n",
    "chIndex_remove = np.concatenate((\n",
    "    chIndex_remove1, chIndex_remove2, chIndex_remove3))\n",
    "chIndex = np.setdiff1d(chIndex_all, chIndex_remove)\n",
    "das = Dasly()\n",
    "das.load_data(\n",
    "    folder_path='/media/kptruong/yellow02/Aastfjordbrua/Aastfjordbrua/',\n",
    "    start='20231005 082400',  # One car\n",
    "    # start='20231005 085100',  # Noise\n",
    "    duration=60,\n",
    "    integrate=False,\n",
    "    chIndex=chIndex,\n",
    "    reset_channel_idx=True,\n",
    ")"
   ]
  },
  {
   "cell_type": "code",
   "execution_count": 6,
   "metadata": {},
   "outputs": [
    {
     "name": "stderr",
     "output_type": "stream",
     "text": [
      "Signal updated with low-pass filter.\n",
      "Signal updated with new temporal sampling rate 8.\n",
      "Signal updated with Gaussian smoothing.\n",
      "Signal updated with Sobel filter.\n",
      "Signal updated with binary transform with threshold 2e-08.\n",
      "3 lines are detected.\n"
     ]
    },
    {
     "data": {
      "image/png": "[encoded data removed]",
      "text/plain": [
       "<Figure size 640x480 with 2 Axes>"
      ]
     },
     "metadata": {},
     "output_type": "display_data"
    }
   ],
   "source": [
    "das.reset()\n",
    "# forward Gaussian smoothing\n",
    "###########################################################################\n",
    "das.lowpass_filter(cutoff=lowpass_filter_freq)\n",
    "das.decimate(t_rate=decimate_t_rate)\n",
    "das.gaussian_smooth(\n",
    "    s1=80,\n",
    "    s2=90,\n",
    "    std_s=10)\n",
    "das.sobel_filter()\n",
    "das.binary_transform(threshold=2e-8)\n",
    "das.hough_transform(target_speed=85, speed_res=0.5, length_meters=500)\n",
    "das.heatmap(colorbar_label='Hough transform')"
   ]
  },
  {
   "cell_type": "code",
   "execution_count": 5,
   "metadata": {},
   "outputs": [
    {
     "data": {
      "text/html": [
       "<div>\n",
       "<style scoped>\n",
       "    .dataframe tbody tr th:only-of-type {\n",
       "        vertical-align: middle;\n",
       "    }\n",
       "\n",
       "    .dataframe tbody tr th {\n",
       "        vertical-align: top;\n",
       "    }\n",
       "\n",
       "    .dataframe thead th {\n",
       "        text-align: right;\n",
       "    }\n",
       "</style>\n",
       "<table border=\"1\" class=\"dataframe\">\n",
       "  <thead>\n",
       "    <tr style=\"text-align: right;\">\n",
       "      <th></th>\n",
       "      <th>s</th>\n",
       "      <th>t</th>\n",
       "      <th>speed_kmh</th>\n",
       "    </tr>\n",
       "  </thead>\n",
       "  <tbody>\n",
       "    <tr>\n",
       "      <th>0</th>\n",
       "      <td>669.0</td>\n",
       "      <td>28.000</td>\n",
       "      <td>86.014286</td>\n",
       "    </tr>\n",
       "    <tr>\n",
       "      <th>1</th>\n",
       "      <td>626.0</td>\n",
       "      <td>26.125</td>\n",
       "      <td>86.262201</td>\n",
       "    </tr>\n",
       "    <tr>\n",
       "      <th>2</th>\n",
       "      <td>684.0</td>\n",
       "      <td>28.375</td>\n",
       "      <td>86.780617</td>\n",
       "    </tr>\n",
       "  </tbody>\n",
       "</table>\n",
       "</div>"
      ],
      "text/plain": [
       "       s       t  speed_kmh\n",
       "0  669.0  28.000  86.014286\n",
       "1  626.0  26.125  86.262201\n",
       "2  684.0  28.375  86.780617"
      ]
     },
     "execution_count": 5,
     "metadata": {},
     "output_type": "execute_result"
    }
   ],
   "source": [
    "das.lines_df[['s', 't', 'speed_kmh']]"
   ]
  },
  {
   "cell_type": "code",
   "execution_count": null,
   "metadata": {},
   "outputs": [],
   "source": []
  }
 ],
 "metadata": {
  "kernelspec": {
   "display_name": "kptruong",
   "language": "python",
   "name": "python3"
  },
  "language_info": {
   "codemirror_mode": {
    "name": "ipython",
    "version": 3
   },
   "file_extension": ".py",
   "mimetype": "text/x-python",
   "name": "python",
   "nbconvert_exporter": "python",
   "pygments_lexer": "ipython3",
   "version": "3.9.18"
  }
 },
 "nbformat": 4,
 "nbformat_minor": 2
}
